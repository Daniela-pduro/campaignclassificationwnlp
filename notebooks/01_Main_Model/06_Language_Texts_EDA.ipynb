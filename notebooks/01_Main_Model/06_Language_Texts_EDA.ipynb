{
 "cells": [
  {
   "cell_type": "markdown",
   "metadata": {},
   "source": [
    "# Email Marketing Campaigns Optimization Model with NLP\n",
    "\n",
    "\n",
    "### Jupyter Notebook 6/10"
   ]
  },
  {
   "cell_type": "markdown",
   "metadata": {},
   "source": [
    "#### Importing Classes from the module `campaigns`"
   ]
  },
  {
   "cell_type": "code",
   "execution_count": 1,
   "metadata": {},
   "outputs": [
    {
     "name": "stderr",
     "output_type": "stream",
     "text": [
      "[nltk_data] Downloading package stopwords to\n",
      "[nltk_data]     /Users/danielaperezduro/nltk_data...\n",
      "[nltk_data]   Package stopwords is already up-to-date!\n",
      "[nltk_data] Downloading package punkt to\n",
      "[nltk_data]     /Users/danielaperezduro/nltk_data...\n",
      "[nltk_data]   Package punkt is already up-to-date!\n"
     ]
    },
    {
     "data": {
      "text/plain": [
       "True"
      ]
     },
     "execution_count": 1,
     "metadata": {},
     "output_type": "execute_result"
    }
   ],
   "source": [
    "import sys\n",
    "sys.path.append('..')\n",
    "\n",
    "\n",
    "import warnings\n",
    "warnings.filterwarnings('ignore')\n",
    "\n",
    "# Get files\n",
    "from campaigns.getinputdata import LanguageFileGetInfo\n",
    "\n",
    "# Texts Preprocessing with NLP\n",
    "from campaigns.modeling.nlp import StopWordsRemover\n",
    "\n",
    "# Exploratory Analysis\n",
    "from campaigns.texteda import CorporaExploratory, NGramsExploratory\n",
    "\n",
    "# Stopwords\n",
    "import nltk\n",
    "nltk.download('stopwords')\n",
    "nltk.download('punkt')"
   ]
  },
  {
   "cell_type": "markdown",
   "metadata": {},
   "source": [
    "#### 4.2.4.2. Getting the selected language file\n",
    "\n",
    "- We will start with the language with the greatest number of observations in our file."
   ]
  },
  {
   "cell_type": "code",
   "execution_count": 2,
   "metadata": {},
   "outputs": [
    {
     "name": "stdout",
     "output_type": "stream",
     "text": [
      "Spanish:  (79676, 15)\n"
     ]
    }
   ],
   "source": [
    "# Creating an instance\n",
    "\n",
    "spanish = LanguageFileGetInfo(dataroot='../../../datasets/output/sample_01/output_05', datafile='es.csv')\n",
    "\n",
    "spanish.language_df.dropna(subset=['clean_message'], inplace=True)\n",
    "\n",
    "print('Spanish: ', spanish.language_df.shape)"
   ]
  },
  {
   "cell_type": "markdown",
   "metadata": {},
   "source": [
    "#### 4.2.4.3. NLP Exploratory Data Analysis of  `campaigns` texts"
   ]
  },
  {
   "cell_type": "markdown",
   "metadata": {},
   "source": [
    "#### Removing stopwords"
   ]
  },
  {
   "cell_type": "code",
   "execution_count": 3,
   "metadata": {},
   "outputs": [],
   "source": [
    "# Creating an instance\n",
    "\n",
    "spanish_sw = StopWordsRemover(spanish.language_df, 'spanish')"
   ]
  },
  {
   "cell_type": "code",
   "execution_count": 4,
   "metadata": {},
   "outputs": [],
   "source": [
    "spanish_sw.remove_stopwords()"
   ]
  },
  {
   "cell_type": "code",
   "execution_count": 5,
   "metadata": {},
   "outputs": [],
   "source": [
    "#ngrams_list = []\n",
    "#spanish_sw.add_ngrams_to_file(ngrams_list)"
   ]
  },
  {
   "cell_type": "code",
   "execution_count": 6,
   "metadata": {},
   "outputs": [],
   "source": [
    "irrelevant_list = spanish_sw.get_ngrams_from_file()"
   ]
  },
  {
   "cell_type": "code",
   "execution_count": 7,
   "metadata": {},
   "outputs": [],
   "source": [
    "#irrelevant_list"
   ]
  },
  {
   "cell_type": "code",
   "execution_count": 8,
   "metadata": {},
   "outputs": [],
   "source": [
    "spanish_sw.remove_ngrams(irrelevant_list)"
   ]
  },
  {
   "cell_type": "markdown",
   "metadata": {},
   "source": [
    "#### Saving file"
   ]
  },
  {
   "cell_type": "code",
   "execution_count": 11,
   "metadata": {},
   "outputs": [],
   "source": [
    "spanish_sw.save_final_df('../../../datasets/output/sample_01/output_06/', 'es.csv')"
   ]
  },
  {
   "cell_type": "markdown",
   "metadata": {},
   "source": [
    "#### Observing each category corpus after having removed noisy phrases and stopwords"
   ]
  },
  {
   "cell_type": "code",
   "execution_count": 12,
   "metadata": {},
   "outputs": [],
   "source": [
    "# Obtaining input\n",
    "\n",
    "spanish = LanguageFileGetInfo(dataroot='../../../datasets/output/sample_01/output_06/', datafile='es.csv')"
   ]
  },
  {
   "cell_type": "code",
   "execution_count": 13,
   "metadata": {},
   "outputs": [
    {
     "name": "stdout",
     "output_type": "stream",
     "text": [
      "Getting labeled messages\n",
      "Tokenizing messages\n",
      "Removing empty tokens\n",
      "Filtering by verticals: media, ecommerce, nonprofit, education, wellness, finance, architecture, government, technology, leisure, entertainment, legal, catering and association\n",
      "Getting vertical corpora\n"
     ]
    },
    {
     "data": {
      "text/plain": [
       "9963"
      ]
     },
     "execution_count": 13,
     "metadata": {},
     "output_type": "execute_result"
    }
   ],
   "source": [
    "# Creating an instance and observing the number of labeled messages by sector\n",
    "\n",
    "spanish_corp = CorporaExploratory(spanish.language_df)\n",
    "len(spanish_corp.labeled)"
   ]
  },
  {
   "cell_type": "code",
   "execution_count": 14,
   "metadata": {},
   "outputs": [
    {
     "name": "stdout",
     "output_type": "stream",
     "text": [
      "(1608, 15)\n",
      "13549\n"
     ]
    }
   ],
   "source": [
    "print(spanish_corp.ecommerce.shape)\n",
    "print(len(spanish_corp.ecommerce_corpus))"
   ]
  },
  {
   "cell_type": "code",
   "execution_count": 15,
   "metadata": {},
   "outputs": [
    {
     "data": {
      "text/plain": [
       "Medios de comunicación, marketing y publicidad      1764\n",
       "Ecommerce                                           1608\n",
       "Sin ánimo de lucro                                  1482\n",
       "Educación y empleo                                  1385\n",
       "Salud, bienestar y cuidado personal                  630\n",
       "Negocios, finanzas y banca                           569\n",
       "Arquitectura, construcción y sector inmobiliario     503\n",
       "Ordenadores, electrónica y tecnología móvil          459\n",
       "Órganos de gobierno                                  450\n",
       "Ocio, turismo y experiencias                         434\n",
       "Entretenimiento, eventos y relaciones públicas       357\n",
       "Legal y seguros                                      165\n",
       "Restauración                                         117\n",
       "Asociación cultural o religiosa                       40\n",
       "Name: sector, dtype: int64"
      ]
     },
     "execution_count": 15,
     "metadata": {},
     "output_type": "execute_result"
    }
   ],
   "source": [
    "spanish_corp.labeled['sector'].value_counts()"
   ]
  },
  {
   "cell_type": "code",
   "execution_count": 16,
   "metadata": {},
   "outputs": [
    {
     "data": {
      "image/png": "[encoded data removed]",
      "text/plain": [
       "<Figure size 576x864 with 1 Axes>"
      ]
     },
     "metadata": {
      "needs_background": "light"
     },
     "output_type": "display_data"
    }
   ],
   "source": [
    "spanish_corp.plot_corpora_size()"
   ]
  },
  {
   "cell_type": "markdown",
   "metadata": {},
   "source": [
    "#### Getting most relevant words from our corpora"
   ]
  },
  {
   "cell_type": "code",
   "execution_count": 17,
   "metadata": {},
   "outputs": [
    {
     "name": "stdout",
     "output_type": "stream",
     "text": [
      "Getting labeled messages\n",
      "Tokenizing sentences\n",
      "Filtering by verticals: media, ecommerce, nonprofit, education, wellness, finance, architecture, government, technology, leisure, entertainment, legal, catering and association\n"
     ]
    }
   ],
   "source": [
    "# Create an instance\n",
    "\n",
    "spanish_ngrms = NGramsExploratory(spanish_corp.language_df)"
   ]
  },
  {
   "cell_type": "code",
   "execution_count": 18,
   "metadata": {},
   "outputs": [],
   "source": [
    "#spanish_ngrms.get_ngrams(spanish_ngrms.ecommerce, 4, most_common=3)"
   ]
  }
 ],
 "metadata": {
  "kernelspec": {
   "display_name": "Python 3",
   "language": "python",
   "name": "python3"
  },
  "language_info": {
   "codemirror_mode": {
    "name": "ipython",
    "version": 3
   },
   "file_extension": ".py",
   "mimetype": "text/x-python",
   "name": "python",
   "nbconvert_exporter": "python",
   "pygments_lexer": "ipython3",
   "version": "3.8.3"
  }
 },
 "nbformat": 4,
 "nbformat_minor": 5
}
