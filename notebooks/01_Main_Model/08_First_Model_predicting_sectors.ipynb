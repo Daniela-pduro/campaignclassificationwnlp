{
 "cells": [
  {
   "cell_type": "markdown",
   "id": "signal-sessions",
   "metadata": {},
   "source": [
    "# Email Marketing Campaigns Optimization Model with NLP\n",
    "\n",
    "\n",
    "### Jupyter Notebook 8/10"
   ]
  },
  {
   "cell_type": "markdown",
   "id": "suspected-aberdeen",
   "metadata": {},
   "source": [
    "#### Importing Classes from the module `campaigns`"
   ]
  },
  {
   "cell_type": "code",
   "execution_count": 1,
   "id": "incredible-orbit",
   "metadata": {},
   "outputs": [],
   "source": [
    "import sys\n",
    "sys.path.append('..')\n",
    "\n",
    "\n",
    "import warnings\n",
    "warnings.filterwarnings('ignore')\n",
    "\n",
    "# Get files\n",
    "from campaigns.getinputdata import LanguageFileGetInfo, CleanCampaignsFileGetInfo\n",
    "\n",
    "# Feature Engineering\n",
    "from campaigns.modeling.preprocessing import VerticalEncoder, MergePredicted\n",
    "\n",
    "# Texts Preprocessing\n",
    "from campaigns.modeling.nlp import VerticalMessagePreprocessor, VerticalModelTFIDFVectorizer\n",
    "\n",
    "# Texts Classification\n",
    "from campaigns.modeling.classifiers import MultinomialNBClassifier"
   ]
  },
  {
   "cell_type": "markdown",
   "id": "mexican-revolution",
   "metadata": {},
   "source": [
    "#### 4.2.7.2 Making Predictions on New Data\n",
    "\n",
    "We will use the TF-IDF approach to label messages in the target domain.\n",
    "\n",
    "Steps:\n",
    "\n",
    "1. Get language file.\n",
    "2. Preprocess texts from `campaigns` column.\n",
    "3. Encode vertical.\n",
    "4. Split the dataset to create a set with the unlabeled messages and a set with the labeled ones.\n",
    "5. Vectorize texts from `campaigns` column & SMOTE oversampling `target_train`"
   ]
  },
  {
   "cell_type": "markdown",
   "id": "intense-pillow",
   "metadata": {},
   "source": [
    "#### Getting language file"
   ]
  },
  {
   "cell_type": "code",
   "execution_count": 2,
   "id": "similar-playback",
   "metadata": {},
   "outputs": [
    {
     "data": {
      "text/plain": [
       "(79675, 15)"
      ]
     },
     "execution_count": 2,
     "metadata": {},
     "output_type": "execute_result"
    }
   ],
   "source": [
    "spanish = LanguageFileGetInfo(dataroot='../../../datasets/output/sample_01/output_06/', datafile='es.csv')\n",
    "spanish.language_df.shape"
   ]
  },
  {
   "cell_type": "markdown",
   "id": "arbitrary-cycling",
   "metadata": {},
   "source": [
    "#### Preprocessing texts"
   ]
  },
  {
   "cell_type": "code",
   "execution_count": 3,
   "id": "incomplete-specialist",
   "metadata": {},
   "outputs": [],
   "source": [
    "spanish = VerticalMessagePreprocessor(spanish.language_df, 'spanish', remove_unlabeled=False)"
   ]
  },
  {
   "cell_type": "code",
   "execution_count": 4,
   "id": "representative-aging",
   "metadata": {},
   "outputs": [],
   "source": [
    "spanish.preprocess_message(flag_stemming=True)"
   ]
  },
  {
   "cell_type": "markdown",
   "id": "fossil-minority",
   "metadata": {},
   "source": [
    "#### Saving the file"
   ]
  },
  {
   "cell_type": "code",
   "execution_count": 5,
   "id": "coral-adams",
   "metadata": {},
   "outputs": [
    {
     "data": {
      "text/plain": [
       "Index(['sender', 'subject', 'date_sent', 'total_sent', 'customer_cat', 'opens',\n",
       "       'clicks', 'sector', 'message', 'campaign_id', 'open_rate', 'ctr',\n",
       "       'ctor', 'clean_subject', 'clean_message'],\n",
       "      dtype='object')"
      ]
     },
     "execution_count": 5,
     "metadata": {},
     "output_type": "execute_result"
    }
   ],
   "source": [
    "spanish.language_df.columns"
   ]
  },
  {
   "cell_type": "code",
   "execution_count": 6,
   "id": "removed-cabinet",
   "metadata": {},
   "outputs": [],
   "source": [
    "spanish.save_final_df('../../../datasets/output/sample_01/output_07/', 'es.csv')"
   ]
  },
  {
   "cell_type": "markdown",
   "id": "grave-above",
   "metadata": {},
   "source": [
    "#### Encoding vertical"
   ]
  },
  {
   "cell_type": "code",
   "execution_count": 7,
   "id": "acknowledged-stable",
   "metadata": {},
   "outputs": [],
   "source": [
    "# Getting the file with clean texts\n",
    "# Creating an instance\n",
    "\n",
    "spanish = CleanCampaignsFileGetInfo('../../../datasets/output/sample_01/output_07/', 'es.csv')"
   ]
  },
  {
   "cell_type": "code",
   "execution_count": 8,
   "id": "suited-devices",
   "metadata": {},
   "outputs": [],
   "source": [
    "# Creating an instance \n",
    "\n",
    "spanish = VerticalEncoder(spanish.language_df)"
   ]
  },
  {
   "cell_type": "code",
   "execution_count": 9,
   "id": "peripheral-sunrise",
   "metadata": {},
   "outputs": [
    {
     "data": {
      "text/plain": [
       "array([nan, 'Entretenimiento, eventos y relaciones públicas',\n",
       "       'Negocios, finanzas y banca', 'Órganos de gobierno',\n",
       "       'Sin ánimo de lucro', 'Ecommerce',\n",
       "       'Medios de comunicación, marketing y publicidad',\n",
       "       'Ordenadores, electrónica y tecnología móvil',\n",
       "       'Educación y empleo', 'Salud, bienestar y cuidado personal',\n",
       "       'Legal y seguros',\n",
       "       'Arquitectura, construcción y sector inmobiliario', 'Restauración',\n",
       "       'Ocio, turismo y experiencias', 'Asociación cultural o religiosa'],\n",
       "      dtype=object)"
      ]
     },
     "execution_count": 9,
     "metadata": {},
     "output_type": "execute_result"
    }
   ],
   "source": [
    "spanish.sectors"
   ]
  },
  {
   "cell_type": "code",
   "execution_count": 10,
   "id": "confidential-storage",
   "metadata": {},
   "outputs": [
    {
     "data": {
      "text/html": [
       "<div>\n",
       "<style scoped>\n",
       "    .dataframe tbody tr th:only-of-type {\n",
       "        vertical-align: middle;\n",
       "    }\n",
       "\n",
       "    .dataframe tbody tr th {\n",
       "        vertical-align: top;\n",
       "    }\n",
       "\n",
       "    .dataframe thead th {\n",
       "        text-align: right;\n",
       "    }\n",
       "</style>\n",
       "<table border=\"1\" class=\"dataframe\">\n",
       "  <thead>\n",
       "    <tr style=\"text-align: right;\">\n",
       "      <th></th>\n",
       "      <th>sector</th>\n",
       "    </tr>\n",
       "  </thead>\n",
       "  <tbody>\n",
       "    <tr>\n",
       "      <th>0</th>\n",
       "      <td>NaN</td>\n",
       "    </tr>\n",
       "    <tr>\n",
       "      <th>1</th>\n",
       "      <td>NaN</td>\n",
       "    </tr>\n",
       "    <tr>\n",
       "      <th>2</th>\n",
       "      <td>NaN</td>\n",
       "    </tr>\n",
       "    <tr>\n",
       "      <th>3</th>\n",
       "      <td>NaN</td>\n",
       "    </tr>\n",
       "    <tr>\n",
       "      <th>4</th>\n",
       "      <td>NaN</td>\n",
       "    </tr>\n",
       "    <tr>\n",
       "      <th>...</th>\n",
       "      <td>...</td>\n",
       "    </tr>\n",
       "    <tr>\n",
       "      <th>99994</th>\n",
       "      <td>NaN</td>\n",
       "    </tr>\n",
       "    <tr>\n",
       "      <th>99995</th>\n",
       "      <td>Sin ánimo de lucro</td>\n",
       "    </tr>\n",
       "    <tr>\n",
       "      <th>99996</th>\n",
       "      <td>Ecommerce</td>\n",
       "    </tr>\n",
       "    <tr>\n",
       "      <th>99997</th>\n",
       "      <td>NaN</td>\n",
       "    </tr>\n",
       "    <tr>\n",
       "      <th>99998</th>\n",
       "      <td>NaN</td>\n",
       "    </tr>\n",
       "  </tbody>\n",
       "</table>\n",
       "<p>79675 rows × 1 columns</p>\n",
       "</div>"
      ],
      "text/plain": [
       "                   sector\n",
       "0                     NaN\n",
       "1                     NaN\n",
       "2                     NaN\n",
       "3                     NaN\n",
       "4                     NaN\n",
       "...                   ...\n",
       "99994                 NaN\n",
       "99995  Sin ánimo de lucro\n",
       "99996           Ecommerce\n",
       "99997                 NaN\n",
       "99998                 NaN\n",
       "\n",
       "[79675 rows x 1 columns]"
      ]
     },
     "execution_count": 10,
     "metadata": {},
     "output_type": "execute_result"
    }
   ],
   "source": [
    "spanish.language_df[['sector']]"
   ]
  },
  {
   "cell_type": "code",
   "execution_count": 11,
   "id": "remarkable-alert",
   "metadata": {},
   "outputs": [
    {
     "data": {
      "text/html": [
       "<div>\n",
       "<style scoped>\n",
       "    .dataframe tbody tr th:only-of-type {\n",
       "        vertical-align: middle;\n",
       "    }\n",
       "\n",
       "    .dataframe tbody tr th {\n",
       "        vertical-align: top;\n",
       "    }\n",
       "\n",
       "    .dataframe thead th {\n",
       "        text-align: right;\n",
       "    }\n",
       "</style>\n",
       "<table border=\"1\" class=\"dataframe\">\n",
       "  <thead>\n",
       "    <tr style=\"text-align: right;\">\n",
       "      <th></th>\n",
       "      <th>sector</th>\n",
       "    </tr>\n",
       "  </thead>\n",
       "  <tbody>\n",
       "    <tr>\n",
       "      <th>0</th>\n",
       "      <td>NaN</td>\n",
       "    </tr>\n",
       "    <tr>\n",
       "      <th>1</th>\n",
       "      <td>NaN</td>\n",
       "    </tr>\n",
       "    <tr>\n",
       "      <th>2</th>\n",
       "      <td>NaN</td>\n",
       "    </tr>\n",
       "    <tr>\n",
       "      <th>3</th>\n",
       "      <td>NaN</td>\n",
       "    </tr>\n",
       "    <tr>\n",
       "      <th>4</th>\n",
       "      <td>NaN</td>\n",
       "    </tr>\n",
       "    <tr>\n",
       "      <th>...</th>\n",
       "      <td>...</td>\n",
       "    </tr>\n",
       "    <tr>\n",
       "      <th>99994</th>\n",
       "      <td>NaN</td>\n",
       "    </tr>\n",
       "    <tr>\n",
       "      <th>99995</th>\n",
       "      <td>nonprofit</td>\n",
       "    </tr>\n",
       "    <tr>\n",
       "      <th>99996</th>\n",
       "      <td>ecommerce</td>\n",
       "    </tr>\n",
       "    <tr>\n",
       "      <th>99997</th>\n",
       "      <td>NaN</td>\n",
       "    </tr>\n",
       "    <tr>\n",
       "      <th>99998</th>\n",
       "      <td>NaN</td>\n",
       "    </tr>\n",
       "  </tbody>\n",
       "</table>\n",
       "<p>79675 rows × 1 columns</p>\n",
       "</div>"
      ],
      "text/plain": [
       "          sector\n",
       "0            NaN\n",
       "1            NaN\n",
       "2            NaN\n",
       "3            NaN\n",
       "4            NaN\n",
       "...          ...\n",
       "99994        NaN\n",
       "99995  nonprofit\n",
       "99996  ecommerce\n",
       "99997        NaN\n",
       "99998        NaN\n",
       "\n",
       "[79675 rows x 1 columns]"
      ]
     },
     "execution_count": 11,
     "metadata": {},
     "output_type": "execute_result"
    }
   ],
   "source": [
    "spanish.change_names()\n",
    "\n",
    "spanish.language_df[['sector']]"
   ]
  },
  {
   "cell_type": "code",
   "execution_count": 12,
   "id": "flush-cooler",
   "metadata": {},
   "outputs": [
    {
     "name": "stdout",
     "output_type": "stream",
     "text": [
      "Number of categories: 15\n",
      "media           2.21\n",
      "ecommerce       2.02\n",
      "nonprofit       1.86\n",
      "education       1.75\n",
      "wellness        0.79\n",
      "finance         0.71\n",
      "architecture    0.64\n",
      "technology      0.58\n",
      "government      0.56\n",
      "leisure         0.54\n",
      "entertainment   0.45\n",
      "legal           0.21\n",
      "catering        0.15\n",
      "association     0.05\n",
      "Name: sector, dtype: float64\n"
     ]
    }
   ],
   "source": [
    "# Checking the number of classified campaigns per category\n",
    "\n",
    "spanish.check_categories(including_unlabeled=True)"
   ]
  },
  {
   "cell_type": "code",
   "execution_count": 13,
   "id": "sharing-trance",
   "metadata": {},
   "outputs": [
    {
     "data": {
      "image/png": "[encoded data removed]",
      "text/plain": [
       "<Figure size 432x288 with 1 Axes>"
      ]
     },
     "metadata": {
      "needs_background": "light"
     },
     "output_type": "display_data"
    }
   ],
   "source": [
    "spanish.plot_categories()"
   ]
  },
  {
   "cell_type": "code",
   "execution_count": 14,
   "id": "verbal-explosion",
   "metadata": {},
   "outputs": [],
   "source": [
    "spanish.label_encoding()"
   ]
  },
  {
   "cell_type": "code",
   "execution_count": 15,
   "id": "hungarian-vancouver",
   "metadata": {},
   "outputs": [
    {
     "data": {
      "text/html": [
       "<div>\n",
       "<style scoped>\n",
       "    .dataframe tbody tr th:only-of-type {\n",
       "        vertical-align: middle;\n",
       "    }\n",
       "\n",
       "    .dataframe tbody tr th {\n",
       "        vertical-align: top;\n",
       "    }\n",
       "\n",
       "    .dataframe thead th {\n",
       "        text-align: right;\n",
       "    }\n",
       "</style>\n",
       "<table border=\"1\" class=\"dataframe\">\n",
       "  <thead>\n",
       "    <tr style=\"text-align: right;\">\n",
       "      <th></th>\n",
       "      <th>sector</th>\n",
       "      <th>sector_cat_id</th>\n",
       "    </tr>\n",
       "  </thead>\n",
       "  <tbody>\n",
       "    <tr>\n",
       "      <th>0</th>\n",
       "      <td>NaN</td>\n",
       "      <td>-1</td>\n",
       "    </tr>\n",
       "    <tr>\n",
       "      <th>1</th>\n",
       "      <td>architecture</td>\n",
       "      <td>0</td>\n",
       "    </tr>\n",
       "    <tr>\n",
       "      <th>2</th>\n",
       "      <td>association</td>\n",
       "      <td>1</td>\n",
       "    </tr>\n",
       "    <tr>\n",
       "      <th>3</th>\n",
       "      <td>catering</td>\n",
       "      <td>2</td>\n",
       "    </tr>\n",
       "    <tr>\n",
       "      <th>4</th>\n",
       "      <td>ecommerce</td>\n",
       "      <td>3</td>\n",
       "    </tr>\n",
       "    <tr>\n",
       "      <th>5</th>\n",
       "      <td>education</td>\n",
       "      <td>4</td>\n",
       "    </tr>\n",
       "    <tr>\n",
       "      <th>6</th>\n",
       "      <td>entertainment</td>\n",
       "      <td>5</td>\n",
       "    </tr>\n",
       "    <tr>\n",
       "      <th>7</th>\n",
       "      <td>finance</td>\n",
       "      <td>6</td>\n",
       "    </tr>\n",
       "    <tr>\n",
       "      <th>8</th>\n",
       "      <td>government</td>\n",
       "      <td>7</td>\n",
       "    </tr>\n",
       "    <tr>\n",
       "      <th>9</th>\n",
       "      <td>legal</td>\n",
       "      <td>8</td>\n",
       "    </tr>\n",
       "    <tr>\n",
       "      <th>10</th>\n",
       "      <td>leisure</td>\n",
       "      <td>9</td>\n",
       "    </tr>\n",
       "    <tr>\n",
       "      <th>11</th>\n",
       "      <td>media</td>\n",
       "      <td>10</td>\n",
       "    </tr>\n",
       "    <tr>\n",
       "      <th>12</th>\n",
       "      <td>nonprofit</td>\n",
       "      <td>11</td>\n",
       "    </tr>\n",
       "    <tr>\n",
       "      <th>13</th>\n",
       "      <td>technology</td>\n",
       "      <td>12</td>\n",
       "    </tr>\n",
       "    <tr>\n",
       "      <th>14</th>\n",
       "      <td>wellness</td>\n",
       "      <td>13</td>\n",
       "    </tr>\n",
       "  </tbody>\n",
       "</table>\n",
       "</div>"
      ],
      "text/plain": [
       "           sector  sector_cat_id\n",
       "0             NaN             -1\n",
       "1    architecture              0\n",
       "2     association              1\n",
       "3        catering              2\n",
       "4       ecommerce              3\n",
       "5       education              4\n",
       "6   entertainment              5\n",
       "7         finance              6\n",
       "8      government              7\n",
       "9           legal              8\n",
       "10        leisure              9\n",
       "11          media             10\n",
       "12      nonprofit             11\n",
       "13     technology             12\n",
       "14       wellness             13"
      ]
     },
     "execution_count": 15,
     "metadata": {},
     "output_type": "execute_result"
    }
   ],
   "source": [
    "sector_id_df = spanish.label_encoding_df()\n",
    "sector_id_df"
   ]
  },
  {
   "cell_type": "markdown",
   "id": "rental-fortune",
   "metadata": {},
   "source": [
    "#### Splitting"
   ]
  },
  {
   "cell_type": "code",
   "execution_count": 16,
   "id": "exempt-harvey",
   "metadata": {},
   "outputs": [],
   "source": [
    "# Creating an instance\n",
    "\n",
    "spanish = VerticalModelTFIDFVectorizer(spanish.language_df, sector_id_df)"
   ]
  },
  {
   "cell_type": "code",
   "execution_count": 17,
   "id": "announced-strategy",
   "metadata": {},
   "outputs": [
    {
     "name": "stdout",
     "output_type": "stream",
     "text": [
      "79675\n",
      "69705\n"
     ]
    }
   ],
   "source": [
    "print(len(spanish.language_df))\n",
    "print(len(spanish.test_df))"
   ]
  },
  {
   "cell_type": "code",
   "execution_count": 18,
   "id": "listed-december",
   "metadata": {},
   "outputs": [
    {
     "data": {
      "text/html": [
       "<div>\n",
       "<style scoped>\n",
       "    .dataframe tbody tr th:only-of-type {\n",
       "        vertical-align: middle;\n",
       "    }\n",
       "\n",
       "    .dataframe tbody tr th {\n",
       "        vertical-align: top;\n",
       "    }\n",
       "\n",
       "    .dataframe thead th {\n",
       "        text-align: right;\n",
       "    }\n",
       "</style>\n",
       "<table border=\"1\" class=\"dataframe\">\n",
       "  <thead>\n",
       "    <tr style=\"text-align: right;\">\n",
       "      <th></th>\n",
       "      <th>sector</th>\n",
       "      <th>sector_cat_id</th>\n",
       "    </tr>\n",
       "  </thead>\n",
       "  <tbody>\n",
       "    <tr>\n",
       "      <th>0</th>\n",
       "      <td>NaN</td>\n",
       "      <td>-1</td>\n",
       "    </tr>\n",
       "    <tr>\n",
       "      <th>1</th>\n",
       "      <td>architecture</td>\n",
       "      <td>0</td>\n",
       "    </tr>\n",
       "    <tr>\n",
       "      <th>2</th>\n",
       "      <td>association</td>\n",
       "      <td>1</td>\n",
       "    </tr>\n",
       "    <tr>\n",
       "      <th>3</th>\n",
       "      <td>catering</td>\n",
       "      <td>2</td>\n",
       "    </tr>\n",
       "    <tr>\n",
       "      <th>4</th>\n",
       "      <td>ecommerce</td>\n",
       "      <td>3</td>\n",
       "    </tr>\n",
       "    <tr>\n",
       "      <th>5</th>\n",
       "      <td>education</td>\n",
       "      <td>4</td>\n",
       "    </tr>\n",
       "    <tr>\n",
       "      <th>6</th>\n",
       "      <td>entertainment</td>\n",
       "      <td>5</td>\n",
       "    </tr>\n",
       "    <tr>\n",
       "      <th>7</th>\n",
       "      <td>finance</td>\n",
       "      <td>6</td>\n",
       "    </tr>\n",
       "    <tr>\n",
       "      <th>8</th>\n",
       "      <td>government</td>\n",
       "      <td>7</td>\n",
       "    </tr>\n",
       "    <tr>\n",
       "      <th>9</th>\n",
       "      <td>legal</td>\n",
       "      <td>8</td>\n",
       "    </tr>\n",
       "    <tr>\n",
       "      <th>10</th>\n",
       "      <td>leisure</td>\n",
       "      <td>9</td>\n",
       "    </tr>\n",
       "    <tr>\n",
       "      <th>11</th>\n",
       "      <td>media</td>\n",
       "      <td>10</td>\n",
       "    </tr>\n",
       "    <tr>\n",
       "      <th>12</th>\n",
       "      <td>nonprofit</td>\n",
       "      <td>11</td>\n",
       "    </tr>\n",
       "    <tr>\n",
       "      <th>13</th>\n",
       "      <td>technology</td>\n",
       "      <td>12</td>\n",
       "    </tr>\n",
       "    <tr>\n",
       "      <th>14</th>\n",
       "      <td>wellness</td>\n",
       "      <td>13</td>\n",
       "    </tr>\n",
       "  </tbody>\n",
       "</table>\n",
       "</div>"
      ],
      "text/plain": [
       "           sector  sector_cat_id\n",
       "0             NaN             -1\n",
       "1    architecture              0\n",
       "2     association              1\n",
       "3        catering              2\n",
       "4       ecommerce              3\n",
       "5       education              4\n",
       "6   entertainment              5\n",
       "7         finance              6\n",
       "8      government              7\n",
       "9           legal              8\n",
       "10        leisure              9\n",
       "11          media             10\n",
       "12      nonprofit             11\n",
       "13     technology             12\n",
       "14       wellness             13"
      ]
     },
     "execution_count": 18,
     "metadata": {},
     "output_type": "execute_result"
    }
   ],
   "source": [
    "sector_id_df"
   ]
  },
  {
   "cell_type": "code",
   "execution_count": 19,
   "id": "ongoing-lying",
   "metadata": {},
   "outputs": [
    {
     "name": "stdout",
     "output_type": "stream",
     "text": [
      "Feature dimensions:  1\n",
      "Number of messages:  (79675,)\n",
      "Target dimensions:  1\n",
      "Number of messages:  (79675,)\n"
     ]
    }
   ],
   "source": [
    "print('Feature dimensions: ', spanish.features.ndim)\n",
    "print('Number of messages: ', spanish.features.shape)\n",
    "\n",
    "print('Target dimensions: ', spanish.target.ndim)\n",
    "print('Number of messages: ', spanish.target.shape)"
   ]
  },
  {
   "cell_type": "code",
   "execution_count": 20,
   "id": "registered-woman",
   "metadata": {},
   "outputs": [
    {
     "name": "stdout",
     "output_type": "stream",
     "text": [
      "Vertical=-1, n=69705 (87.487%)\n",
      "Vertical=5, n=357 (0.448%)\n",
      "Vertical=6, n=568 (0.713%)\n",
      "Vertical=7, n=450 (0.565%)\n",
      "Vertical=11, n=1482 (1.860%)\n",
      "Vertical=3, n=1609 (2.019%)\n",
      "Vertical=10, n=1763 (2.213%)\n",
      "Vertical=12, n=459 (0.576%)\n",
      "Vertical=4, n=1392 (1.747%)\n",
      "Vertical=13, n=629 (0.789%)\n",
      "Vertical=8, n=165 (0.207%)\n",
      "Vertical=0, n=506 (0.635%)\n",
      "Vertical=2, n=117 (0.147%)\n",
      "Vertical=9, n=434 (0.545%)\n",
      "Vertical=1, n=39 (0.049%)\n"
     ]
    },
    {
     "data": {
      "image/png": "[encoded data removed]",
      "text/plain": [
       "<Figure size 432x288 with 1 Axes>"
      ]
     },
     "metadata": {
      "needs_background": "light"
     },
     "output_type": "display_data"
    }
   ],
   "source": [
    "# Observing target distribution\n",
    "\n",
    "spanish.target_plotter(spanish.target)"
   ]
  },
  {
   "cell_type": "code",
   "execution_count": 21,
   "id": "amateur-africa",
   "metadata": {},
   "outputs": [],
   "source": [
    "features_train, features_test, target_train, target_test = spanish.labeled_unlabeled_partitioner()"
   ]
  },
  {
   "cell_type": "code",
   "execution_count": 22,
   "id": "excited-sunrise",
   "metadata": {},
   "outputs": [
    {
     "name": "stdout",
     "output_type": "stream",
     "text": [
      "<class 'numpy.ndarray'>\n",
      "<class 'numpy.ndarray'>\n",
      "<class 'numpy.ndarray'>\n",
      "<class 'numpy.ndarray'>\n"
     ]
    }
   ],
   "source": [
    "print(type(features_train))\n",
    "print(type(features_test))\n",
    "print(type(target_train))\n",
    "print(type(target_test))"
   ]
  },
  {
   "cell_type": "code",
   "execution_count": 23,
   "id": "integrated-coordinate",
   "metadata": {},
   "outputs": [
    {
     "name": "stdout",
     "output_type": "stream",
     "text": [
      "(9970,) (9970,)\n",
      "(69705,) (69705,)\n"
     ]
    }
   ],
   "source": [
    "print(features_train.shape, target_train.shape)\n",
    "print(features_test.shape, target_test.shape)"
   ]
  },
  {
   "cell_type": "markdown",
   "id": "wrapped-viewer",
   "metadata": {},
   "source": [
    "#### Extracting features from train"
   ]
  },
  {
   "cell_type": "code",
   "execution_count": 24,
   "id": "written-mistress",
   "metadata": {},
   "outputs": [
    {
     "data": {
      "text/plain": [
       "TfidfVectorizer(max_features=10000)"
      ]
     },
     "execution_count": 24,
     "metadata": {},
     "output_type": "execute_result"
    }
   ],
   "source": [
    "# Obtaining the tfidf vectorizer\n",
    "\n",
    "tfidf_vectorizer = spanish.tfidf_vectorizer()\n",
    "tfidf_vectorizer"
   ]
  },
  {
   "cell_type": "code",
   "execution_count": 25,
   "id": "sunset-globe",
   "metadata": {},
   "outputs": [
    {
     "data": {
      "text/plain": [
       "(9970, 10000)"
      ]
     },
     "execution_count": 25,
     "metadata": {},
     "output_type": "execute_result"
    }
   ],
   "source": [
    "# Training the vectorizer\n",
    "\n",
    "tfidf_features_train, vectorizer = spanish.tfidf_vectorizer_train(tfidf_vectorizer, features_train)\n",
    "tfidf_features_train.shape"
   ]
  },
  {
   "cell_type": "code",
   "execution_count": 26,
   "id": "traditional-fight",
   "metadata": {},
   "outputs": [
    {
     "data": {
      "text/plain": [
       "10000"
      ]
     },
     "execution_count": 26,
     "metadata": {},
     "output_type": "execute_result"
    }
   ],
   "source": [
    "len(tfidf_vectorizer.vocabulary_)"
   ]
  },
  {
   "cell_type": "code",
   "execution_count": 27,
   "id": "interpreted-variation",
   "metadata": {},
   "outputs": [],
   "source": [
    "# SMOTE oversampling\n",
    "\n",
    "tfidf_features_train, target_train = spanish.target_smotter(tfidf_features_train, target_train)"
   ]
  },
  {
   "cell_type": "code",
   "execution_count": 28,
   "id": "stone-uruguay",
   "metadata": {},
   "outputs": [
    {
     "name": "stdout",
     "output_type": "stream",
     "text": [
      "Vertical=5, n=1763 (7.143%)\n",
      "Vertical=6, n=1763 (7.143%)\n",
      "Vertical=7, n=1763 (7.143%)\n",
      "Vertical=11, n=1763 (7.143%)\n",
      "Vertical=3, n=1763 (7.143%)\n",
      "Vertical=10, n=1763 (7.143%)\n",
      "Vertical=12, n=1763 (7.143%)\n",
      "Vertical=4, n=1763 (7.143%)\n",
      "Vertical=13, n=1763 (7.143%)\n",
      "Vertical=8, n=1763 (7.143%)\n",
      "Vertical=0, n=1763 (7.143%)\n",
      "Vertical=2, n=1763 (7.143%)\n",
      "Vertical=9, n=1763 (7.143%)\n",
      "Vertical=1, n=1763 (7.143%)\n"
     ]
    },
    {
     "data": {
      "image/png": "[encoded data removed]",
      "text/plain": [
       "<Figure size 432x288 with 1 Axes>"
      ]
     },
     "metadata": {
      "needs_background": "light"
     },
     "output_type": "display_data"
    }
   ],
   "source": [
    "spanish.target_plotter(target_train)"
   ]
  },
  {
   "cell_type": "markdown",
   "id": "broad-venezuela",
   "metadata": {},
   "source": [
    "#### Saving the trained vectorizer"
   ]
  },
  {
   "cell_type": "code",
   "execution_count": 29,
   "id": "competent-thumbnail",
   "metadata": {},
   "outputs": [],
   "source": [
    "spanish.vectorizer_save(tfidf_vectorizer, path=\"../../../datasets/vectorizers/vertical_model_tfidf_vectorizer_spanish\")"
   ]
  },
  {
   "cell_type": "markdown",
   "id": "double-charm",
   "metadata": {},
   "source": [
    "#### Converting messages from test into vectors"
   ]
  },
  {
   "cell_type": "code",
   "execution_count": 30,
   "id": "stopped-vietnam",
   "metadata": {},
   "outputs": [],
   "source": [
    "# Creating an instance\n",
    "\n",
    "model = MultinomialNBClassifier(features_test, tfidf_vectorizer, tfidf_features_train, target_train)"
   ]
  },
  {
   "cell_type": "code",
   "execution_count": 31,
   "id": "heard-perspective",
   "metadata": {},
   "outputs": [],
   "source": [
    "tfidf_features_test =  model.vectorizer_test()"
   ]
  },
  {
   "cell_type": "markdown",
   "id": "related-morgan",
   "metadata": {},
   "source": [
    "#### Observing the dimension of the resulting feature vector"
   ]
  },
  {
   "cell_type": "code",
   "execution_count": 32,
   "id": "ancient-dragon",
   "metadata": {},
   "outputs": [
    {
     "name": "stdout",
     "output_type": "stream",
     "text": [
      "2\n",
      "2\n",
      "(24682, 10000)\n",
      "(69705, 10000)\n"
     ]
    }
   ],
   "source": [
    "print(tfidf_features_train.ndim) # m x n matrix\n",
    "print(tfidf_features_test.ndim)\n",
    "\n",
    "print(tfidf_features_train.shape)\n",
    "print(tfidf_features_test.shape)"
   ]
  },
  {
   "cell_type": "code",
   "execution_count": 33,
   "id": "conservative-trunk",
   "metadata": {},
   "outputs": [
    {
     "name": "stdout",
     "output_type": "stream",
     "text": [
      "The dimension of our feature vector is 10000.\n"
     ]
    }
   ],
   "source": [
    "print(f'The dimension of our feature vector is {tfidf_features_train.shape[1]}.')"
   ]
  },
  {
   "cell_type": "markdown",
   "id": "ongoing-guarantee",
   "metadata": {},
   "source": [
    "Each vector represents the frequency of a word in the predefined dictionary of words:"
   ]
  },
  {
   "cell_type": "code",
   "execution_count": 34,
   "id": "suspected-hudson",
   "metadata": {},
   "outputs": [
    {
     "name": "stdout",
     "output_type": "stream",
     "text": [
      "[[0. 0. 0. ... 0. 0. 0.]\n",
      " [0. 0. 0. ... 0. 0. 0.]\n",
      " [0. 0. 0. ... 0. 0. 0.]\n",
      " ...\n",
      " [0. 0. 0. ... 0. 0. 0.]\n",
      " [0. 0. 0. ... 0. 0. 0.]\n",
      " [0. 0. 0. ... 0. 0. 0.]]\n"
     ]
    }
   ],
   "source": [
    "print(tfidf_features_train)"
   ]
  },
  {
   "cell_type": "code",
   "execution_count": 35,
   "id": "racial-hostel",
   "metadata": {},
   "outputs": [
    {
     "data": {
      "text/plain": [
       "<69705x10000 sparse matrix of type '<class 'numpy.float64'>'\n",
       "\twith 5545123 stored elements in Compressed Sparse Row format>"
      ]
     },
     "execution_count": 35,
     "metadata": {},
     "output_type": "execute_result"
    }
   ],
   "source": [
    "tfidf_features_test"
   ]
  },
  {
   "cell_type": "markdown",
   "id": "persistent-groove",
   "metadata": {},
   "source": [
    "#### Training & Predict"
   ]
  },
  {
   "cell_type": "code",
   "execution_count": 36,
   "id": "informational-huntington",
   "metadata": {},
   "outputs": [
    {
     "data": {
      "text/plain": [
       "MultinomialNB()"
      ]
     },
     "execution_count": 36,
     "metadata": {},
     "output_type": "execute_result"
    }
   ],
   "source": [
    "# Creating an instance\n",
    "\n",
    "classifier = model.get_multinomial_nb_classifier()\n",
    "classifier"
   ]
  },
  {
   "cell_type": "code",
   "execution_count": 37,
   "id": "particular-clearing",
   "metadata": {},
   "outputs": [
    {
     "name": "stdout",
     "output_type": "stream",
     "text": [
      "CPU times: user 1.63 s, sys: 306 ms, total: 1.93 s\n",
      "Wall time: 1.41 s\n"
     ]
    }
   ],
   "source": [
    "# Training the model and timing it\n",
    "\n",
    "%time model.classifier_training(classifier)"
   ]
  },
  {
   "cell_type": "code",
   "execution_count": 38,
   "id": "empirical-metabolism",
   "metadata": {},
   "outputs": [],
   "source": [
    "# Saving the trained classifier\n",
    "\n",
    "model.classifier_save(classifier, path=\"../../../datasets/classifiers/vertical_model_multinomial_nb_classifier_spanish\")"
   ]
  },
  {
   "cell_type": "code",
   "execution_count": 39,
   "id": "rental-ordering",
   "metadata": {},
   "outputs": [],
   "source": [
    "# Predicting Vertical\n",
    "\n",
    "predictions = model.classifier_predict(classifier, tfidf_features_test)"
   ]
  },
  {
   "cell_type": "code",
   "execution_count": 40,
   "id": "interesting-stadium",
   "metadata": {},
   "outputs": [
    {
     "data": {
      "text/plain": [
       "array([13,  7,  3, ...,  8,  4,  3], dtype=int8)"
      ]
     },
     "execution_count": 40,
     "metadata": {},
     "output_type": "execute_result"
    }
   ],
   "source": [
    "predictions"
   ]
  },
  {
   "cell_type": "code",
   "execution_count": 41,
   "id": "bearing-extreme",
   "metadata": {},
   "outputs": [
    {
     "name": "stdout",
     "output_type": "stream",
     "text": [
      "69705\n",
      "<class 'numpy.ndarray'>\n",
      "69705\n",
      "<class 'numpy.ndarray'>\n"
     ]
    }
   ],
   "source": [
    "print(len(predictions))\n",
    "print(type(predictions))\n",
    "print(len(features_test))\n",
    "print(type(features_test))"
   ]
  },
  {
   "cell_type": "markdown",
   "id": "special-behalf",
   "metadata": {},
   "source": [
    "#### Merging Predictions with the original messages"
   ]
  },
  {
   "cell_type": "code",
   "execution_count": 42,
   "id": "separate-square",
   "metadata": {},
   "outputs": [],
   "source": [
    "spanish_predictions = MergePredicted(predictions, spanish.language_df, spanish.test_df)"
   ]
  },
  {
   "cell_type": "code",
   "execution_count": 43,
   "id": "activated-ontario",
   "metadata": {},
   "outputs": [
    {
     "data": {
      "text/html": [
       "<div>\n",
       "<style scoped>\n",
       "    .dataframe tbody tr th:only-of-type {\n",
       "        vertical-align: middle;\n",
       "    }\n",
       "\n",
       "    .dataframe tbody tr th {\n",
       "        vertical-align: top;\n",
       "    }\n",
       "\n",
       "    .dataframe thead th {\n",
       "        text-align: right;\n",
       "    }\n",
       "</style>\n",
       "<table border=\"1\" class=\"dataframe\">\n",
       "  <thead>\n",
       "    <tr style=\"text-align: right;\">\n",
       "      <th></th>\n",
       "      <th>campaign_id</th>\n",
       "      <th>sector_cat_id</th>\n",
       "    </tr>\n",
       "  </thead>\n",
       "  <tbody>\n",
       "    <tr>\n",
       "      <th>8</th>\n",
       "      <td>8</td>\n",
       "      <td>5</td>\n",
       "    </tr>\n",
       "    <tr>\n",
       "      <th>13</th>\n",
       "      <td>13</td>\n",
       "      <td>6</td>\n",
       "    </tr>\n",
       "    <tr>\n",
       "      <th>18</th>\n",
       "      <td>18</td>\n",
       "      <td>7</td>\n",
       "    </tr>\n",
       "    <tr>\n",
       "      <th>19</th>\n",
       "      <td>19</td>\n",
       "      <td>5</td>\n",
       "    </tr>\n",
       "    <tr>\n",
       "      <th>23</th>\n",
       "      <td>23</td>\n",
       "      <td>11</td>\n",
       "    </tr>\n",
       "    <tr>\n",
       "      <th>31</th>\n",
       "      <td>31</td>\n",
       "      <td>3</td>\n",
       "    </tr>\n",
       "    <tr>\n",
       "      <th>35</th>\n",
       "      <td>35</td>\n",
       "      <td>10</td>\n",
       "    </tr>\n",
       "    <tr>\n",
       "      <th>46</th>\n",
       "      <td>46</td>\n",
       "      <td>5</td>\n",
       "    </tr>\n",
       "    <tr>\n",
       "      <th>72</th>\n",
       "      <td>72</td>\n",
       "      <td>11</td>\n",
       "    </tr>\n",
       "    <tr>\n",
       "      <th>80</th>\n",
       "      <td>80</td>\n",
       "      <td>3</td>\n",
       "    </tr>\n",
       "    <tr>\n",
       "      <th>108</th>\n",
       "      <td>108</td>\n",
       "      <td>10</td>\n",
       "    </tr>\n",
       "    <tr>\n",
       "      <th>115</th>\n",
       "      <td>115</td>\n",
       "      <td>12</td>\n",
       "    </tr>\n",
       "    <tr>\n",
       "      <th>126</th>\n",
       "      <td>126</td>\n",
       "      <td>3</td>\n",
       "    </tr>\n",
       "    <tr>\n",
       "      <th>127</th>\n",
       "      <td>127</td>\n",
       "      <td>4</td>\n",
       "    </tr>\n",
       "    <tr>\n",
       "      <th>146</th>\n",
       "      <td>146</td>\n",
       "      <td>6</td>\n",
       "    </tr>\n",
       "  </tbody>\n",
       "</table>\n",
       "</div>"
      ],
      "text/plain": [
       "     campaign_id  sector_cat_id\n",
       "8              8              5\n",
       "13            13              6\n",
       "18            18              7\n",
       "19            19              5\n",
       "23            23             11\n",
       "31            31              3\n",
       "35            35             10\n",
       "46            46              5\n",
       "72            72             11\n",
       "80            80              3\n",
       "108          108             10\n",
       "115          115             12\n",
       "126          126              3\n",
       "127          127              4\n",
       "146          146              6"
      ]
     },
     "execution_count": 43,
     "metadata": {},
     "output_type": "execute_result"
    }
   ],
   "source": [
    "spanish_predictions.language_df[['campaign_id', 'sector_cat_id']].head(15)"
   ]
  },
  {
   "cell_type": "code",
   "execution_count": 44,
   "id": "wrong-pottery",
   "metadata": {},
   "outputs": [
    {
     "data": {
      "text/html": [
       "<div>\n",
       "<style scoped>\n",
       "    .dataframe tbody tr th:only-of-type {\n",
       "        vertical-align: middle;\n",
       "    }\n",
       "\n",
       "    .dataframe tbody tr th {\n",
       "        vertical-align: top;\n",
       "    }\n",
       "\n",
       "    .dataframe thead th {\n",
       "        text-align: right;\n",
       "    }\n",
       "</style>\n",
       "<table border=\"1\" class=\"dataframe\">\n",
       "  <thead>\n",
       "    <tr style=\"text-align: right;\">\n",
       "      <th></th>\n",
       "      <th>campaign_id</th>\n",
       "      <th>sector_cat_id</th>\n",
       "    </tr>\n",
       "  </thead>\n",
       "  <tbody>\n",
       "    <tr>\n",
       "      <th>0</th>\n",
       "      <td>0</td>\n",
       "      <td>-1</td>\n",
       "    </tr>\n",
       "    <tr>\n",
       "      <th>1</th>\n",
       "      <td>1</td>\n",
       "      <td>-1</td>\n",
       "    </tr>\n",
       "    <tr>\n",
       "      <th>2</th>\n",
       "      <td>2</td>\n",
       "      <td>-1</td>\n",
       "    </tr>\n",
       "    <tr>\n",
       "      <th>3</th>\n",
       "      <td>3</td>\n",
       "      <td>-1</td>\n",
       "    </tr>\n",
       "    <tr>\n",
       "      <th>4</th>\n",
       "      <td>4</td>\n",
       "      <td>-1</td>\n",
       "    </tr>\n",
       "    <tr>\n",
       "      <th>5</th>\n",
       "      <td>5</td>\n",
       "      <td>-1</td>\n",
       "    </tr>\n",
       "    <tr>\n",
       "      <th>6</th>\n",
       "      <td>7</td>\n",
       "      <td>-1</td>\n",
       "    </tr>\n",
       "    <tr>\n",
       "      <th>7</th>\n",
       "      <td>9</td>\n",
       "      <td>-1</td>\n",
       "    </tr>\n",
       "    <tr>\n",
       "      <th>8</th>\n",
       "      <td>10</td>\n",
       "      <td>-1</td>\n",
       "    </tr>\n",
       "    <tr>\n",
       "      <th>9</th>\n",
       "      <td>11</td>\n",
       "      <td>-1</td>\n",
       "    </tr>\n",
       "    <tr>\n",
       "      <th>10</th>\n",
       "      <td>12</td>\n",
       "      <td>-1</td>\n",
       "    </tr>\n",
       "    <tr>\n",
       "      <th>11</th>\n",
       "      <td>14</td>\n",
       "      <td>-1</td>\n",
       "    </tr>\n",
       "    <tr>\n",
       "      <th>12</th>\n",
       "      <td>15</td>\n",
       "      <td>-1</td>\n",
       "    </tr>\n",
       "    <tr>\n",
       "      <th>13</th>\n",
       "      <td>16</td>\n",
       "      <td>-1</td>\n",
       "    </tr>\n",
       "    <tr>\n",
       "      <th>14</th>\n",
       "      <td>17</td>\n",
       "      <td>-1</td>\n",
       "    </tr>\n",
       "  </tbody>\n",
       "</table>\n",
       "</div>"
      ],
      "text/plain": [
       "    campaign_id  sector_cat_id\n",
       "0             0             -1\n",
       "1             1             -1\n",
       "2             2             -1\n",
       "3             3             -1\n",
       "4             4             -1\n",
       "5             5             -1\n",
       "6             7             -1\n",
       "7             9             -1\n",
       "8            10             -1\n",
       "9            11             -1\n",
       "10           12             -1\n",
       "11           14             -1\n",
       "12           15             -1\n",
       "13           16             -1\n",
       "14           17             -1"
      ]
     },
     "execution_count": 44,
     "metadata": {},
     "output_type": "execute_result"
    }
   ],
   "source": [
    "spanish_predictions.test_df[['campaign_id', 'sector_cat_id']].head(15)"
   ]
  },
  {
   "cell_type": "code",
   "execution_count": 45,
   "id": "guilty-aging",
   "metadata": {},
   "outputs": [
    {
     "data": {
      "text/plain": [
       "9970"
      ]
     },
     "execution_count": 45,
     "metadata": {},
     "output_type": "execute_result"
    }
   ],
   "source": [
    "len(spanish_predictions.language_df)"
   ]
  },
  {
   "cell_type": "code",
   "execution_count": 46,
   "id": "geological-tennessee",
   "metadata": {},
   "outputs": [
    {
     "data": {
      "text/plain": [
       "69705"
      ]
     },
     "execution_count": 46,
     "metadata": {},
     "output_type": "execute_result"
    }
   ],
   "source": [
    "len(spanish.test_df)"
   ]
  },
  {
   "cell_type": "code",
   "execution_count": 47,
   "id": "hungarian-battlefield",
   "metadata": {},
   "outputs": [
    {
     "data": {
      "text/plain": [
       "69705"
      ]
     },
     "execution_count": 47,
     "metadata": {},
     "output_type": "execute_result"
    }
   ],
   "source": [
    "len(predictions)"
   ]
  },
  {
   "cell_type": "code",
   "execution_count": 48,
   "id": "illegal-scott",
   "metadata": {},
   "outputs": [
    {
     "name": "stdout",
     "output_type": "stream",
     "text": [
      "[[   0 2281]\n",
      " [   1  479]\n",
      " [   2 1068]\n",
      " [   3 6860]\n",
      " [   4 9441]\n",
      " [   5 3346]\n",
      " [   6 7671]\n",
      " [   7 3231]\n",
      " [   8 8613]\n",
      " [   9 2489]\n",
      " [  10 9504]\n",
      " [  11 3800]\n",
      " [  12 3511]\n",
      " [  13 7411]]\n"
     ]
    }
   ],
   "source": [
    "unique, counts = spanish_predictions.get_predicted_frequency()"
   ]
  },
  {
   "cell_type": "code",
   "execution_count": 49,
   "id": "available-seeker",
   "metadata": {},
   "outputs": [],
   "source": [
    "results_df = spanish_predictions.merge_predicted()"
   ]
  },
  {
   "cell_type": "code",
   "execution_count": 50,
   "id": "eight-punch",
   "metadata": {},
   "outputs": [
    {
     "data": {
      "text/html": [
       "<div>\n",
       "<style scoped>\n",
       "    .dataframe tbody tr th:only-of-type {\n",
       "        vertical-align: middle;\n",
       "    }\n",
       "\n",
       "    .dataframe tbody tr th {\n",
       "        vertical-align: top;\n",
       "    }\n",
       "\n",
       "    .dataframe thead th {\n",
       "        text-align: right;\n",
       "    }\n",
       "</style>\n",
       "<table border=\"1\" class=\"dataframe\">\n",
       "  <thead>\n",
       "    <tr style=\"text-align: right;\">\n",
       "      <th></th>\n",
       "      <th>campaign_id</th>\n",
       "      <th>sector_cat_id</th>\n",
       "      <th>predicted_class</th>\n",
       "    </tr>\n",
       "  </thead>\n",
       "  <tbody>\n",
       "    <tr>\n",
       "      <th>0</th>\n",
       "      <td>0</td>\n",
       "      <td>-1</td>\n",
       "      <td>13</td>\n",
       "    </tr>\n",
       "    <tr>\n",
       "      <th>1</th>\n",
       "      <td>1</td>\n",
       "      <td>-1</td>\n",
       "      <td>7</td>\n",
       "    </tr>\n",
       "    <tr>\n",
       "      <th>2</th>\n",
       "      <td>2</td>\n",
       "      <td>-1</td>\n",
       "      <td>3</td>\n",
       "    </tr>\n",
       "    <tr>\n",
       "      <th>3</th>\n",
       "      <td>3</td>\n",
       "      <td>-1</td>\n",
       "      <td>13</td>\n",
       "    </tr>\n",
       "    <tr>\n",
       "      <th>4</th>\n",
       "      <td>4</td>\n",
       "      <td>-1</td>\n",
       "      <td>10</td>\n",
       "    </tr>\n",
       "    <tr>\n",
       "      <th>5</th>\n",
       "      <td>5</td>\n",
       "      <td>-1</td>\n",
       "      <td>2</td>\n",
       "    </tr>\n",
       "    <tr>\n",
       "      <th>6</th>\n",
       "      <td>7</td>\n",
       "      <td>-1</td>\n",
       "      <td>3</td>\n",
       "    </tr>\n",
       "    <tr>\n",
       "      <th>7</th>\n",
       "      <td>9</td>\n",
       "      <td>-1</td>\n",
       "      <td>13</td>\n",
       "    </tr>\n",
       "    <tr>\n",
       "      <th>8</th>\n",
       "      <td>10</td>\n",
       "      <td>-1</td>\n",
       "      <td>3</td>\n",
       "    </tr>\n",
       "    <tr>\n",
       "      <th>9</th>\n",
       "      <td>11</td>\n",
       "      <td>-1</td>\n",
       "      <td>4</td>\n",
       "    </tr>\n",
       "    <tr>\n",
       "      <th>10</th>\n",
       "      <td>12</td>\n",
       "      <td>-1</td>\n",
       "      <td>11</td>\n",
       "    </tr>\n",
       "    <tr>\n",
       "      <th>11</th>\n",
       "      <td>14</td>\n",
       "      <td>-1</td>\n",
       "      <td>0</td>\n",
       "    </tr>\n",
       "    <tr>\n",
       "      <th>12</th>\n",
       "      <td>15</td>\n",
       "      <td>-1</td>\n",
       "      <td>9</td>\n",
       "    </tr>\n",
       "    <tr>\n",
       "      <th>13</th>\n",
       "      <td>16</td>\n",
       "      <td>-1</td>\n",
       "      <td>3</td>\n",
       "    </tr>\n",
       "    <tr>\n",
       "      <th>14</th>\n",
       "      <td>17</td>\n",
       "      <td>-1</td>\n",
       "      <td>3</td>\n",
       "    </tr>\n",
       "  </tbody>\n",
       "</table>\n",
       "</div>"
      ],
      "text/plain": [
       "    campaign_id  sector_cat_id  predicted_class\n",
       "0             0             -1               13\n",
       "1             1             -1                7\n",
       "2             2             -1                3\n",
       "3             3             -1               13\n",
       "4             4             -1               10\n",
       "5             5             -1                2\n",
       "6             7             -1                3\n",
       "7             9             -1               13\n",
       "8            10             -1                3\n",
       "9            11             -1                4\n",
       "10           12             -1               11\n",
       "11           14             -1                0\n",
       "12           15             -1                9\n",
       "13           16             -1                3\n",
       "14           17             -1                3"
      ]
     },
     "execution_count": 50,
     "metadata": {},
     "output_type": "execute_result"
    }
   ],
   "source": [
    "results_df[['campaign_id', 'sector_cat_id', 'predicted_class']].head(15)"
   ]
  },
  {
   "cell_type": "code",
   "execution_count": 51,
   "id": "entitled-surgery",
   "metadata": {},
   "outputs": [],
   "source": [
    "vertical_classified_df = spanish_predictions.get_vertical_classified_df()"
   ]
  },
  {
   "cell_type": "code",
   "execution_count": 52,
   "id": "perceived-thinking",
   "metadata": {},
   "outputs": [
    {
     "data": {
      "text/html": [
       "<div>\n",
       "<style scoped>\n",
       "    .dataframe tbody tr th:only-of-type {\n",
       "        vertical-align: middle;\n",
       "    }\n",
       "\n",
       "    .dataframe tbody tr th {\n",
       "        vertical-align: top;\n",
       "    }\n",
       "\n",
       "    .dataframe thead th {\n",
       "        text-align: right;\n",
       "    }\n",
       "</style>\n",
       "<table border=\"1\" class=\"dataframe\">\n",
       "  <thead>\n",
       "    <tr style=\"text-align: right;\">\n",
       "      <th></th>\n",
       "      <th>campaign_id</th>\n",
       "      <th>vertical</th>\n",
       "    </tr>\n",
       "  </thead>\n",
       "  <tbody>\n",
       "    <tr>\n",
       "      <th>8</th>\n",
       "      <td>8</td>\n",
       "      <td>5</td>\n",
       "    </tr>\n",
       "    <tr>\n",
       "      <th>13</th>\n",
       "      <td>13</td>\n",
       "      <td>6</td>\n",
       "    </tr>\n",
       "    <tr>\n",
       "      <th>18</th>\n",
       "      <td>18</td>\n",
       "      <td>7</td>\n",
       "    </tr>\n",
       "    <tr>\n",
       "      <th>19</th>\n",
       "      <td>19</td>\n",
       "      <td>5</td>\n",
       "    </tr>\n",
       "    <tr>\n",
       "      <th>23</th>\n",
       "      <td>23</td>\n",
       "      <td>11</td>\n",
       "    </tr>\n",
       "    <tr>\n",
       "      <th>...</th>\n",
       "      <td>...</td>\n",
       "      <td>...</td>\n",
       "    </tr>\n",
       "    <tr>\n",
       "      <th>69700</th>\n",
       "      <td>99991</td>\n",
       "      <td>11</td>\n",
       "    </tr>\n",
       "    <tr>\n",
       "      <th>69701</th>\n",
       "      <td>99993</td>\n",
       "      <td>3</td>\n",
       "    </tr>\n",
       "    <tr>\n",
       "      <th>69702</th>\n",
       "      <td>99994</td>\n",
       "      <td>8</td>\n",
       "    </tr>\n",
       "    <tr>\n",
       "      <th>69703</th>\n",
       "      <td>99997</td>\n",
       "      <td>4</td>\n",
       "    </tr>\n",
       "    <tr>\n",
       "      <th>69704</th>\n",
       "      <td>99998</td>\n",
       "      <td>3</td>\n",
       "    </tr>\n",
       "  </tbody>\n",
       "</table>\n",
       "<p>79675 rows × 2 columns</p>\n",
       "</div>"
      ],
      "text/plain": [
       "       campaign_id  vertical\n",
       "8                8         5\n",
       "13              13         6\n",
       "18              18         7\n",
       "19              19         5\n",
       "23              23        11\n",
       "...            ...       ...\n",
       "69700        99991        11\n",
       "69701        99993         3\n",
       "69702        99994         8\n",
       "69703        99997         4\n",
       "69704        99998         3\n",
       "\n",
       "[79675 rows x 2 columns]"
      ]
     },
     "execution_count": 52,
     "metadata": {},
     "output_type": "execute_result"
    }
   ],
   "source": [
    "vertical_classified_df[['campaign_id', 'vertical']]"
   ]
  },
  {
   "cell_type": "code",
   "execution_count": 53,
   "id": "accepted-response",
   "metadata": {},
   "outputs": [
    {
     "data": {
      "text/plain": [
       "Index(['sender', 'subject', 'date_sent', 'total_sent', 'customer_cat', 'opens',\n",
       "       'clicks', 'message', 'campaign_id', 'open_rate', 'ctr', 'ctor',\n",
       "       'clean_subject', 'clean_message', 'vertical'],\n",
       "      dtype='object')"
      ]
     },
     "execution_count": 53,
     "metadata": {},
     "output_type": "execute_result"
    }
   ],
   "source": [
    "vertical_classified_df.columns"
   ]
  },
  {
   "cell_type": "code",
   "execution_count": 54,
   "id": "super-graduation",
   "metadata": {},
   "outputs": [],
   "source": [
    "spanish_predictions.save_final_df(vertical_classified_df, '../../../datasets/output/sample_01/output_08/', 'es.csv')"
   ]
  }
 ],
 "metadata": {
  "kernelspec": {
   "display_name": "Python 3",
   "language": "python",
   "name": "python3"
  },
  "language_info": {
   "codemirror_mode": {
    "name": "ipython",
    "version": 3
   },
   "file_extension": ".py",
   "mimetype": "text/x-python",
   "name": "python",
   "nbconvert_exporter": "python",
   "pygments_lexer": "ipython3",
   "version": "3.8.8"
  }
 },
 "nbformat": 4,
 "nbformat_minor": 5
}
