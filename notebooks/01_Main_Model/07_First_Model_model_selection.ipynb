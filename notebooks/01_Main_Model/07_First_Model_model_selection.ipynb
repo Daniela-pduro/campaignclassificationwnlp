{
 "cells": [
  {
   "cell_type": "markdown",
   "metadata": {},
   "source": [
    "# Email Marketing Campaigns Optimization Model with NLP\n",
    "\n",
    "\n",
    "### Jupyter Notebook 7/10"
   ]
  },
  {
   "cell_type": "markdown",
   "metadata": {},
   "source": [
    "#### Importing Classes from the module `campaigns`"
   ]
  },
  {
   "cell_type": "code",
   "execution_count": 1,
   "metadata": {},
   "outputs": [],
   "source": [
    "import sys\n",
    "sys.path.append('..')\n",
    "\n",
    "\n",
    "import warnings\n",
    "warnings.filterwarnings('ignore')\n",
    "\n",
    "# Get files\n",
    "from campaigns.getinputdata import LanguageFileGetInfo\n",
    "\n",
    "# Feature Engineering\n",
    "from campaigns.modeling.preprocessing import VerticalEncoder\n",
    "\n",
    "from sklearn.feature_extraction.text import CountVectorizer\n",
    "\n",
    "# Texts Preprocessing\n",
    "from campaigns.modeling.nlp import (\n",
    "    VerticalMessagePreprocessor,\n",
    "    VerticalModelFeatureExtractor,\n",
    "    VerticalModelGetWordVectors,\n",
    "    VerticalModelGetPaddedSeqs,\n",
    "    VerticalModelGetWeightMatrix,\n",
    ")\n",
    "\n",
    "# Texts Classification\n",
    "from campaigns.modeling.classifiers import MultinomialNBClassifier\n",
    "\n",
    "# Evaluation\n",
    "from campaigns.modeling.evaluation import VerticalModelEvaluator\n",
    "\n",
    "# Neural Networks\n",
    "from campaigns.modeling.neuralnetworks import DeepLearningModelCreator"
   ]
  },
  {
   "cell_type": "code",
   "execution_count": 2,
   "metadata": {},
   "outputs": [],
   "source": [
    "# Obtaining input\n",
    "\n",
    "spanish = LanguageFileGetInfo(dataroot='../../../datasets/output/sample_01/output_06/', datafile='es.csv')"
   ]
  },
  {
   "cell_type": "markdown",
   "metadata": {},
   "source": [
    "#### 4.2.5. Vectorization "
   ]
  },
  {
   "cell_type": "markdown",
   "metadata": {},
   "source": [
    "- Our first model is a supervised multi-class classification problem.\n",
    "\n",
    "- We will create our input features from the texts contained in the column `message`.\n",
    "- The output will be the predictions made on our target column `sector`.\n",
    "\n",
    "\n",
    "Different approaches:\n",
    "\n",
    "- We will create a baseline using two simpler vectorization approaches BoW and TF-IDF.\n",
    "- We will try to improve the model using a dense representation of words by an embedding approach."
   ]
  },
  {
   "cell_type": "code",
   "execution_count": 3,
   "metadata": {},
   "outputs": [],
   "source": [
    "# Instantiate \n",
    "\n",
    "spanish = VerticalMessagePreprocessor(spanish.language_df, 'spanish')"
   ]
  },
  {
   "cell_type": "code",
   "execution_count": 4,
   "metadata": {},
   "outputs": [
    {
     "data": {
      "text/plain": [
       "9963"
      ]
     },
     "execution_count": 4,
     "metadata": {},
     "output_type": "execute_result"
    }
   ],
   "source": [
    "# Checking the number of labeled messages\n",
    "\n",
    "len(spanish.language_df)"
   ]
  },
  {
   "cell_type": "markdown",
   "metadata": {},
   "source": [
    "#### Normalization\n",
    "\n",
    "- Tokenizing and removing empty strings\n",
    "- Stemming\n",
    "- Converting lists of tokens back to strings"
   ]
  },
  {
   "cell_type": "code",
   "execution_count": 5,
   "metadata": {},
   "outputs": [],
   "source": [
    "# Preprocessing texts\n",
    "\n",
    "spanish.preprocess_message(flag_stemming=True)"
   ]
  },
  {
   "cell_type": "markdown",
   "metadata": {},
   "source": [
    "#### Encoding `sector`"
   ]
  },
  {
   "cell_type": "code",
   "execution_count": 6,
   "metadata": {},
   "outputs": [],
   "source": [
    "# Creating an instance\n",
    "\n",
    "spanish = VerticalEncoder(spanish.language_df)"
   ]
  },
  {
   "cell_type": "code",
   "execution_count": 7,
   "metadata": {},
   "outputs": [
    {
     "data": {
      "text/plain": [
       "array(['Entretenimiento, eventos y relaciones públicas',\n",
       "       'Negocios, finanzas y banca', 'Órganos de gobierno',\n",
       "       'Sin ánimo de lucro', 'Ecommerce',\n",
       "       'Medios de comunicación, marketing y publicidad',\n",
       "       'Ordenadores, electrónica y tecnología móvil',\n",
       "       'Educación y empleo', 'Salud, bienestar y cuidado personal',\n",
       "       'Legal y seguros',\n",
       "       'Arquitectura, construcción y sector inmobiliario', 'Restauración',\n",
       "       'Ocio, turismo y experiencias', 'Asociación cultural o religiosa'],\n",
       "      dtype=object)"
      ]
     },
     "execution_count": 7,
     "metadata": {},
     "output_type": "execute_result"
    }
   ],
   "source": [
    "spanish.sectors"
   ]
  },
  {
   "cell_type": "code",
   "execution_count": 8,
   "metadata": {},
   "outputs": [
    {
     "data": {
      "text/html": [
       "<div>\n",
       "<style scoped>\n",
       "    .dataframe tbody tr th:only-of-type {\n",
       "        vertical-align: middle;\n",
       "    }\n",
       "\n",
       "    .dataframe tbody tr th {\n",
       "        vertical-align: top;\n",
       "    }\n",
       "\n",
       "    .dataframe thead th {\n",
       "        text-align: right;\n",
       "    }\n",
       "</style>\n",
       "<table border=\"1\" class=\"dataframe\">\n",
       "  <thead>\n",
       "    <tr style=\"text-align: right;\">\n",
       "      <th></th>\n",
       "      <th>sector</th>\n",
       "    </tr>\n",
       "  </thead>\n",
       "  <tbody>\n",
       "    <tr>\n",
       "      <th>8</th>\n",
       "      <td>Entretenimiento, eventos y relaciones públicas</td>\n",
       "    </tr>\n",
       "    <tr>\n",
       "      <th>13</th>\n",
       "      <td>Negocios, finanzas y banca</td>\n",
       "    </tr>\n",
       "    <tr>\n",
       "      <th>18</th>\n",
       "      <td>Órganos de gobierno</td>\n",
       "    </tr>\n",
       "    <tr>\n",
       "      <th>19</th>\n",
       "      <td>Entretenimiento, eventos y relaciones públicas</td>\n",
       "    </tr>\n",
       "    <tr>\n",
       "      <th>23</th>\n",
       "      <td>Sin ánimo de lucro</td>\n",
       "    </tr>\n",
       "    <tr>\n",
       "      <th>...</th>\n",
       "      <td>...</td>\n",
       "    </tr>\n",
       "    <tr>\n",
       "      <th>99974</th>\n",
       "      <td>Arquitectura, construcción y sector inmobiliario</td>\n",
       "    </tr>\n",
       "    <tr>\n",
       "      <th>99981</th>\n",
       "      <td>Ecommerce</td>\n",
       "    </tr>\n",
       "    <tr>\n",
       "      <th>99992</th>\n",
       "      <td>Medios de comunicación, marketing y publicidad</td>\n",
       "    </tr>\n",
       "    <tr>\n",
       "      <th>99995</th>\n",
       "      <td>Sin ánimo de lucro</td>\n",
       "    </tr>\n",
       "    <tr>\n",
       "      <th>99996</th>\n",
       "      <td>Ecommerce</td>\n",
       "    </tr>\n",
       "  </tbody>\n",
       "</table>\n",
       "<p>9963 rows × 1 columns</p>\n",
       "</div>"
      ],
      "text/plain": [
       "                                                 sector\n",
       "8        Entretenimiento, eventos y relaciones públicas\n",
       "13                           Negocios, finanzas y banca\n",
       "18                                  Órganos de gobierno\n",
       "19       Entretenimiento, eventos y relaciones públicas\n",
       "23                                   Sin ánimo de lucro\n",
       "...                                                 ...\n",
       "99974  Arquitectura, construcción y sector inmobiliario\n",
       "99981                                         Ecommerce\n",
       "99992    Medios de comunicación, marketing y publicidad\n",
       "99995                                Sin ánimo de lucro\n",
       "99996                                         Ecommerce\n",
       "\n",
       "[9963 rows x 1 columns]"
      ]
     },
     "execution_count": 8,
     "metadata": {},
     "output_type": "execute_result"
    }
   ],
   "source": [
    "spanish.language_df[['sector']]"
   ]
  },
  {
   "cell_type": "code",
   "execution_count": 9,
   "metadata": {},
   "outputs": [
    {
     "data": {
      "text/html": [
       "<div>\n",
       "<style scoped>\n",
       "    .dataframe tbody tr th:only-of-type {\n",
       "        vertical-align: middle;\n",
       "    }\n",
       "\n",
       "    .dataframe tbody tr th {\n",
       "        vertical-align: top;\n",
       "    }\n",
       "\n",
       "    .dataframe thead th {\n",
       "        text-align: right;\n",
       "    }\n",
       "</style>\n",
       "<table border=\"1\" class=\"dataframe\">\n",
       "  <thead>\n",
       "    <tr style=\"text-align: right;\">\n",
       "      <th></th>\n",
       "      <th>sector</th>\n",
       "    </tr>\n",
       "  </thead>\n",
       "  <tbody>\n",
       "    <tr>\n",
       "      <th>8</th>\n",
       "      <td>entertainment</td>\n",
       "    </tr>\n",
       "    <tr>\n",
       "      <th>13</th>\n",
       "      <td>finance</td>\n",
       "    </tr>\n",
       "    <tr>\n",
       "      <th>18</th>\n",
       "      <td>government</td>\n",
       "    </tr>\n",
       "    <tr>\n",
       "      <th>19</th>\n",
       "      <td>entertainment</td>\n",
       "    </tr>\n",
       "    <tr>\n",
       "      <th>23</th>\n",
       "      <td>nonprofit</td>\n",
       "    </tr>\n",
       "    <tr>\n",
       "      <th>...</th>\n",
       "      <td>...</td>\n",
       "    </tr>\n",
       "    <tr>\n",
       "      <th>99974</th>\n",
       "      <td>architecture</td>\n",
       "    </tr>\n",
       "    <tr>\n",
       "      <th>99981</th>\n",
       "      <td>ecommerce</td>\n",
       "    </tr>\n",
       "    <tr>\n",
       "      <th>99992</th>\n",
       "      <td>media</td>\n",
       "    </tr>\n",
       "    <tr>\n",
       "      <th>99995</th>\n",
       "      <td>nonprofit</td>\n",
       "    </tr>\n",
       "    <tr>\n",
       "      <th>99996</th>\n",
       "      <td>ecommerce</td>\n",
       "    </tr>\n",
       "  </tbody>\n",
       "</table>\n",
       "<p>9963 rows × 1 columns</p>\n",
       "</div>"
      ],
      "text/plain": [
       "              sector\n",
       "8      entertainment\n",
       "13           finance\n",
       "18        government\n",
       "19     entertainment\n",
       "23         nonprofit\n",
       "...              ...\n",
       "99974   architecture\n",
       "99981      ecommerce\n",
       "99992          media\n",
       "99995      nonprofit\n",
       "99996      ecommerce\n",
       "\n",
       "[9963 rows x 1 columns]"
      ]
     },
     "execution_count": 9,
     "metadata": {},
     "output_type": "execute_result"
    }
   ],
   "source": [
    "spanish.change_names()\n",
    "spanish.language_df[['sector']]"
   ]
  },
  {
   "cell_type": "code",
   "execution_count": 10,
   "metadata": {},
   "outputs": [
    {
     "name": "stdout",
     "output_type": "stream",
     "text": [
      "Number of categories: 14\n",
      "media           17.71\n",
      "ecommerce       16.14\n",
      "nonprofit       14.88\n",
      "education       13.90\n",
      "wellness         6.32\n",
      "finance          5.71\n",
      "architecture     5.05\n",
      "technology       4.61\n",
      "government       4.52\n",
      "leisure          4.36\n",
      "entertainment    3.58\n",
      "legal            1.66\n",
      "catering         1.17\n",
      "association      0.40\n",
      "Name: sector, dtype: float64\n"
     ]
    }
   ],
   "source": [
    "# Checking the number of classified campaigns per category\n",
    "\n",
    "spanish.check_categories()"
   ]
  },
  {
   "cell_type": "code",
   "execution_count": 11,
   "metadata": {},
   "outputs": [
    {
     "data": {
      "image/png": "[encoded data removed]",
      "text/plain": [
       "<Figure size 432x288 with 1 Axes>"
      ]
     },
     "metadata": {
      "needs_background": "light"
     },
     "output_type": "display_data"
    }
   ],
   "source": [
    "spanish.plot_categories()"
   ]
  },
  {
   "cell_type": "code",
   "execution_count": 12,
   "metadata": {},
   "outputs": [],
   "source": [
    "# Deleting rows with less than 4 samples in 'sector'\n",
    "\n",
    "spanish.small_samples_remover(4)"
   ]
  },
  {
   "cell_type": "code",
   "execution_count": 13,
   "metadata": {},
   "outputs": [
    {
     "data": {
      "text/plain": [
       "media            1764\n",
       "ecommerce        1608\n",
       "nonprofit        1482\n",
       "education        1385\n",
       "wellness          630\n",
       "finance           569\n",
       "architecture      503\n",
       "technology        459\n",
       "government        450\n",
       "leisure           434\n",
       "entertainment     357\n",
       "legal             165\n",
       "catering          117\n",
       "association        40\n",
       "Name: sector, dtype: int64"
      ]
     },
     "execution_count": 13,
     "metadata": {},
     "output_type": "execute_result"
    }
   ],
   "source": [
    "spanish.language_df['sector'].value_counts()"
   ]
  },
  {
   "cell_type": "code",
   "execution_count": 14,
   "metadata": {},
   "outputs": [],
   "source": [
    "spanish.label_encoding()"
   ]
  },
  {
   "cell_type": "code",
   "execution_count": 15,
   "metadata": {},
   "outputs": [
    {
     "data": {
      "text/html": [
       "<div>\n",
       "<style scoped>\n",
       "    .dataframe tbody tr th:only-of-type {\n",
       "        vertical-align: middle;\n",
       "    }\n",
       "\n",
       "    .dataframe tbody tr th {\n",
       "        vertical-align: top;\n",
       "    }\n",
       "\n",
       "    .dataframe thead th {\n",
       "        text-align: right;\n",
       "    }\n",
       "</style>\n",
       "<table border=\"1\" class=\"dataframe\">\n",
       "  <thead>\n",
       "    <tr style=\"text-align: right;\">\n",
       "      <th></th>\n",
       "      <th>sector</th>\n",
       "      <th>sector_cat_id</th>\n",
       "    </tr>\n",
       "  </thead>\n",
       "  <tbody>\n",
       "    <tr>\n",
       "      <th>0</th>\n",
       "      <td>architecture</td>\n",
       "      <td>0</td>\n",
       "    </tr>\n",
       "    <tr>\n",
       "      <th>1</th>\n",
       "      <td>association</td>\n",
       "      <td>1</td>\n",
       "    </tr>\n",
       "    <tr>\n",
       "      <th>2</th>\n",
       "      <td>catering</td>\n",
       "      <td>2</td>\n",
       "    </tr>\n",
       "    <tr>\n",
       "      <th>3</th>\n",
       "      <td>ecommerce</td>\n",
       "      <td>3</td>\n",
       "    </tr>\n",
       "    <tr>\n",
       "      <th>4</th>\n",
       "      <td>education</td>\n",
       "      <td>4</td>\n",
       "    </tr>\n",
       "    <tr>\n",
       "      <th>5</th>\n",
       "      <td>entertainment</td>\n",
       "      <td>5</td>\n",
       "    </tr>\n",
       "    <tr>\n",
       "      <th>6</th>\n",
       "      <td>finance</td>\n",
       "      <td>6</td>\n",
       "    </tr>\n",
       "    <tr>\n",
       "      <th>7</th>\n",
       "      <td>government</td>\n",
       "      <td>7</td>\n",
       "    </tr>\n",
       "    <tr>\n",
       "      <th>8</th>\n",
       "      <td>legal</td>\n",
       "      <td>8</td>\n",
       "    </tr>\n",
       "    <tr>\n",
       "      <th>9</th>\n",
       "      <td>leisure</td>\n",
       "      <td>9</td>\n",
       "    </tr>\n",
       "    <tr>\n",
       "      <th>10</th>\n",
       "      <td>media</td>\n",
       "      <td>10</td>\n",
       "    </tr>\n",
       "    <tr>\n",
       "      <th>11</th>\n",
       "      <td>nonprofit</td>\n",
       "      <td>11</td>\n",
       "    </tr>\n",
       "    <tr>\n",
       "      <th>12</th>\n",
       "      <td>technology</td>\n",
       "      <td>12</td>\n",
       "    </tr>\n",
       "    <tr>\n",
       "      <th>13</th>\n",
       "      <td>wellness</td>\n",
       "      <td>13</td>\n",
       "    </tr>\n",
       "  </tbody>\n",
       "</table>\n",
       "</div>"
      ],
      "text/plain": [
       "           sector  sector_cat_id\n",
       "0    architecture              0\n",
       "1     association              1\n",
       "2        catering              2\n",
       "3       ecommerce              3\n",
       "4       education              4\n",
       "5   entertainment              5\n",
       "6         finance              6\n",
       "7      government              7\n",
       "8           legal              8\n",
       "9         leisure              9\n",
       "10          media             10\n",
       "11      nonprofit             11\n",
       "12     technology             12\n",
       "13       wellness             13"
      ]
     },
     "execution_count": 15,
     "metadata": {},
     "output_type": "execute_result"
    }
   ],
   "source": [
    "sector_id_df = spanish.label_encoding_df()\n",
    "sector_id_df"
   ]
  },
  {
   "cell_type": "markdown",
   "metadata": {},
   "source": [
    "#### 4.2.6.1. BoW Approach"
   ]
  },
  {
   "cell_type": "markdown",
   "metadata": {},
   "source": [
    "##### Transforming our word sequences into **numerical features**.\n",
    "\n",
    "\n",
    "- The column `message` contains textual data from which we will extract our features.\n",
    "\n",
    "- The column `sector` is the label that we are learning to predict. "
   ]
  },
  {
   "cell_type": "code",
   "execution_count": 16,
   "metadata": {},
   "outputs": [],
   "source": [
    "spanish = VerticalModelFeatureExtractor(CountVectorizer, spanish.language_df, sector_id_df)"
   ]
  },
  {
   "cell_type": "markdown",
   "metadata": {},
   "source": [
    "##### Observing features and target "
   ]
  },
  {
   "cell_type": "code",
   "execution_count": 17,
   "metadata": {},
   "outputs": [
    {
     "name": "stdout",
     "output_type": "stream",
     "text": [
      "Feature dimensions:  1\n",
      "Number of messages:  (9963,)\n"
     ]
    }
   ],
   "source": [
    "print('Feature dimensions: ', spanish.features.ndim)\n",
    "print('Number of messages: ', spanish.features.shape)"
   ]
  },
  {
   "cell_type": "code",
   "execution_count": 18,
   "metadata": {},
   "outputs": [
    {
     "name": "stdout",
     "output_type": "stream",
     "text": [
      "Target dimensions:  1\n",
      "Number of messages:  (9963,)\n"
     ]
    }
   ],
   "source": [
    "print('Target dimensions: ', spanish.target.ndim)\n",
    "print('Number of messages: ', spanish.target.shape)"
   ]
  },
  {
   "cell_type": "markdown",
   "metadata": {},
   "source": [
    "#### Splitting the data to avoid data leakage\n",
    "\n",
    "- The **classification model** should be fitted with the training data.\n",
    "- **Predictions** should be obtained from test."
   ]
  },
  {
   "cell_type": "code",
   "execution_count": 19,
   "metadata": {},
   "outputs": [
    {
     "name": "stdout",
     "output_type": "stream",
     "text": [
      "Vertical=5, n=357 (3.583%)\n",
      "Vertical=6, n=569 (5.711%)\n",
      "Vertical=7, n=450 (4.517%)\n",
      "Vertical=11, n=1482 (14.875%)\n",
      "Vertical=3, n=1608 (16.140%)\n",
      "Vertical=10, n=1764 (17.706%)\n",
      "Vertical=12, n=459 (4.607%)\n",
      "Vertical=4, n=1385 (13.901%)\n",
      "Vertical=13, n=630 (6.323%)\n",
      "Vertical=8, n=165 (1.656%)\n",
      "Vertical=0, n=503 (5.049%)\n",
      "Vertical=2, n=117 (1.174%)\n",
      "Vertical=9, n=434 (4.356%)\n",
      "Vertical=1, n=40 (0.401%)\n"
     ]
    },
    {
     "data": {
      "image/png": "[encoded data removed]",
      "text/plain": [
       "<Figure size 432x288 with 1 Axes>"
      ]
     },
     "metadata": {
      "needs_background": "light"
     },
     "output_type": "display_data"
    }
   ],
   "source": [
    "# Observing target disribution\n",
    "\n",
    "spanish.target_plotter(spanish.target)"
   ]
  },
  {
   "cell_type": "code",
   "execution_count": 20,
   "metadata": {},
   "outputs": [
    {
     "name": "stdout",
     "output_type": "stream",
     "text": [
      "(8966,) (8966,)\n",
      "(997,) (997,)\n"
     ]
    }
   ],
   "source": [
    "features_train, features_test, target_train, target_test = spanish.splitter()\n",
    "print(features_train.shape, target_train.shape)\n",
    "print(features_test.shape, target_test.shape)"
   ]
  },
  {
   "cell_type": "code",
   "execution_count": 21,
   "metadata": {},
   "outputs": [
    {
     "data": {
      "text/plain": [
       "CountVectorizer()"
      ]
     },
     "execution_count": 21,
     "metadata": {},
     "output_type": "execute_result"
    }
   ],
   "source": [
    "# Obtaining the vectorizer\n",
    "\n",
    "vectorizer = spanish.get_vectorizer()\n",
    "vectorizer"
   ]
  },
  {
   "cell_type": "code",
   "execution_count": 22,
   "metadata": {},
   "outputs": [],
   "source": [
    "# Training the vectorizer\n",
    "\n",
    "vec_features_train, vectorizer = spanish.vectorizer_train(features_train)"
   ]
  },
  {
   "cell_type": "code",
   "execution_count": 23,
   "metadata": {},
   "outputs": [
    {
     "data": {
      "text/plain": [
       "(8966, 61767)"
      ]
     },
     "execution_count": 23,
     "metadata": {},
     "output_type": "execute_result"
    }
   ],
   "source": [
    "vec_features_train.shape"
   ]
  },
  {
   "cell_type": "code",
   "execution_count": 24,
   "metadata": {},
   "outputs": [
    {
     "name": "stdout",
     "output_type": "stream",
     "text": [
      "CPU times: user 54.7 s, sys: 45.7 s, total: 1min 40s\n",
      "Wall time: 1min 36s\n"
     ]
    }
   ],
   "source": [
    "# SMOTE oversampling\n",
    "\n",
    "%time vec_features_train, target_train = spanish.target_smotter(vec_features_train, target_train)"
   ]
  },
  {
   "cell_type": "code",
   "execution_count": 25,
   "metadata": {},
   "outputs": [
    {
     "name": "stdout",
     "output_type": "stream",
     "text": [
      "Vertical=3, n=1592 (7.143%)\n",
      "Vertical=11, n=1592 (7.143%)\n",
      "Vertical=4, n=1592 (7.143%)\n",
      "Vertical=12, n=1592 (7.143%)\n",
      "Vertical=10, n=1592 (7.143%)\n",
      "Vertical=13, n=1592 (7.143%)\n",
      "Vertical=0, n=1592 (7.143%)\n",
      "Vertical=9, n=1592 (7.143%)\n",
      "Vertical=7, n=1592 (7.143%)\n",
      "Vertical=6, n=1592 (7.143%)\n",
      "Vertical=5, n=1592 (7.143%)\n",
      "Vertical=1, n=1592 (7.143%)\n",
      "Vertical=8, n=1592 (7.143%)\n",
      "Vertical=2, n=1592 (7.143%)\n"
     ]
    },
    {
     "data": {
      "image/png": "[encoded data removed]",
      "text/plain": [
       "<Figure size 432x288 with 1 Axes>"
      ]
     },
     "metadata": {
      "needs_background": "light"
     },
     "output_type": "display_data"
    }
   ],
   "source": [
    "spanish.target_plotter(target_train)"
   ]
  },
  {
   "cell_type": "markdown",
   "metadata": {},
   "source": [
    "####  Detecting Verticals: \n",
    "\n",
    "- Our aim is to use the predictions that we obtain from this first model as a feature for our second or Main Model.\n",
    "\n",
    "- Vertical or First Model - Multi-class classification problem.\n",
    "\n",
    "#### Machine Learning Model\n",
    "\n",
    "Steps:\n",
    "\n",
    "1. Transforming test data into the **same feature vector** as the training data*.\n",
    "\n",
    "\n",
    "2. **Training** the classifier and predict for test data.\n",
    "\n",
    "\n",
    "3. Evaluating the classifier.\n",
    "\n",
    "*Every observation should have the same number of features in the same order"
   ]
  },
  {
   "cell_type": "markdown",
   "metadata": {},
   "source": [
    "####  Transforming test data into the **same feature vector** as the training data"
   ]
  },
  {
   "cell_type": "code",
   "execution_count": 26,
   "metadata": {},
   "outputs": [],
   "source": [
    "# Create an instance\n",
    "\n",
    "model = MultinomialNBClassifier(features_test, vectorizer, vec_features_train, target_train)"
   ]
  },
  {
   "cell_type": "code",
   "execution_count": 27,
   "metadata": {},
   "outputs": [],
   "source": [
    "vec_features_test =  model.vectorizer_test()"
   ]
  },
  {
   "cell_type": "markdown",
   "metadata": {},
   "source": [
    "#### Observing the dimension of the resulting feature vector"
   ]
  },
  {
   "cell_type": "code",
   "execution_count": 28,
   "metadata": {},
   "outputs": [
    {
     "name": "stdout",
     "output_type": "stream",
     "text": [
      "2\n",
      "2\n",
      "(22288, 61767)\n",
      "(997, 61767)\n"
     ]
    }
   ],
   "source": [
    "print(vec_features_train.ndim) # m x n matrix\n",
    "print(vec_features_test.ndim)\n",
    "\n",
    "print(vec_features_train.shape)\n",
    "print(vec_features_test.shape)"
   ]
  },
  {
   "cell_type": "code",
   "execution_count": 29,
   "metadata": {},
   "outputs": [
    {
     "name": "stdout",
     "output_type": "stream",
     "text": [
      "The dimension of our feature vector is 61767.\n"
     ]
    }
   ],
   "source": [
    "print(f'The dimension of our feature vector is {vec_features_train.shape[1]}.')"
   ]
  },
  {
   "cell_type": "markdown",
   "metadata": {},
   "source": [
    "Each vector represents the frequency of a word in the predefined dictionary of words:"
   ]
  },
  {
   "cell_type": "code",
   "execution_count": 30,
   "metadata": {},
   "outputs": [
    {
     "name": "stdout",
     "output_type": "stream",
     "text": [
      "[[0 0 0 ... 0 0 0]\n",
      " [0 0 0 ... 0 0 0]\n",
      " [0 0 0 ... 0 0 0]\n",
      " ...\n",
      " [0 0 0 ... 0 0 0]\n",
      " [0 0 0 ... 0 0 0]\n",
      " [0 0 0 ... 0 0 0]]\n"
     ]
    }
   ],
   "source": [
    "print(vec_features_train)"
   ]
  },
  {
   "cell_type": "code",
   "execution_count": 31,
   "metadata": {},
   "outputs": [
    {
     "data": {
      "text/plain": [
       "<997x61767 sparse matrix of type '<class 'numpy.int64'>'\n",
       "\twith 106669 stored elements in Compressed Sparse Row format>"
      ]
     },
     "execution_count": 31,
     "metadata": {},
     "output_type": "execute_result"
    }
   ],
   "source": [
    "vec_features_test"
   ]
  },
  {
   "cell_type": "markdown",
   "metadata": {},
   "source": [
    "#### Observing our vocabulary"
   ]
  },
  {
   "cell_type": "code",
   "execution_count": 32,
   "metadata": {},
   "outputs": [
    {
     "name": "stdout",
     "output_type": "stream",
     "text": [
      "Size of the vocabulary: 61767 tokens.\n"
     ]
    }
   ],
   "source": [
    "print(f'Size of the vocabulary: {vec_features_train.shape[1]} tokens.')"
   ]
  },
  {
   "cell_type": "code",
   "execution_count": 33,
   "metadata": {},
   "outputs": [],
   "source": [
    "# vocabulary of all the unique words in our messages\n",
    "\n",
    "word_index = vectorizer.vocabulary_"
   ]
  },
  {
   "cell_type": "code",
   "execution_count": 34,
   "metadata": {},
   "outputs": [
    {
     "data": {
      "text/plain": [
       "21013"
      ]
     },
     "execution_count": 34,
     "metadata": {},
     "output_type": "execute_result"
    }
   ],
   "source": [
    "# each word has its own index\n",
    "# get index from word\n",
    "\n",
    "word_index['entrad']"
   ]
  },
  {
   "cell_type": "code",
   "execution_count": 35,
   "metadata": {},
   "outputs": [],
   "source": [
    "#get word from index\n",
    "\n",
    "reversed_word_index = dict((value, key) for (key, value) in vectorizer.vocabulary_.items())"
   ]
  },
  {
   "cell_type": "code",
   "execution_count": 36,
   "metadata": {},
   "outputs": [
    {
     "data": {
      "text/plain": [
       "'aa'"
      ]
     },
     "execution_count": 36,
     "metadata": {},
     "output_type": "execute_result"
    }
   ],
   "source": [
    "reversed_word_index[0]"
   ]
  },
  {
   "cell_type": "code",
   "execution_count": 37,
   "metadata": {},
   "outputs": [
    {
     "data": {
      "text/plain": [
       "'xiquet'"
      ]
     },
     "execution_count": 37,
     "metadata": {},
     "output_type": "execute_result"
    }
   ],
   "source": [
    "reversed_word_index[61000]"
   ]
  },
  {
   "cell_type": "code",
   "execution_count": 38,
   "metadata": {},
   "outputs": [
    {
     "name": "stdout",
     "output_type": "stream",
     "text": [
      "{3400: 'antipar', 3401: 'antiparasitari', 3402: 'antiparticl', 3403: 'antipat', 3404: 'antipolill', 3405: 'antipolv', 3406: 'antipotencial', 3407: 'antiqu', 3408: 'antiquisim', 3409: 'antiresfri', 3410: 'antiretroviral', 3411: 'antirob', 3412: 'antirrac', 3413: 'antirreflect', 3414: 'antirreflej', 3415: 'antirretorn', 3416: 'antirreumaticosal', 3417: 'antirrob', 3418: 'antirrumor', 3419: 'antirus'}\n"
     ]
    }
   ],
   "source": [
    "print({key:reversed_word_index[key] for key in set(range(3400,3420)) & set(reversed_word_index)})"
   ]
  },
  {
   "cell_type": "markdown",
   "metadata": {},
   "source": [
    "#### **Training** the classifier and predicting for test data using a Multinomial Naive Classifier"
   ]
  },
  {
   "cell_type": "code",
   "execution_count": 39,
   "metadata": {},
   "outputs": [],
   "source": [
    "# Creating an instance\n",
    "\n",
    "classifier = model.get_multinomial_nb_classifier()"
   ]
  },
  {
   "cell_type": "code",
   "execution_count": 40,
   "metadata": {},
   "outputs": [
    {
     "data": {
      "text/plain": [
       "MultinomialNB()"
      ]
     },
     "execution_count": 40,
     "metadata": {},
     "output_type": "execute_result"
    }
   ],
   "source": [
    "classifier"
   ]
  },
  {
   "cell_type": "code",
   "execution_count": 41,
   "metadata": {},
   "outputs": [
    {
     "name": "stdout",
     "output_type": "stream",
     "text": [
      "CPU times: user 11min 54s, sys: 2min 39s, total: 14min 34s\n",
      "Wall time: 15min 24s\n"
     ]
    }
   ],
   "source": [
    "# Training the model and timing it\n",
    "\n",
    "%time model.classifier_training(classifier)"
   ]
  },
  {
   "cell_type": "code",
   "execution_count": 42,
   "metadata": {},
   "outputs": [],
   "source": [
    "# Predicting Vertical\n",
    "\n",
    "predictions = model.classifier_predict(classifier, vec_features_test)"
   ]
  },
  {
   "cell_type": "code",
   "execution_count": 43,
   "metadata": {},
   "outputs": [
    {
     "data": {
      "text/plain": [
       "997"
      ]
     },
     "execution_count": 43,
     "metadata": {},
     "output_type": "execute_result"
    }
   ],
   "source": [
    "len(predictions)"
   ]
  },
  {
   "cell_type": "markdown",
   "metadata": {},
   "source": [
    "#### Evaluating the classifier"
   ]
  },
  {
   "cell_type": "code",
   "execution_count": 44,
   "metadata": {},
   "outputs": [],
   "source": [
    "evaluation = VerticalModelEvaluator(target_test, predictions, features_test)"
   ]
  },
  {
   "cell_type": "code",
   "execution_count": 45,
   "metadata": {},
   "outputs": [
    {
     "name": "stdout",
     "output_type": "stream",
     "text": [
      "\n",
      "Classification Report\n",
      "======================================================\n",
      "\n",
      "               precision    recall  f1-score   support\n",
      "\n",
      "           0       0.97      0.84      0.90        45\n",
      "           1       1.00      1.00      1.00         2\n",
      "           2       1.00      0.88      0.93        16\n",
      "           3       0.96      0.92      0.94       167\n",
      "           4       0.95      0.96      0.96       145\n",
      "           5       0.91      0.93      0.92        44\n",
      "           6       0.90      0.95      0.92        57\n",
      "           7       0.98      0.96      0.97        45\n",
      "           8       0.70      0.84      0.76        19\n",
      "           9       0.93      0.95      0.94        39\n",
      "          10       0.85      0.94      0.89       172\n",
      "          11       0.98      0.82      0.89       141\n",
      "          12       0.93      0.89      0.91        45\n",
      "          13       0.77      0.93      0.84        60\n",
      "\n",
      "    accuracy                           0.91       997\n",
      "   macro avg       0.92      0.91      0.91       997\n",
      "weighted avg       0.92      0.91      0.91       997\n",
      "\n"
     ]
    }
   ],
   "source": [
    "evaluation.get_classification_report()"
   ]
  },
  {
   "cell_type": "code",
   "execution_count": 46,
   "metadata": {},
   "outputs": [
    {
     "name": "stdout",
     "output_type": "stream",
     "text": [
      "\n",
      "Confusion Matrix\n",
      "======================================================\n",
      "\n",
      " [[ 38   0   0   0   0   0   0   0   0   0   2   0   3   2]\n",
      " [  0   2   0   0   0   0   0   0   0   0   0   0   0   0]\n",
      " [  0   0  14   0   0   1   0   1   0   0   0   0   0   0]\n",
      " [  0   0   0 154   0   3   0   0   0   0   3   0   0   7]\n",
      " [  1   0   0   0 139   0   1   0   1   0   2   0   0   1]\n",
      " [  0   0   0   0   0  41   0   0   0   0   3   0   0   0]\n",
      " [  0   0   0   0   0   0  54   0   1   0   1   0   0   1]\n",
      " [  0   0   0   0   0   0   0  43   0   0   1   1   0   0]\n",
      " [  0   0   0   1   0   0   0   0  16   0   1   0   0   1]\n",
      " [  0   0   0   0   0   0   0   0   0  37   0   0   0   2]\n",
      " [  0   0   0   2   1   0   1   0   1   2 162   1   0   2]\n",
      " [  0   0   0   1   4   0   4   0   4   0  12 115   0   1]\n",
      " [  0   0   0   1   2   0   0   0   0   0   2   0  40   0]\n",
      " [  0   0   0   1   0   0   0   0   0   1   2   0   0  56]]\n"
     ]
    }
   ],
   "source": [
    "evaluation.get_confusion_matrix()"
   ]
  },
  {
   "cell_type": "markdown",
   "metadata": {},
   "source": [
    "#### Checking which messages have been misclassified"
   ]
  },
  {
   "cell_type": "code",
   "execution_count": 47,
   "metadata": {},
   "outputs": [
    {
     "data": {
      "text/html": [
       "<div>\n",
       "<style scoped>\n",
       "    .dataframe tbody tr th:only-of-type {\n",
       "        vertical-align: middle;\n",
       "    }\n",
       "\n",
       "    .dataframe tbody tr th {\n",
       "        vertical-align: top;\n",
       "    }\n",
       "\n",
       "    .dataframe thead th {\n",
       "        text-align: right;\n",
       "    }\n",
       "</style>\n",
       "<table border=\"1\" class=\"dataframe\">\n",
       "  <thead>\n",
       "    <tr style=\"text-align: right;\">\n",
       "      <th></th>\n",
       "      <th>sector</th>\n",
       "      <th>sector_cat_id</th>\n",
       "    </tr>\n",
       "  </thead>\n",
       "  <tbody>\n",
       "    <tr>\n",
       "      <th>0</th>\n",
       "      <td>architecture</td>\n",
       "      <td>0</td>\n",
       "    </tr>\n",
       "    <tr>\n",
       "      <th>1</th>\n",
       "      <td>association</td>\n",
       "      <td>1</td>\n",
       "    </tr>\n",
       "    <tr>\n",
       "      <th>2</th>\n",
       "      <td>catering</td>\n",
       "      <td>2</td>\n",
       "    </tr>\n",
       "    <tr>\n",
       "      <th>3</th>\n",
       "      <td>ecommerce</td>\n",
       "      <td>3</td>\n",
       "    </tr>\n",
       "    <tr>\n",
       "      <th>4</th>\n",
       "      <td>education</td>\n",
       "      <td>4</td>\n",
       "    </tr>\n",
       "    <tr>\n",
       "      <th>5</th>\n",
       "      <td>entertainment</td>\n",
       "      <td>5</td>\n",
       "    </tr>\n",
       "    <tr>\n",
       "      <th>6</th>\n",
       "      <td>finance</td>\n",
       "      <td>6</td>\n",
       "    </tr>\n",
       "    <tr>\n",
       "      <th>7</th>\n",
       "      <td>government</td>\n",
       "      <td>7</td>\n",
       "    </tr>\n",
       "    <tr>\n",
       "      <th>8</th>\n",
       "      <td>legal</td>\n",
       "      <td>8</td>\n",
       "    </tr>\n",
       "    <tr>\n",
       "      <th>9</th>\n",
       "      <td>leisure</td>\n",
       "      <td>9</td>\n",
       "    </tr>\n",
       "    <tr>\n",
       "      <th>10</th>\n",
       "      <td>media</td>\n",
       "      <td>10</td>\n",
       "    </tr>\n",
       "    <tr>\n",
       "      <th>11</th>\n",
       "      <td>nonprofit</td>\n",
       "      <td>11</td>\n",
       "    </tr>\n",
       "    <tr>\n",
       "      <th>12</th>\n",
       "      <td>technology</td>\n",
       "      <td>12</td>\n",
       "    </tr>\n",
       "    <tr>\n",
       "      <th>13</th>\n",
       "      <td>wellness</td>\n",
       "      <td>13</td>\n",
       "    </tr>\n",
       "  </tbody>\n",
       "</table>\n",
       "</div>"
      ],
      "text/plain": [
       "           sector  sector_cat_id\n",
       "0    architecture              0\n",
       "1     association              1\n",
       "2        catering              2\n",
       "3       ecommerce              3\n",
       "4       education              4\n",
       "5   entertainment              5\n",
       "6         finance              6\n",
       "7      government              7\n",
       "8           legal              8\n",
       "9         leisure              9\n",
       "10          media             10\n",
       "11      nonprofit             11\n",
       "12     technology             12\n",
       "13       wellness             13"
      ]
     },
     "execution_count": 47,
     "metadata": {},
     "output_type": "execute_result"
    }
   ],
   "source": [
    "sector_id_df"
   ]
  },
  {
   "cell_type": "code",
   "execution_count": 48,
   "metadata": {},
   "outputs": [],
   "source": [
    "results_df = evaluation.get_results_df()\n",
    "\n",
    "#results_df[(results_df['actual_label']==0) & (results_df['predicted_class']!=0)]"
   ]
  },
  {
   "cell_type": "code",
   "execution_count": 49,
   "metadata": {},
   "outputs": [
    {
     "data": {
      "text/plain": [
       "8.625877632898696"
      ]
     },
     "execution_count": 49,
     "metadata": {},
     "output_type": "execute_result"
    }
   ],
   "source": [
    "evaluation.get_misclassified(results_df)"
   ]
  },
  {
   "cell_type": "code",
   "execution_count": 50,
   "metadata": {},
   "outputs": [],
   "source": [
    "# evaluation.save_classification_report(\"../../../datasets/reports\", \"sample_01_vertical_bow\")"
   ]
  },
  {
   "cell_type": "markdown",
   "metadata": {},
   "source": [
    "#### 4.2.6.2. TF-IDF Approach\n",
    "\n",
    "- Trying to improve the current model changing the vectorization step.\n",
    "- Using TF instead of word counts and dividing the number of occurrences by the sequence length.\n",
    "- Downscaling these frequencies (IDF) so that words with greater occurrences get lower values.\n",
    "- Downside of this approach: features resulting from TFIDF are **not able to capture semantics**."
   ]
  },
  {
   "cell_type": "code",
   "execution_count": 51,
   "metadata": {},
   "outputs": [
    {
     "name": "stdout",
     "output_type": "stream",
     "text": [
      "[Errno 2] No such file or directory: '../03_Scripts/'\n",
      "/Users/danielaperezduro/Desktop/Proyectos/GitHub/campaignclassificationwnlp/notebooks/01_Main_Model\n"
     ]
    }
   ],
   "source": [
    "cd ../03_Scripts/"
   ]
  },
  {
   "cell_type": "code",
   "execution_count": 52,
   "metadata": {},
   "outputs": [
    {
     "name": "stdout",
     "output_type": "stream",
     "text": [
      "python: can't open file '05_verticalmodel_model_selection.py': [Errno 2] No such file or directory\r\n"
     ]
    }
   ],
   "source": [
    "! python 05_verticalmodel_model_selection.py --input_root ../../../datasets/output/sample_01/output_06/ --input_file es.csv --vectorizer TfidfVectorizer --stemmer spanish"
   ]
  },
  {
   "cell_type": "markdown",
   "metadata": {},
   "source": [
    "- Our first model ('Vertical Model') improves slighltly using a TF-IDF Vectorizer."
   ]
  },
  {
   "cell_type": "markdown",
   "metadata": {},
   "source": [
    "#### 4.2.6.3. Creating a Word Embedding model usign Word2Vec\n",
    "\n",
    "- Trying to improve the model using dense representations of words instead of the sparse representations provided by BoW and Tfidf.\n",
    "\n",
    "- These dense representations will be learned from the train part of our messages (our corpus). \n",
    "\n",
    "- They will be used later in the first layer of a neural network as weights.\n",
    "\n",
    "**Steps**:\n",
    "\n",
    "- 4.2.6.3.1. Defining the training data.\n",
    "\n",
    "- 4.2.6.3.2. Training a Word2Vec model from scratch with gensim to obtain word vectors.\n",
    "\n",
    "- 4.2.6.3.3. Building a deep learning model using these Word2Vec vectors."
   ]
  },
  {
   "cell_type": "markdown",
   "metadata": {},
   "source": [
    "#### 4.2.6.3.1. Defining the training data\n",
    "\n",
    "- Converting the texts in `message` into lists of normalized tokens (without stopwords).\n",
    "- Converting the target into categorical.\n",
    "- Splitting between train and test: we will use the train part to learn our word embeddings."
   ]
  },
  {
   "cell_type": "code",
   "execution_count": 53,
   "metadata": {},
   "outputs": [
    {
     "name": "stdout",
     "output_type": "stream",
     "text": [
      "Reshaping the target with one-hot encoding\n",
      "Converting our texts into lists of tokens\n",
      "Removing empty tokens\n",
      "Removing stopwords\n"
     ]
    }
   ],
   "source": [
    "# Creating an instance\n",
    "\n",
    "spanish = VerticalModelGetWordVectors(spanish.language_df, 'spanish')"
   ]
  },
  {
   "cell_type": "markdown",
   "metadata": {},
   "source": [
    "#### Checking number of messages (rows) before splitting"
   ]
  },
  {
   "cell_type": "code",
   "execution_count": 54,
   "metadata": {},
   "outputs": [
    {
     "data": {
      "text/plain": [
       "9963"
      ]
     },
     "execution_count": 54,
     "metadata": {},
     "output_type": "execute_result"
    }
   ],
   "source": [
    "len(spanish.sentences)"
   ]
  },
  {
   "cell_type": "markdown",
   "metadata": {},
   "source": [
    "#### Splitting between train and test"
   ]
  },
  {
   "cell_type": "code",
   "execution_count": 55,
   "metadata": {},
   "outputs": [
    {
     "data": {
      "text/plain": [
       "array([[0., 0., 0., ..., 0., 0., 0.],\n",
       "       [0., 0., 0., ..., 0., 0., 0.],\n",
       "       [0., 0., 0., ..., 0., 0., 0.],\n",
       "       ...,\n",
       "       [0., 0., 0., ..., 0., 0., 0.],\n",
       "       [0., 0., 0., ..., 1., 0., 0.],\n",
       "       [0., 0., 0., ..., 0., 0., 0.]], dtype=float32)"
      ]
     },
     "execution_count": 55,
     "metadata": {},
     "output_type": "execute_result"
    }
   ],
   "source": [
    "spanish.target"
   ]
  },
  {
   "cell_type": "code",
   "execution_count": 56,
   "metadata": {},
   "outputs": [],
   "source": [
    "features_train, features_test, target_train, target_test = spanish.splitter()"
   ]
  },
  {
   "cell_type": "code",
   "execution_count": 57,
   "metadata": {},
   "outputs": [
    {
     "data": {
      "text/plain": [
       "8966"
      ]
     },
     "execution_count": 57,
     "metadata": {},
     "output_type": "execute_result"
    }
   ],
   "source": [
    "len(features_train)"
   ]
  },
  {
   "cell_type": "code",
   "execution_count": 58,
   "metadata": {},
   "outputs": [
    {
     "data": {
      "text/plain": [
       "997"
      ]
     },
     "execution_count": 58,
     "metadata": {},
     "output_type": "execute_result"
    }
   ],
   "source": [
    "len(features_test)"
   ]
  },
  {
   "cell_type": "markdown",
   "metadata": {},
   "source": [
    "#### 4.2.6.3.2. Training a Word2Vec model from scratch with gensim using `features_train` \n",
    "\n",
    "Word2Vec Hyperparameters:\n",
    "\n",
    "- **Training algorithm**: we will use the default training algorithm **CBOW**.\n",
    "\n",
    "- **Size**: our model will learn a 100-dimensional vector representation fo each word.\n",
    "\n",
    "- **Minimum count of words**: words with a frequency of less than 3 will not be taken into account.\n",
    "\n",
    "- **Window**: the maximum distance between a target word and its words around; we will use the default value 5.."
   ]
  },
  {
   "cell_type": "code",
   "execution_count": 59,
   "metadata": {},
   "outputs": [
    {
     "name": "stdout",
     "output_type": "stream",
     "text": [
      "Corpus shape:  (8966,)\n"
     ]
    }
   ],
   "source": [
    "corpus, model = spanish.getting_embedding_model(features_train)"
   ]
  },
  {
   "cell_type": "code",
   "execution_count": 60,
   "metadata": {},
   "outputs": [
    {
     "name": "stdout",
     "output_type": "stream",
     "text": [
      "Word2Vec(vocab=61530, size=100, alpha=0.025)\n",
      "Vector size:  100\n"
     ]
    }
   ],
   "source": [
    "# observing word vector dimensions and vocabulary size\n",
    "\n",
    "print(model)\n",
    "print('Vector size: ', model.vector_size)"
   ]
  },
  {
   "cell_type": "markdown",
   "metadata": {},
   "source": [
    "- After training we have our embedding model with a vocabulary of  unique words.\n",
    "\n",
    "- We can access to these word vectors through `model.wv`."
   ]
  },
  {
   "cell_type": "markdown",
   "metadata": {},
   "source": [
    "#### Checking token (word) representations through `model.wv`\n",
    "\n",
    "- `KeyedVectors` structure: a mapping between `keys` and `vectors`.\n",
    "\n",
    "- Each vector is identified by its lookup key (a word)."
   ]
  },
  {
   "cell_type": "code",
   "execution_count": 61,
   "metadata": {},
   "outputs": [
    {
     "data": {
      "text/plain": [
       "<gensim.models.keyedvectors.Word2VecKeyedVectors at 0x154b03be0>"
      ]
     },
     "execution_count": 61,
     "metadata": {},
     "output_type": "execute_result"
    }
   ],
   "source": [
    "model_wv = model.wv\n",
    "model_wv"
   ]
  },
  {
   "cell_type": "markdown",
   "metadata": {},
   "source": [
    "- Each token (word) is represented as a 100-dimensional word vector:"
   ]
  },
  {
   "cell_type": "code",
   "execution_count": 88,
   "metadata": {},
   "outputs": [
    {
     "data": {
      "text/plain": [
       "array([ 0.23520581,  0.25290564, -0.5980762 , -1.6155307 ,  0.97513145,\n",
       "        1.7241169 ,  0.51231796, -0.3641162 , -0.30367285, -3.034459  ,\n",
       "        1.0809658 , -1.9971554 ,  1.2408084 ,  0.6893222 , -2.9726043 ,\n",
       "        0.7047724 , -0.9034902 , -0.21054584, -2.3121076 , -0.6736801 ,\n",
       "        0.74145246, -0.3821769 , -0.13568506,  0.6089339 , -1.6478314 ,\n",
       "       -2.295446  ,  1.2722025 , -1.2004308 ,  0.93579596, -3.7272327 ,\n",
       "       -1.6152098 ,  1.7984893 , -2.1130953 ,  1.6931496 , -0.01948503,\n",
       "        1.9270988 , -1.8563615 ,  0.7343296 ,  2.1222718 ,  1.497756  ,\n",
       "        0.5630167 , -1.2553537 ,  0.37000826, -0.09695441,  2.8435931 ,\n",
       "        0.8141329 ,  0.6378183 ,  2.0879583 , -1.3905103 ,  0.5465934 ,\n",
       "       -3.506855  , -1.039198  , -0.3066803 ,  2.1750906 ,  0.31656533,\n",
       "       -1.6472175 ,  1.7418661 ,  1.6072242 ,  1.1103297 ,  1.7842867 ,\n",
       "        2.8469305 , -0.76551807, -0.42637432, -1.7580034 , -2.600947  ,\n",
       "        0.6341076 ,  0.90228814,  0.7161963 ,  1.6202338 , -1.8045583 ,\n",
       "        0.00790987, -2.4420707 ,  1.4662511 , -0.18398295, -1.4002731 ,\n",
       "       -0.26010564, -1.8134823 ,  0.67182696,  2.8137937 , -1.1062125 ,\n",
       "        0.3841158 , -0.9858388 ,  0.64634806,  0.1276158 , -1.4458032 ,\n",
       "        1.3130417 ,  2.0933907 , -0.3528124 , -2.045198  , -0.78525674,\n",
       "       -0.5852853 ,  0.3318491 ,  2.1988156 , -0.41743082, -1.3921325 ,\n",
       "        3.2811835 ,  0.90408736,  1.7028837 ,  0.05433214,  1.6948246 ],\n",
       "      dtype=float32)"
      ]
     },
     "execution_count": 88,
     "metadata": {},
     "output_type": "execute_result"
    }
   ],
   "source": [
    "model_wv['pued'][:]"
   ]
  },
  {
   "cell_type": "markdown",
   "metadata": {},
   "source": [
    "#### Checking most similar words"
   ]
  },
  {
   "cell_type": "code",
   "execution_count": 72,
   "metadata": {},
   "outputs": [
    {
     "data": {
      "text/plain": [
       "[('clas', 0.8311218023300171),\n",
       " ('modal', 0.8177667856216431),\n",
       " ('seminari', 0.8143434524536133),\n",
       " ('aul', 0.7972973585128784),\n",
       " ('laboralesplaz', 0.786739706993103),\n",
       " ('natacion', 0.7853668928146362),\n",
       " ('alumn', 0.7708033323287964),\n",
       " ('gratuit', 0.7644963264465332),\n",
       " ('sanitarial', 0.7594812512397766),\n",
       " ('diplom', 0.7525701522827148)]"
      ]
     },
     "execution_count": 72,
     "metadata": {},
     "output_type": "execute_result"
    }
   ],
   "source": [
    "model_wv.most_similar('presencial')"
   ]
  },
  {
   "cell_type": "code",
   "execution_count": 74,
   "metadata": {},
   "outputs": [
    {
     "data": {
      "text/plain": [
       "[('adult', 0.8610222339630127),\n",
       " ('adolescent', 0.7979990243911743),\n",
       " ('hipotec', 0.7423117160797119),\n",
       " ('muj', 0.7374426126480103),\n",
       " ('plen', 0.7338228225708008),\n",
       " ('hombr', 0.7284272313117981),\n",
       " ('cuatr', 0.7224066853523254),\n",
       " ('edad', 0.7146936655044556),\n",
       " ('nac', 0.7145366668701172),\n",
       " ('parej', 0.7113684415817261)]"
      ]
     },
     "execution_count": 74,
     "metadata": {},
     "output_type": "execute_result"
    }
   ],
   "source": [
    "model_wv.most_similar('niñ')"
   ]
  },
  {
   "cell_type": "code",
   "execution_count": 75,
   "metadata": {},
   "outputs": [
    {
     "data": {
      "text/plain": [
       "[('secundari', 0.9051446914672852),\n",
       " ('universitari', 0.8653284311294556),\n",
       " ('maestr', 0.8477373123168945),\n",
       " ('fp', 0.8404687643051147),\n",
       " ('docenci', 0.8365150094032288),\n",
       " ('arquitect', 0.8184137344360352),\n",
       " ('celador', 0.8071708679199219),\n",
       " ('docent', 0.8043333292007446),\n",
       " ('almeriamadr', 0.7892889976501465),\n",
       " ('enseñ', 0.7890660762786865)]"
      ]
     },
     "execution_count": 75,
     "metadata": {},
     "output_type": "execute_result"
    }
   ],
   "source": [
    "model_wv.most_similar('profesor')"
   ]
  },
  {
   "cell_type": "code",
   "execution_count": 76,
   "metadata": {},
   "outputs": [
    {
     "data": {
      "text/plain": [
       "[('franci', 0.9360690116882324),\n",
       " ('itali', 0.8542121052742004),\n",
       " ('milit', 0.8346668481826782),\n",
       " ('alemaniapost', 0.8165828585624695),\n",
       " ('terminadopost', 0.8126831650733948),\n",
       " ('multinacional', 0.8081051707267761),\n",
       " ('portugal', 0.806353747844696),\n",
       " ('fronter', 0.799864649772644),\n",
       " ('supus', 0.7996582984924316),\n",
       " ('satelit', 0.7961890697479248)]"
      ]
     },
     "execution_count": 76,
     "metadata": {},
     "output_type": "execute_result"
    }
   ],
   "source": [
    "model_wv.most_similar('alemani')"
   ]
  },
  {
   "cell_type": "code",
   "execution_count": 78,
   "metadata": {},
   "outputs": [
    {
     "data": {
      "text/plain": [
       "[('canc', 0.8706092238426208),\n",
       " ('farmac', 0.8548662662506104),\n",
       " ('grip', 0.852351725101471),\n",
       " ('brot', 0.8467246890068054),\n",
       " ('sarscov', 0.8422161936759949),\n",
       " ('contagi', 0.8114998936653137),\n",
       " ('pandemi', 0.8038771152496338),\n",
       " ('epidemi', 0.7908207774162292),\n",
       " ('cov', 0.789469838142395),\n",
       " ('poblacion', 0.7890412211418152)]"
      ]
     },
     "execution_count": 78,
     "metadata": {},
     "output_type": "execute_result"
    }
   ],
   "source": [
    "model_wv.most_similar('coronavirus')"
   ]
  },
  {
   "cell_type": "code",
   "execution_count": 79,
   "metadata": {},
   "outputs": [
    {
     "data": {
      "text/plain": [
       "[('colombial', 0.9257878661155701),\n",
       " ('pest', 0.9196913838386536),\n",
       " ('respiratori', 0.9007499814033508),\n",
       " ('prevalent', 0.8952677845954895),\n",
       " ('circovirus', 0.8884010910987854),\n",
       " ('reproduct', 0.8853830099105835),\n",
       " ('african', 0.8823903799057007),\n",
       " ('granj', 0.8632199764251709),\n",
       " ('enfermedad', 0.8626083135604858),\n",
       " ('ambiental', 0.8624659776687622)]"
      ]
     },
     "execution_count": 79,
     "metadata": {},
     "output_type": "execute_result"
    }
   ],
   "source": [
    "model_wv.most_similar('porcin')"
   ]
  },
  {
   "cell_type": "code",
   "execution_count": 80,
   "metadata": {},
   "outputs": [
    {
     "data": {
      "text/plain": [
       "[('alegr', 0.8995333909988403),\n",
       " ('corazon', 0.899021565914154),\n",
       " ('sueñ', 0.8873536586761475),\n",
       " ('voy', 0.8857077360153198),\n",
       " ('magi', 0.8849211931228638),\n",
       " ('felic', 0.8779655694961548),\n",
       " ('volv', 0.8779242634773254),\n",
       " ('amor', 0.8654426336288452),\n",
       " ('cariñ', 0.8632555603981018),\n",
       " ('veng', 0.8521076440811157)]"
      ]
     },
     "execution_count": 80,
     "metadata": {},
     "output_type": "execute_result"
    }
   ],
   "source": [
    "model_wv.most_similar('ilusion')"
   ]
  },
  {
   "cell_type": "code",
   "execution_count": 81,
   "metadata": {},
   "outputs": [
    {
     "data": {
      "text/plain": [
       "[('oligarqu', 0.8631521463394165),\n",
       " ('occident', 0.8439397215843201),\n",
       " ('gobi', 0.8404943943023682),\n",
       " ('geopolit', 0.8352060317993164),\n",
       " ('alin', 0.8290115594863892),\n",
       " ('belic', 0.8278498649597168),\n",
       " ('sistemat', 0.8188304901123047),\n",
       " ('crecient', 0.8185170888900757),\n",
       " ('destruccion', 0.8174668550491333),\n",
       " ('estall', 0.8117529153823853)]"
      ]
     },
     "execution_count": 81,
     "metadata": {},
     "output_type": "execute_result"
    }
   ],
   "source": [
    "model_wv.most_similar('occidental')"
   ]
  },
  {
   "cell_type": "code",
   "execution_count": 83,
   "metadata": {},
   "outputs": [
    {
     "data": {
      "text/plain": [
       "[('viern', 0.9448037147521973),\n",
       " ('juev', 0.902559757232666),\n",
       " ('mañan', 0.8830177783966064),\n",
       " ('doming', 0.8632924556732178),\n",
       " ('miercol', 0.8271694183349609),\n",
       " ('mart', 0.8263916373252869),\n",
       " ('horari', 0.8259829878807068),\n",
       " ('directomuch', 0.8004377484321594),\n",
       " ('ener', 0.7968357801437378),\n",
       " ('noviembreconferent', 0.793911337852478)]"
      ]
     },
     "execution_count": 83,
     "metadata": {},
     "output_type": "execute_result"
    }
   ],
   "source": [
    "model_wv.most_similar('lun')"
   ]
  },
  {
   "cell_type": "markdown",
   "metadata": {},
   "source": [
    "#### 4.2.6.3.3. Building a deep learning model with Word2Vec vectors\n",
    "\n",
    "Steps\n",
    "\n",
    "- Transforming texts into padded sequences of word ids.\n",
    "- Creating an embedding matrix.\n",
    "- Building a neural network with an embedding layer."
   ]
  },
  {
   "cell_type": "markdown",
   "metadata": {},
   "source": [
    "#### Transforming texts into padded sequences of word ids\n",
    "\n",
    "Steps\n",
    "\n",
    "- Converting our corpus into a list of lists of tokens.\n",
    "- Creating a vocabulary index from that list.\n",
    "- Transforming each list of tokens into a sequence of integers.\n",
    "- Padding sequences.\n",
    "- Applying the same feature engineering techniques for the test set."
   ]
  },
  {
   "cell_type": "code",
   "execution_count": 89,
   "metadata": {},
   "outputs": [],
   "source": [
    "# Create an instance\n",
    "\n",
    "feat_eng_instance =  VerticalModelGetPaddedSeqs(corpus, features_test)"
   ]
  },
  {
   "cell_type": "code",
   "execution_count": 90,
   "metadata": {},
   "outputs": [
    {
     "name": "stdout",
     "output_type": "stream",
     "text": [
      "8966\n"
     ]
    }
   ],
   "source": [
    "# converting our corpus into a list of lists of tokens\n",
    "\n",
    "corpus_list = feat_eng_instance.corpus_get_list_of_lists()\n",
    "\n",
    "print(len(corpus_list))"
   ]
  },
  {
   "cell_type": "code",
   "execution_count": 91,
   "metadata": {},
   "outputs": [
    {
     "data": {
      "text/plain": [
       "61530"
      ]
     },
     "execution_count": 91,
     "metadata": {},
     "output_type": "execute_result"
    }
   ],
   "source": [
    "# checking the size of our vocabulary\n",
    "\n",
    "feat_eng_instance.check_corpus_size(corpus_list)"
   ]
  },
  {
   "cell_type": "code",
   "execution_count": 92,
   "metadata": {},
   "outputs": [],
   "source": [
    "# creating a vocabulary index from our corpus_list\n",
    "# every token gets a unique integer values starting from 1 (0 is reserved for padding)\n",
    "\n",
    "dic_vocabulary, tokenizer = feat_eng_instance.get_vocab_index(corpus_list)"
   ]
  },
  {
   "cell_type": "code",
   "execution_count": 93,
   "metadata": {},
   "outputs": [
    {
     "data": {
      "text/plain": [
       "61530"
      ]
     },
     "execution_count": 93,
     "metadata": {},
     "output_type": "execute_result"
    }
   ],
   "source": [
    "len(dic_vocabulary)"
   ]
  },
  {
   "cell_type": "code",
   "execution_count": 94,
   "metadata": {},
   "outputs": [
    {
     "data": {
      "text/plain": [
       "<keras_preprocessing.text.Tokenizer at 0x158ed4580>"
      ]
     },
     "execution_count": 94,
     "metadata": {},
     "output_type": "execute_result"
    }
   ],
   "source": [
    "tokenizer"
   ]
  },
  {
   "cell_type": "code",
   "execution_count": 95,
   "metadata": {},
   "outputs": [],
   "source": [
    "# Transforming each list of tokens into a sequence of integers\n",
    "\n",
    "encoded_corpus_seqs = feat_eng_instance.integer_transformer(corpus_list, tokenizer)"
   ]
  },
  {
   "cell_type": "code",
   "execution_count": 96,
   "metadata": {},
   "outputs": [
    {
     "name": "stdout",
     "output_type": "stream",
     "text": [
      "165\n",
      "17\n",
      "484\n"
     ]
    }
   ],
   "source": [
    "# the embedding layer expects sentences to be of equal size\n",
    "\n",
    "print(len(encoded_corpus_seqs[0]))\n",
    "print(len(encoded_corpus_seqs[1]))\n",
    "print(len(encoded_corpus_seqs[2]))"
   ]
  },
  {
   "cell_type": "code",
   "execution_count": 97,
   "metadata": {},
   "outputs": [
    {
     "data": {
      "text/plain": [
       "165"
      ]
     },
     "execution_count": 97,
     "metadata": {},
     "output_type": "execute_result"
    }
   ],
   "source": [
    "max_length = feat_eng_instance.get_messages_max_length(encoded_corpus_seqs)\n",
    "max_length"
   ]
  },
  {
   "cell_type": "markdown",
   "metadata": {},
   "source": [
    "#### Padding sequences"
   ]
  },
  {
   "cell_type": "code",
   "execution_count": 98,
   "metadata": {},
   "outputs": [],
   "source": [
    "padded_sequences = feat_eng_instance.get_padded_seqs(encoded_corpus_seqs, max_length)"
   ]
  },
  {
   "cell_type": "code",
   "execution_count": 99,
   "metadata": {},
   "outputs": [
    {
     "name": "stdout",
     "output_type": "stream",
     "text": [
      "165\n",
      "165\n",
      "165\n"
     ]
    }
   ],
   "source": [
    "print(len(padded_sequences[0]))\n",
    "print(len(padded_sequences[1]))\n",
    "print(len(padded_sequences[2]))"
   ]
  },
  {
   "cell_type": "code",
   "execution_count": 100,
   "metadata": {},
   "outputs": [
    {
     "name": "stdout",
     "output_type": "stream",
     "text": [
      "[ 1710 26496   498  2544    18   358   739  1497  9254    22   143   152\n",
      "   358 35464   326  4131  1298  1261   228  8093 14092     8   568  2307\n",
      "   245  5408   235  2219  5090 35465     8   568  2307   923  4131  1298\n",
      "  8093    19   323  8866    22   196    22  1205    38  2095  6997 21308\n",
      "   344  1777  7221  1647    38   785   700   423    22    86   238  1441\n",
      "   134   471   134   128   393]\n",
      "[0 0 0 0 0 0 0 0 0 0 0 0 0 0 0 0 0 0 0 0 0 0 0 0 0 0 0 0 0 0 0 0 0 0 0 0 0\n",
      " 0 0 0 0 0 0 0 0 0 0 0 0 0 0 0 0 0 0 0 0 0 0 0 0 0 0 0 0]\n",
      "[  158     1    62     9    25  3290  2656   158 26502   384   560  1486\n",
      "    26    73   799   929   444   686   176   521   149   143  1060   232\n",
      "   297  4010   263   871    70  4277   297  4010  1032   444    42   104\n",
      " 26502  6998   199  6999  7000  2424   140   158    51   123  2288   310\n",
      "  2706     1   147   564    11    60   130   319  6801  7001 18333   982\n",
      "   918   292  3663  7002   696]\n"
     ]
    }
   ],
   "source": [
    "print(padded_sequences[0][100:max_length])\n",
    "print(padded_sequences[1][100:max_length])\n",
    "print(padded_sequences[2][100:max_length])"
   ]
  },
  {
   "cell_type": "code",
   "execution_count": 101,
   "metadata": {},
   "outputs": [
    {
     "data": {
      "text/plain": [
       "(8966, 165)"
      ]
     },
     "execution_count": 101,
     "metadata": {},
     "output_type": "execute_result"
    }
   ],
   "source": [
    "padded_sequences.shape"
   ]
  },
  {
   "cell_type": "markdown",
   "metadata": {},
   "source": [
    "- Our feature matrix has a shape of 8943 (the number of sequences) x 165 (sequences max length).\n",
    "\n",
    "- Every text in the corpus is now an id sequence with length 165."
   ]
  },
  {
   "cell_type": "markdown",
   "metadata": {},
   "source": [
    "#### Feature engineering for test"
   ]
  },
  {
   "cell_type": "code",
   "execution_count": 102,
   "metadata": {},
   "outputs": [
    {
     "name": "stdout",
     "output_type": "stream",
     "text": [
      "997\n"
     ]
    }
   ],
   "source": [
    "features_test_list = feat_eng_instance.features_test_get_list_of_lists()\n",
    "\n",
    "print(len(features_test_list))"
   ]
  },
  {
   "cell_type": "code",
   "execution_count": 103,
   "metadata": {},
   "outputs": [],
   "source": [
    "## converting to sequences using the same \"dic_vocabulary\" we obtained from our corpus (features_train)\n",
    "\n",
    "encoded_features_test = feat_eng_instance.integer_transformer(features_test_list, tokenizer)"
   ]
  },
  {
   "cell_type": "code",
   "execution_count": 104,
   "metadata": {},
   "outputs": [
    {
     "name": "stdout",
     "output_type": "stream",
     "text": [
      "176\n",
      "20\n",
      "137\n"
     ]
    }
   ],
   "source": [
    "# the embedding layer expects sentences to be of equal size\n",
    "\n",
    "print(len(encoded_features_test[3]))\n",
    "print(len(encoded_features_test[4]))\n",
    "print(len(encoded_features_test[5]))"
   ]
  },
  {
   "cell_type": "code",
   "execution_count": 105,
   "metadata": {},
   "outputs": [],
   "source": [
    "padded_sequences_test = feat_eng_instance.get_padded_seqs(encoded_features_test, max_length)"
   ]
  },
  {
   "cell_type": "code",
   "execution_count": 106,
   "metadata": {},
   "outputs": [
    {
     "name": "stdout",
     "output_type": "stream",
     "text": [
      "[   13   861   678   192    48    13  4067  4178  4477   555   129   364\n",
      "   678   192   285  1679   472    32   587    30    43    28  2011   314\n",
      "    62   835   760  1064   219  5642  2739 46687   555  1354   283  4140\n",
      "  2727    44  1679   472  8191 46688   555  5750  5874   551  1985 10865\n",
      "  5605   555   129  1167   283   285    32  5517   285   441    85     1\n",
      "   111    11   285  4636   166]\n",
      "[0 0 0 0 0 0 0 0 0 0 0 0 0 0 0 0 0 0 0 0 0 0 0 0 0 0 0 0 0 0 0 0 0 0 0 0 0\n",
      " 0 0 0 0 0 0 0 0 0 0 0 0 0 0 0 0 0 0 0 0 0 0 0 0 0 0 0 0]\n",
      "[ 657  192  877  400 1972    8  700  128  173  563  128  104   39  173\n",
      "  539  336  563 1219 1386 5600 4618 6134  421  117    5 4071  109 6135\n",
      "   48 2399 1617 4619 1801 1676 1114 1448 1995    0    0    0    0    0\n",
      "    0    0    0    0    0    0    0    0    0    0    0    0    0    0\n",
      "    0    0    0    0    0    0    0    0    0]\n"
     ]
    }
   ],
   "source": [
    "print(padded_sequences_test[3][100:max_length])\n",
    "print(padded_sequences_test[4][100:max_length])\n",
    "print(padded_sequences_test[5][100:max_length])"
   ]
  },
  {
   "cell_type": "markdown",
   "metadata": {},
   "source": [
    "#### Creating a weight matrix for the neural network classifier"
   ]
  },
  {
   "cell_type": "code",
   "execution_count": 107,
   "metadata": {},
   "outputs": [],
   "source": [
    "weight_matrix_instance = VerticalModelGetWeightMatrix(100, dic_vocabulary, model_wv)"
   ]
  },
  {
   "cell_type": "code",
   "execution_count": 108,
   "metadata": {},
   "outputs": [],
   "source": [
    "embedding_matrix = weight_matrix_instance.embedding_matrix_creator()"
   ]
  },
  {
   "cell_type": "code",
   "execution_count": 109,
   "metadata": {},
   "outputs": [
    {
     "data": {
      "text/plain": [
       "(61531, 100)"
      ]
     },
     "execution_count": 109,
     "metadata": {},
     "output_type": "execute_result"
    }
   ],
   "source": [
    "embedding_matrix.shape"
   ]
  },
  {
   "cell_type": "markdown",
   "metadata": {},
   "source": [
    "- Each id from `dic_vocabulary` represents now an index to access the embedding matrix"
   ]
  },
  {
   "cell_type": "code",
   "execution_count": 110,
   "metadata": {},
   "outputs": [
    {
     "data": {
      "text/plain": [
       "1"
      ]
     },
     "execution_count": 110,
     "metadata": {},
     "output_type": "execute_result"
    }
   ],
   "source": [
    "dic_vocabulary['pued']"
   ]
  },
  {
   "cell_type": "code",
   "execution_count": 111,
   "metadata": {},
   "outputs": [
    {
     "data": {
      "text/plain": [
       "array([ 0.23520581,  0.25290564, -0.59807622, -1.61553073,  0.97513145,\n",
       "        1.72411692,  0.51231796, -0.36411619, -0.30367285, -3.03445911])"
      ]
     },
     "execution_count": 111,
     "metadata": {},
     "output_type": "execute_result"
    }
   ],
   "source": [
    "embedding_matrix[1][:10]"
   ]
  },
  {
   "cell_type": "code",
   "execution_count": 112,
   "metadata": {},
   "outputs": [
    {
     "data": {
      "text/plain": [
       "array([ 0.23520581,  0.25290564, -0.5980762 , -1.6155307 ,  0.97513145,\n",
       "        1.7241169 ,  0.51231796, -0.3641162 , -0.30367285, -3.034459  ],\n",
       "      dtype=float32)"
      ]
     },
     "execution_count": 112,
     "metadata": {},
     "output_type": "execute_result"
    }
   ],
   "source": [
    "model_wv['pued'][:10]"
   ]
  },
  {
   "cell_type": "code",
   "execution_count": 113,
   "metadata": {},
   "outputs": [
    {
     "data": {
      "text/plain": [
       "array([ True,  True,  True,  True,  True,  True,  True,  True,  True,\n",
       "        True])"
      ]
     },
     "execution_count": 113,
     "metadata": {},
     "output_type": "execute_result"
    }
   ],
   "source": [
    "embedding_matrix[1][:10] == model_wv['pued'][:10]"
   ]
  },
  {
   "cell_type": "markdown",
   "metadata": {},
   "source": [
    "#### Building a neural network with an embedding layer\n",
    "\n",
    "- We will add an embedding layer as the first layer of our neural network model.\n",
    "- We will use our pre-trained **embedding matrix** as the initial weights of our embedding layer.\n",
    "- These embedding vectors **will not be updated during training**."
   ]
  },
  {
   "cell_type": "markdown",
   "metadata": {},
   "source": [
    "#### Architecture\n",
    "\n",
    "- **Embedding layer**: the `input_dim` is size of the vocabulary; the `output_dim` is the size of the vector space in which words will be embedded, we will use or embedded matrix as  `weights`.\n",
    "\n",
    "- **Hidden dense layers**:  they use the rectified linear activation function and have different number of nodes.\n",
    "\n",
    "- **Flatten layer**: we need to convert the data to a 1-D array to connect it to the final classification model.\n",
    "\n",
    "- **Output layer**: we will use a softmax activation function, which normalizes the output to a probability distribution over the predicted output categories. The number of categories will be introduced by the argument `nclasses` to the function."
   ]
  },
  {
   "cell_type": "code",
   "execution_count": 114,
   "metadata": {},
   "outputs": [],
   "source": [
    "# Creating an instance that configures the model\n",
    "\n",
    "neural_network = DeepLearningModelCreator(embedding_matrix)"
   ]
  },
  {
   "cell_type": "code",
   "execution_count": 115,
   "metadata": {},
   "outputs": [
    {
     "data": {
      "text/plain": [
       "(61531, 100)"
      ]
     },
     "execution_count": 115,
     "metadata": {},
     "output_type": "execute_result"
    }
   ],
   "source": [
    "neural_network.embedding_matrix.shape"
   ]
  },
  {
   "cell_type": "code",
   "execution_count": 116,
   "metadata": {},
   "outputs": [],
   "source": [
    "# Defining the model\n",
    "\n",
    "m = neural_network.model_builder(14, max_length)"
   ]
  },
  {
   "cell_type": "code",
   "execution_count": 117,
   "metadata": {},
   "outputs": [
    {
     "name": "stdout",
     "output_type": "stream",
     "text": [
      "Model: \"sequential\"\n",
      "_________________________________________________________________\n",
      "Layer (type)                 Output Shape              Param #   \n",
      "=================================================================\n",
      "embedding (Embedding)        (None, 165, 100)          6153100   \n",
      "_________________________________________________________________\n",
      "dense (Dense)                (None, 165, 85)           8585      \n",
      "_________________________________________________________________\n",
      "dense_1 (Dense)              (None, 165, 42)           3612      \n",
      "_________________________________________________________________\n",
      "dense_2 (Dense)              (None, 165, 21)           903       \n",
      "_________________________________________________________________\n",
      "flatten (Flatten)            (None, 3465)              0         \n",
      "_________________________________________________________________\n",
      "dense_3 (Dense)              (None, 14)                48524     \n",
      "=================================================================\n",
      "Total params: 6,214,724\n",
      "Trainable params: 61,624\n",
      "Non-trainable params: 6,153,100\n",
      "_________________________________________________________________\n"
     ]
    }
   ],
   "source": [
    "m.summary()"
   ]
  },
  {
   "cell_type": "markdown",
   "metadata": {},
   "source": [
    "#### Compiling the model\n",
    "\n",
    "- We wil use a `categorical_crossentropy` loss function which is suitable for multi-class classification.\n",
    "- We will set the metrics to `categorical_accuracy`."
   ]
  },
  {
   "cell_type": "code",
   "execution_count": 118,
   "metadata": {},
   "outputs": [],
   "source": [
    "m.compile(loss='categorical_crossentropy', optimizer='adam', metrics=['categorical_accuracy'])"
   ]
  },
  {
   "cell_type": "code",
   "execution_count": 119,
   "metadata": {},
   "outputs": [
    {
     "data": {
      "text/plain": [
       "(8966, 165)"
      ]
     },
     "execution_count": 119,
     "metadata": {},
     "output_type": "execute_result"
    }
   ],
   "source": [
    "padded_sequences.shape"
   ]
  },
  {
   "cell_type": "code",
   "execution_count": 120,
   "metadata": {},
   "outputs": [
    {
     "data": {
      "text/plain": [
       "(8966, 14)"
      ]
     },
     "execution_count": 120,
     "metadata": {},
     "output_type": "execute_result"
    }
   ],
   "source": [
    "target_train.shape"
   ]
  },
  {
   "cell_type": "markdown",
   "metadata": {},
   "source": [
    "#### Fitting the model on the train dataset"
   ]
  },
  {
   "cell_type": "code",
   "execution_count": 121,
   "metadata": {},
   "outputs": [],
   "source": [
    "h = m.fit(padded_sequences, target_train, epochs=50, verbose=0, batch_size=10)"
   ]
  },
  {
   "cell_type": "markdown",
   "metadata": {},
   "source": [
    "#### Analyzing performance"
   ]
  },
  {
   "cell_type": "markdown",
   "metadata": {},
   "source": [
    "- After the model is fit, we need to evaluate it on the **test set**."
   ]
  },
  {
   "cell_type": "code",
   "execution_count": 122,
   "metadata": {},
   "outputs": [
    {
     "name": "stdout",
     "output_type": "stream",
     "text": [
      "Training Accuracy: 0.8425\n"
     ]
    }
   ],
   "source": [
    "# Training\n",
    "\n",
    "loss, accuracy = m.evaluate(padded_sequences_test, target_test, verbose=False)\n",
    "print(\"Training Accuracy: {:.4f}\".format(accuracy))"
   ]
  },
  {
   "cell_type": "code",
   "execution_count": 123,
   "metadata": {},
   "outputs": [
    {
     "data": {
      "image/png": "[encoded data removed]",
      "text/plain": [
       "<Figure size 432x288 with 1 Axes>"
      ]
     },
     "metadata": {
      "needs_background": "light"
     },
     "output_type": "display_data"
    }
   ],
   "source": [
    "neural_network.plot_metric(h, 'loss')"
   ]
  },
  {
   "cell_type": "code",
   "execution_count": 124,
   "metadata": {},
   "outputs": [
    {
     "data": {
      "image/png": "[encoded data removed]",
      "text/plain": [
       "<Figure size 432x288 with 1 Axes>"
      ]
     },
     "metadata": {
      "needs_background": "light"
     },
     "output_type": "display_data"
    }
   ],
   "source": [
    "neural_network.plot_metric(h, 'categorical_accuracy')"
   ]
  }
 ],
 "metadata": {
  "kernelspec": {
   "display_name": "Python 3",
   "language": "python",
   "name": "python3"
  },
  "language_info": {
   "codemirror_mode": {
    "name": "ipython",
    "version": 3
   },
   "file_extension": ".py",
   "mimetype": "text/x-python",
   "name": "python",
   "nbconvert_exporter": "python",
   "pygments_lexer": "ipython3",
   "version": "3.8.3"
  }
 },
 "nbformat": 4,
 "nbformat_minor": 5
}
