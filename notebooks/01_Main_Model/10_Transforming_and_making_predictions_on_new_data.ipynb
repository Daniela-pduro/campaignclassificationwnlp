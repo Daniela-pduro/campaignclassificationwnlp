{
 "cells": [
  {
   "cell_type": "markdown",
   "id": "entitled-steering",
   "metadata": {},
   "source": [
    "# Email Marketing Campaigns Optimization Model with NLP\n",
    "\n",
    "\n",
    "## Jupyter Notebook 10/10"
   ]
  },
  {
   "cell_type": "markdown",
   "id": "underlying-curtis",
   "metadata": {},
   "source": [
    "### 7. Cleaning, preprocessing, transforming new data and making new predictions."
   ]
  },
  {
   "cell_type": "markdown",
   "id": "mobile-chase",
   "metadata": {},
   "source": [
    "#### Script 01 - EDA & Feature Engineering (part I)\n",
    "\n",
    "- Obtaining the dataset\n",
    "- Dropping inactive accounts\n",
    "- Getting number of campaigns info\n",
    "- Applying log transformation\n",
    "- Handling outliers\n",
    "- Creating new variables `open_rate`, `ctr` and `ctor`\n",
    "- Removing duplicated users\n",
    "- Removing empty messages\n",
    "- Removing nonwords\n",
    "- Counting words in `subject` and `message`"
   ]
  },
  {
   "cell_type": "code",
   "execution_count": 1,
   "id": "superb-limitation",
   "metadata": {},
   "outputs": [
    {
     "name": "stdout",
     "output_type": "stream",
     "text": [
      "/Users/danielaperezduro/Desktop/TFM/emailmarketingwnlp/notebooks/03_Scripts\n"
     ]
    }
   ],
   "source": [
    "cd ../03_Scripts"
   ]
  },
  {
   "cell_type": "code",
   "execution_count": 2,
   "id": "silver-certificate",
   "metadata": {},
   "outputs": [
    {
     "name": "stderr",
     "output_type": "stream",
     "text": [
      "[nltk_data] Downloading package stopwords to\n",
      "[nltk_data]     /Users/danielaperezduro/nltk_data...\n",
      "[nltk_data]   Package stopwords is already up-to-date!\n",
      "[nltk_data] Downloading package punkt to\n",
      "[nltk_data]     /Users/danielaperezduro/nltk_data...\n",
      "[nltk_data]   Package punkt is already up-to-date!\n"
     ]
    },
    {
     "data": {
      "text/plain": [
       "True"
      ]
     },
     "execution_count": 2,
     "metadata": {},
     "output_type": "execute_result"
    }
   ],
   "source": [
    "import nltk\n",
    "nltk.download('stopwords')\n",
    "nltk.download('punkt')"
   ]
  },
  {
   "cell_type": "code",
   "execution_count": 3,
   "id": "average-assembly",
   "metadata": {},
   "outputs": [
    {
     "name": "stdout",
     "output_type": "stream",
     "text": [
      "Dataset:  campaigns_w_label_sample_02.csv\n",
      "Campaigns df shape: (54997, 10)\n",
      "Total Sent Skweness: 0.41\n",
      "Opens Skweness: -0.00\n",
      "Clicks Skewness: 0.12\n",
      "\n",
      "Outliers:\n",
      "213\n",
      "\n",
      "Outliers:\n",
      "618\n",
      "\n",
      "Outliers:\n",
      "183\n",
      "Mean value after outliers treatment: 3.26\n",
      "Mean value after outliers treatment: 2.46\n",
      "Mean value after outliers treatment: 1.34\n",
      "\n",
      "Outliers:\n",
      "0\n",
      "\n",
      "Outliers:\n",
      "0\n",
      "\n",
      "Outliers:\n",
      "0\n",
      "Number of campaigns within the dataset after removing users with duplicated accounts:  54948\n",
      "Number of campaigns within the dataset after removing empty messages:  54935\n",
      "Total number of words in subject:  417163\n",
      "Total number of words in message:  16313302\n"
     ]
    }
   ],
   "source": [
    "! python 01_mainmodel_before_filtering.py --input_root ../../../datasets/input --input_file campaigns_w_label_sample_02.csv --output_root ../../../datasets/output/sample_02/ --output_file output_01.csv"
   ]
  },
  {
   "cell_type": "markdown",
   "id": "opening-resident",
   "metadata": {},
   "source": [
    "#### Script 02 - Texts Cleaning \n",
    "\n",
    "- Removing irrelevant phrases from `message`"
   ]
  },
  {
   "cell_type": "code",
   "execution_count": 4,
   "id": "incident-prompt",
   "metadata": {},
   "outputs": [
    {
     "name": "stdout",
     "output_type": "stream",
     "text": [
      "output_01.csv\n",
      "File 01/39: \n",
      "1. Number of seconds since it started running: 1.1920928955078125e-06\n",
      "2. Campaigns shape before removing irrelevant phrases: (54935, 15)\n",
      "3. Removing empty messages\n",
      "4. Number of words before removing irrelevant phrases:  16313302\n",
      "5. Starting the process of removing irrelevant phrases from messages\n",
      "6. File appended\n",
      "7. Applying the remove_template method over the dataframe\n",
      "8. Number of words after having removed irrelevant phrases:  15579850\n",
      "9. Number of words removed:  733452\n",
      "10. Campaigns shape after having removed empty messages: (54513, 15)\n",
      "11. Number of words after having removed empty messages:  15579428\n",
      "12. Number of seconds since it started running: 827.8035199642181\n",
      "File 02/39: \n",
      "1. Number of seconds since it started running: 2.1457672119140625e-06\n",
      "2. Campaigns shape before removing irrelevant phrases: (54513, 15)\n",
      "3. Removing empty messages\n",
      "4. Number of words before removing irrelevant phrases:  15579428\n",
      "5. Starting the process of removing irrelevant phrases from messages\n",
      "6. File appended\n",
      "7. Applying the remove_template method over the dataframe\n",
      "8. Number of words after having removed irrelevant phrases:  15395097\n",
      "9. Number of words removed:  184331\n",
      "10. Campaigns shape after having removed empty messages: (54488, 15)\n",
      "11. Number of words after having removed empty messages:  15395072\n",
      "12. Number of seconds since it started running: 404.0319330692291\n",
      "File 03/39: \n",
      "1. Number of seconds since it started running: 2.1457672119140625e-06\n",
      "2. Campaigns shape before removing irrelevant phrases: (54488, 15)\n",
      "3. Removing empty messages\n",
      "4. Number of words before removing irrelevant phrases:  15395072\n",
      "5. Starting the process of removing irrelevant phrases from messages\n",
      "6. File appended\n",
      "7. Applying the remove_template method over the dataframe\n",
      "8. Number of words after having removed irrelevant phrases:  15350572\n",
      "9. Number of words removed:  44500\n",
      "10. Campaigns shape after having removed empty messages: (54488, 15)\n",
      "11. Number of words after having removed empty messages:  15350572\n",
      "12. Number of seconds since it started running: 483.350270986557\n",
      "File 04/39: \n",
      "1. Number of seconds since it started running: 5.7220458984375e-06\n",
      "2. Campaigns shape before removing irrelevant phrases: (54488, 15)\n",
      "3. Removing empty messages\n",
      "4. Number of words before removing irrelevant phrases:  15350572\n",
      "5. Starting the process of removing irrelevant phrases from messages\n",
      "6. File appended\n",
      "7. Applying the remove_template method over the dataframe\n",
      "8. Number of words after having removed irrelevant phrases:  15286870\n",
      "9. Number of words removed:  63702\n",
      "10. Campaigns shape after having removed empty messages: (54488, 15)\n",
      "11. Number of words after having removed empty messages:  15286870\n",
      "12. Number of seconds since it started running: 566.4231207370758\n",
      "File 05/39: \n",
      "1. Number of seconds since it started running: 5.245208740234375e-06\n",
      "2. Campaigns shape before removing irrelevant phrases: (54488, 15)\n",
      "3. Removing empty messages\n",
      "4. Number of words before removing irrelevant phrases:  15286870\n",
      "5. Starting the process of removing irrelevant phrases from messages\n",
      "6. File appended\n",
      "7. Applying the remove_template method over the dataframe\n",
      "8. Number of words after having removed irrelevant phrases:  15185298\n",
      "9. Number of words removed:  101572\n",
      "10. Campaigns shape after having removed empty messages: (54488, 15)\n",
      "11. Number of words after having removed empty messages:  15185298\n",
      "12. Number of seconds since it started running: 614.0279500484467\n",
      "File 06/39: \n",
      "1. Number of seconds since it started running: 8.821487426757812e-06\n",
      "2. Campaigns shape before removing irrelevant phrases: (54488, 15)\n",
      "3. Removing empty messages\n",
      "4. Number of words before removing irrelevant phrases:  15185298\n",
      "5. Starting the process of removing irrelevant phrases from messages\n",
      "6. File appended\n",
      "7. Applying the remove_template method over the dataframe\n",
      "8. Number of words after having removed irrelevant phrases:  15161260\n",
      "9. Number of words removed:  24038\n",
      "10. Campaigns shape after having removed empty messages: (54488, 15)\n",
      "11. Number of words after having removed empty messages:  15161260\n",
      "12. Number of seconds since it started running: 593.1742887496948\n",
      "File 07/39: \n",
      "1. Number of seconds since it started running: 6.9141387939453125e-06\n",
      "2. Campaigns shape before removing irrelevant phrases: (54488, 15)\n",
      "3. Removing empty messages\n",
      "4. Number of words before removing irrelevant phrases:  15161260\n",
      "5. Starting the process of removing irrelevant phrases from messages\n",
      "6. File appended\n",
      "7. Applying the remove_template method over the dataframe\n",
      "8. Number of words after having removed irrelevant phrases:  15146379\n",
      "9. Number of words removed:  14881\n",
      "10. Campaigns shape after having removed empty messages: (54488, 15)\n",
      "11. Number of words after having removed empty messages:  15146379\n",
      "12. Number of seconds since it started running: 486.9229528903961\n",
      "File 08/39: \n",
      "1. Number of seconds since it started running: 4.0531158447265625e-06\n",
      "2. Campaigns shape before removing irrelevant phrases: (54488, 15)\n",
      "3. Removing empty messages\n",
      "4. Number of words before removing irrelevant phrases:  15146379\n",
      "5. Starting the process of removing irrelevant phrases from messages\n",
      "6. File appended\n",
      "7. Applying the remove_template method over the dataframe\n",
      "8. Number of words after having removed irrelevant phrases:  15133419\n",
      "9. Number of words removed:  12960\n",
      "10. Campaigns shape after having removed empty messages: (54488, 15)\n",
      "11. Number of words after having removed empty messages:  15133419\n",
      "12. Number of seconds since it started running: 493.09845900535583\n",
      "File 09/39: \n",
      "1. Number of seconds since it started running: 2.1457672119140625e-06\n",
      "2. Campaigns shape before removing irrelevant phrases: (54488, 15)\n",
      "3. Removing empty messages\n",
      "4. Number of words before removing irrelevant phrases:  15133419\n",
      "5. Starting the process of removing irrelevant phrases from messages\n",
      "6. File appended\n",
      "7. Applying the remove_template method over the dataframe\n",
      "8. Number of words after having removed irrelevant phrases:  15063172\n",
      "9. Number of words removed:  70247\n",
      "10. Campaigns shape after having removed empty messages: (54488, 15)\n",
      "11. Number of words after having removed empty messages:  15063172\n",
      "12. Number of seconds since it started running: 492.19571924209595\n",
      "File 10/39: \n",
      "1. Number of seconds since it started running: 1.9073486328125e-06\n",
      "2. Campaigns shape before removing irrelevant phrases: (54488, 15)\n",
      "3. Removing empty messages\n",
      "4. Number of words before removing irrelevant phrases:  15063172\n",
      "5. Starting the process of removing irrelevant phrases from messages\n",
      "6. File appended\n",
      "7. Applying the remove_template method over the dataframe\n",
      "8. Number of words after having removed irrelevant phrases:  14943149\n",
      "9. Number of words removed:  120023\n",
      "10. Campaigns shape after having removed empty messages: (54488, 15)\n",
      "11. Number of words after having removed empty messages:  14943149\n",
      "12. Number of seconds since it started running: 468.20941710472107\n",
      "File 11/39: \n",
      "1. Number of seconds since it started running: 1.9073486328125e-06\n",
      "2. Campaigns shape before removing irrelevant phrases: (54488, 15)\n",
      "3. Removing empty messages\n",
      "4. Number of words before removing irrelevant phrases:  14943149\n",
      "5. Starting the process of removing irrelevant phrases from messages\n",
      "6. File appended\n",
      "7. Applying the remove_template method over the dataframe\n",
      "8. Number of words after having removed irrelevant phrases:  14844761\n",
      "9. Number of words removed:  98388\n",
      "10. Campaigns shape after having removed empty messages: (54488, 15)\n",
      "11. Number of words after having removed empty messages:  14844761\n",
      "12. Number of seconds since it started running: 325.19033098220825\n",
      "File 12/39: \n",
      "1. Number of seconds since it started running: 1.9073486328125e-06\n",
      "2. Campaigns shape before removing irrelevant phrases: (54488, 15)\n",
      "3. Removing empty messages\n",
      "4. Number of words before removing irrelevant phrases:  14844761\n",
      "5. Starting the process of removing irrelevant phrases from messages\n",
      "6. File appended\n",
      "7. Applying the remove_template method over the dataframe\n",
      "8. Number of words after having removed irrelevant phrases:  14783461\n",
      "9. Number of words removed:  61300\n",
      "10. Campaigns shape after having removed empty messages: (54488, 15)\n",
      "11. Number of words after having removed empty messages:  14783461\n",
      "12. Number of seconds since it started running: 324.73452591896057\n",
      "File 13/39: \n",
      "1. Number of seconds since it started running: 2.86102294921875e-06\n",
      "2. Campaigns shape before removing irrelevant phrases: (54488, 15)\n",
      "3. Removing empty messages\n"
     ]
    },
    {
     "name": "stdout",
     "output_type": "stream",
     "text": [
      "4. Number of words before removing irrelevant phrases:  14783461\n",
      "5. Starting the process of removing irrelevant phrases from messages\n",
      "6. File appended\n",
      "7. Applying the remove_template method over the dataframe\n",
      "8. Number of words after having removed irrelevant phrases:  14768402\n",
      "9. Number of words removed:  15059\n",
      "10. Campaigns shape after having removed empty messages: (54488, 15)\n",
      "11. Number of words after having removed empty messages:  14768402\n",
      "12. Number of seconds since it started running: 343.2654318809509\n",
      "File 14/39: \n",
      "1. Number of seconds since it started running: 9.5367431640625e-07\n",
      "2. Campaigns shape before removing irrelevant phrases: (54488, 15)\n",
      "3. Removing empty messages\n",
      "4. Number of words before removing irrelevant phrases:  14768402\n",
      "5. Starting the process of removing irrelevant phrases from messages\n",
      "6. File appended\n",
      "7. Applying the remove_template method over the dataframe\n",
      "8. Number of words after having removed irrelevant phrases:  14753848\n",
      "9. Number of words removed:  14554\n",
      "10. Campaigns shape after having removed empty messages: (54488, 15)\n",
      "11. Number of words after having removed empty messages:  14753848\n",
      "12. Number of seconds since it started running: 342.0561909675598\n",
      "File 15/39: \n",
      "1. Number of seconds since it started running: 9.5367431640625e-07\n",
      "2. Campaigns shape before removing irrelevant phrases: (54488, 15)\n",
      "3. Removing empty messages\n",
      "4. Number of words before removing irrelevant phrases:  14753848\n",
      "5. Starting the process of removing irrelevant phrases from messages\n",
      "6. File appended\n",
      "7. Applying the remove_template method over the dataframe\n",
      "8. Number of words after having removed irrelevant phrases:  14675608\n",
      "9. Number of words removed:  78240\n",
      "10. Campaigns shape after having removed empty messages: (54456, 15)\n",
      "11. Number of words after having removed empty messages:  14675576\n",
      "12. Number of seconds since it started running: 464.0536618232727\n",
      "File 16/39: \n",
      "1. Number of seconds since it started running: 1.9073486328125e-06\n",
      "2. Campaigns shape before removing irrelevant phrases: (54456, 15)\n",
      "3. Removing empty messages\n",
      "4. Number of words before removing irrelevant phrases:  14675576\n",
      "5. Starting the process of removing irrelevant phrases from messages\n",
      "6. File appended\n",
      "7. Applying the remove_template method over the dataframe\n",
      "8. Number of words after having removed irrelevant phrases:  14660628\n",
      "9. Number of words removed:  14948\n",
      "10. Campaigns shape after having removed empty messages: (54456, 15)\n",
      "11. Number of words after having removed empty messages:  14660628\n",
      "12. Number of seconds since it started running: 347.79388189315796\n",
      "File 17/39: \n",
      "1. Number of seconds since it started running: 9.5367431640625e-07\n",
      "2. Campaigns shape before removing irrelevant phrases: (54456, 15)\n",
      "3. Removing empty messages\n",
      "4. Number of words before removing irrelevant phrases:  14660628\n",
      "5. Starting the process of removing irrelevant phrases from messages\n",
      "6. File appended\n",
      "7. Applying the remove_template method over the dataframe\n",
      "8. Number of words after having removed irrelevant phrases:  14554425\n",
      "9. Number of words removed:  106203\n",
      "10. Campaigns shape after having removed empty messages: (54456, 15)\n",
      "11. Number of words after having removed empty messages:  14554425\n",
      "12. Number of seconds since it started running: 342.7853260040283\n",
      "File 18/39: \n",
      "1. Number of seconds since it started running: 1.9073486328125e-06\n",
      "2. Campaigns shape before removing irrelevant phrases: (54456, 15)\n",
      "3. Removing empty messages\n",
      "4. Number of words before removing irrelevant phrases:  14554425\n",
      "5. Starting the process of removing irrelevant phrases from messages\n",
      "6. File appended\n",
      "7. Applying the remove_template method over the dataframe\n",
      "8. Number of words after having removed irrelevant phrases:  14528731\n",
      "9. Number of words removed:  25694\n",
      "10. Campaigns shape after having removed empty messages: (54456, 15)\n",
      "11. Number of words after having removed empty messages:  14528731\n",
      "12. Number of seconds since it started running: 310.8721730709076\n",
      "File 19/39: \n",
      "1. Number of seconds since it started running: 9.5367431640625e-07\n",
      "2. Campaigns shape before removing irrelevant phrases: (54456, 15)\n",
      "3. Removing empty messages\n",
      "4. Number of words before removing irrelevant phrases:  14528731\n",
      "5. Starting the process of removing irrelevant phrases from messages\n",
      "6. File appended\n",
      "7. Applying the remove_template method over the dataframe\n",
      "8. Number of words after having removed irrelevant phrases:  14494674\n",
      "9. Number of words removed:  34057\n",
      "10. Campaigns shape after having removed empty messages: (54449, 15)\n",
      "11. Number of words after having removed empty messages:  14494667\n",
      "12. Number of seconds since it started running: 320.3568170070648\n",
      "File 20/39: \n",
      "1. Number of seconds since it started running: 1.9073486328125e-06\n",
      "2. Campaigns shape before removing irrelevant phrases: (54449, 15)\n",
      "3. Removing empty messages\n",
      "4. Number of words before removing irrelevant phrases:  14494667\n",
      "5. Starting the process of removing irrelevant phrases from messages\n",
      "6. File appended\n",
      "7. Applying the remove_template method over the dataframe\n",
      "8. Number of words after having removed irrelevant phrases:  14473836\n",
      "9. Number of words removed:  20831\n",
      "10. Campaigns shape after having removed empty messages: (54449, 15)\n",
      "11. Number of words after having removed empty messages:  14473836\n",
      "12. Number of seconds since it started running: 419.84096097946167\n",
      "File 21/39: \n",
      "1. Number of seconds since it started running: 2.1457672119140625e-06\n",
      "2. Campaigns shape before removing irrelevant phrases: (54449, 15)\n",
      "3. Removing empty messages\n",
      "4. Number of words before removing irrelevant phrases:  14473836\n",
      "5. Starting the process of removing irrelevant phrases from messages\n",
      "6. File appended\n",
      "7. Applying the remove_template method over the dataframe\n",
      "8. Number of words after having removed irrelevant phrases:  14443634\n",
      "9. Number of words removed:  30202\n",
      "10. Campaigns shape after having removed empty messages: (54449, 15)\n",
      "11. Number of words after having removed empty messages:  14443634\n",
      "12. Number of seconds since it started running: 374.6079852581024\n",
      "File 22/39: \n",
      "1. Number of seconds since it started running: 9.5367431640625e-07\n",
      "2. Campaigns shape before removing irrelevant phrases: (54449, 15)\n",
      "3. Removing empty messages\n",
      "4. Number of words before removing irrelevant phrases:  14443634\n",
      "5. Starting the process of removing irrelevant phrases from messages\n",
      "6. File appended\n",
      "7. Applying the remove_template method over the dataframe\n",
      "8. Number of words after having removed irrelevant phrases:  14435219\n",
      "9. Number of words removed:  8415\n",
      "10. Campaigns shape after having removed empty messages: (54449, 15)\n",
      "11. Number of words after having removed empty messages:  14435219\n",
      "12. Number of seconds since it started running: 314.8136796951294\n",
      "File 23/39: \n",
      "1. Number of seconds since it started running: 9.5367431640625e-07\n",
      "2. Campaigns shape before removing irrelevant phrases: (54449, 15)\n",
      "3. Removing empty messages\n",
      "4. Number of words before removing irrelevant phrases:  14435219\n",
      "5. Starting the process of removing irrelevant phrases from messages\n",
      "6. File appended\n",
      "7. Applying the remove_template method over the dataframe\n",
      "8. Number of words after having removed irrelevant phrases:  14417524\n",
      "9. Number of words removed:  17695\n",
      "10. Campaigns shape after having removed empty messages: (54449, 15)\n",
      "11. Number of words after having removed empty messages:  14417524\n",
      "12. Number of seconds since it started running: 375.1889679431915\n",
      "File 24/39: \n",
      "1. Number of seconds since it started running: 2.1457672119140625e-06\n",
      "2. Campaigns shape before removing irrelevant phrases: (54449, 15)\n",
      "3. Removing empty messages\n",
      "4. Number of words before removing irrelevant phrases:  14417524\n",
      "5. Starting the process of removing irrelevant phrases from messages\n",
      "6. File appended\n",
      "7. Applying the remove_template method over the dataframe\n",
      "8. Number of words after having removed irrelevant phrases:  14381242\n",
      "9. Number of words removed:  36282\n",
      "10. Campaigns shape after having removed empty messages: (54434, 15)\n",
      "11. Number of words after having removed empty messages:  14381227\n",
      "12. Number of seconds since it started running: 496.7777919769287\n",
      "File 25/39: \n",
      "1. Number of seconds since it started running: 1.9073486328125e-06\n",
      "2. Campaigns shape before removing irrelevant phrases: (54434, 15)\n",
      "3. Removing empty messages\n"
     ]
    },
    {
     "name": "stdout",
     "output_type": "stream",
     "text": [
      "4. Number of words before removing irrelevant phrases:  14381227\n",
      "5. Starting the process of removing irrelevant phrases from messages\n",
      "6. File appended\n",
      "7. Applying the remove_template method over the dataframe\n",
      "8. Number of words after having removed irrelevant phrases:  14358324\n",
      "9. Number of words removed:  22903\n",
      "10. Campaigns shape after having removed empty messages: (54434, 15)\n",
      "11. Number of words after having removed empty messages:  14358324\n",
      "12. Number of seconds since it started running: 319.7901496887207\n",
      "File 26/39: \n",
      "1. Number of seconds since it started running: 1.9073486328125e-06\n",
      "2. Campaigns shape before removing irrelevant phrases: (54434, 15)\n",
      "3. Removing empty messages\n",
      "4. Number of words before removing irrelevant phrases:  14358324\n",
      "5. Starting the process of removing irrelevant phrases from messages\n",
      "6. File appended\n",
      "7. Applying the remove_template method over the dataframe\n",
      "8. Number of words after having removed irrelevant phrases:  14306504\n",
      "9. Number of words removed:  51820\n",
      "10. Campaigns shape after having removed empty messages: (54339, 15)\n",
      "11. Number of words after having removed empty messages:  14306409\n",
      "12. Number of seconds since it started running: 341.5034568309784\n",
      "File 27/39: \n",
      "1. Number of seconds since it started running: 2.1457672119140625e-06\n",
      "2. Campaigns shape before removing irrelevant phrases: (54339, 15)\n",
      "3. Removing empty messages\n",
      "4. Number of words before removing irrelevant phrases:  14306409\n",
      "5. Starting the process of removing irrelevant phrases from messages\n",
      "6. File appended\n",
      "7. Applying the remove_template method over the dataframe\n",
      "8. Number of words after having removed irrelevant phrases:  14275129\n",
      "9. Number of words removed:  31280\n",
      "10. Campaigns shape after having removed empty messages: (54339, 15)\n",
      "11. Number of words after having removed empty messages:  14275129\n",
      "12. Number of seconds since it started running: 353.4357440471649\n",
      "File 28/39: \n",
      "1. Number of seconds since it started running: 1.1920928955078125e-06\n",
      "2. Campaigns shape before removing irrelevant phrases: (54339, 15)\n",
      "3. Removing empty messages\n",
      "4. Number of words before removing irrelevant phrases:  14275129\n",
      "5. Starting the process of removing irrelevant phrases from messages\n",
      "6. File appended\n",
      "7. Applying the remove_template method over the dataframe\n",
      "8. Number of words after having removed irrelevant phrases:  14252491\n",
      "9. Number of words removed:  22638\n",
      "10. Campaigns shape after having removed empty messages: (54339, 15)\n",
      "11. Number of words after having removed empty messages:  14252491\n",
      "12. Number of seconds since it started running: 330.9374611377716\n",
      "File 29/39: \n",
      "1. Number of seconds since it started running: 4.291534423828125e-06\n",
      "2. Campaigns shape before removing irrelevant phrases: (54339, 15)\n",
      "3. Removing empty messages\n",
      "4. Number of words before removing irrelevant phrases:  14252491\n",
      "5. Starting the process of removing irrelevant phrases from messages\n",
      "6. File appended\n",
      "7. Applying the remove_template method over the dataframe\n",
      "8. Number of words after having removed irrelevant phrases:  14235149\n",
      "9. Number of words removed:  17342\n",
      "10. Campaigns shape after having removed empty messages: (54339, 15)\n",
      "11. Number of words after having removed empty messages:  14235149\n",
      "12. Number of seconds since it started running: 335.129426240921\n",
      "File 30/39: \n",
      "1. Number of seconds since it started running: 2.1457672119140625e-06\n",
      "2. Campaigns shape before removing irrelevant phrases: (54339, 15)\n",
      "3. Removing empty messages\n",
      "4. Number of words before removing irrelevant phrases:  14235149\n",
      "5. Starting the process of removing irrelevant phrases from messages\n",
      "6. File appended\n",
      "7. Applying the remove_template method over the dataframe\n",
      "8. Number of words after having removed irrelevant phrases:  14199820\n",
      "9. Number of words removed:  35329\n",
      "10. Campaigns shape after having removed empty messages: (54336, 15)\n",
      "11. Number of words after having removed empty messages:  14199817\n",
      "12. Number of seconds since it started running: 330.47385811805725\n",
      "File 31/39: \n",
      "1. Number of seconds since it started running: 9.5367431640625e-07\n",
      "2. Campaigns shape before removing irrelevant phrases: (54336, 15)\n",
      "3. Removing empty messages\n",
      "4. Number of words before removing irrelevant phrases:  14199817\n",
      "5. Starting the process of removing irrelevant phrases from messages\n",
      "6. File appended\n",
      "7. Applying the remove_template method over the dataframe\n",
      "8. Number of words after having removed irrelevant phrases:  14173362\n",
      "9. Number of words removed:  26455\n",
      "10. Campaigns shape after having removed empty messages: (54336, 15)\n",
      "11. Number of words after having removed empty messages:  14173362\n",
      "12. Number of seconds since it started running: 276.47177600860596\n",
      "File 32/39: \n",
      "1. Number of seconds since it started running: 1.9073486328125e-06\n",
      "2. Campaigns shape before removing irrelevant phrases: (54336, 15)\n",
      "3. Removing empty messages\n",
      "4. Number of words before removing irrelevant phrases:  14173362\n",
      "5. Starting the process of removing irrelevant phrases from messages\n",
      "6. File appended\n",
      "7. Applying the remove_template method over the dataframe\n",
      "8. Number of words after having removed irrelevant phrases:  14155353\n",
      "9. Number of words removed:  18009\n",
      "10. Campaigns shape after having removed empty messages: (54336, 15)\n",
      "11. Number of words after having removed empty messages:  14155353\n",
      "12. Number of seconds since it started running: 329.513671875\n",
      "File 33/39: \n",
      "1. Number of seconds since it started running: 1.9073486328125e-06\n",
      "2. Campaigns shape before removing irrelevant phrases: (54336, 15)\n",
      "3. Removing empty messages\n",
      "4. Number of words before removing irrelevant phrases:  14155353\n",
      "5. Starting the process of removing irrelevant phrases from messages\n",
      "6. File appended\n",
      "7. Applying the remove_template method over the dataframe\n",
      "8. Number of words after having removed irrelevant phrases:  14140237\n",
      "9. Number of words removed:  15116\n",
      "10. Campaigns shape after having removed empty messages: (54336, 15)\n",
      "11. Number of words after having removed empty messages:  14140237\n",
      "12. Number of seconds since it started running: 351.2258780002594\n",
      "File 34/39: \n",
      "1. Number of seconds since it started running: 1.1920928955078125e-06\n",
      "2. Campaigns shape before removing irrelevant phrases: (54336, 15)\n",
      "3. Removing empty messages\n",
      "4. Number of words before removing irrelevant phrases:  14140237\n",
      "5. Starting the process of removing irrelevant phrases from messages\n",
      "6. File appended\n",
      "7. Applying the remove_template method over the dataframe\n",
      "8. Number of words after having removed irrelevant phrases:  14105217\n",
      "9. Number of words removed:  35020\n",
      "10. Campaigns shape after having removed empty messages: (54336, 15)\n",
      "11. Number of words after having removed empty messages:  14105217\n",
      "12. Number of seconds since it started running: 304.5815660953522\n",
      "File 35/39: \n",
      "1. Number of seconds since it started running: 1.6689300537109375e-06\n",
      "2. Campaigns shape before removing irrelevant phrases: (54336, 15)\n",
      "3. Removing empty messages\n",
      "4. Number of words before removing irrelevant phrases:  14105217\n",
      "5. Starting the process of removing irrelevant phrases from messages\n",
      "6. File appended\n",
      "7. Applying the remove_template method over the dataframe\n",
      "8. Number of words after having removed irrelevant phrases:  14092604\n",
      "9. Number of words removed:  12613\n",
      "10. Campaigns shape after having removed empty messages: (54336, 15)\n",
      "11. Number of words after having removed empty messages:  14092604\n",
      "12. Number of seconds since it started running: 303.7188398838043\n",
      "File 36/39: \n",
      "1. Number of seconds since it started running: 2.1457672119140625e-06\n",
      "2. Campaigns shape before removing irrelevant phrases: (54336, 15)\n",
      "3. Removing empty messages\n",
      "4. Number of words before removing irrelevant phrases:  14092604\n",
      "5. Starting the process of removing irrelevant phrases from messages\n",
      "6. File appended\n",
      "7. Applying the remove_template method over the dataframe\n",
      "8. Number of words after having removed irrelevant phrases:  14073220\n",
      "9. Number of words removed:  19384\n",
      "10. Campaigns shape after having removed empty messages: (54336, 15)\n",
      "11. Number of words after having removed empty messages:  14073220\n",
      "12. Number of seconds since it started running: 309.78740906715393\n",
      "File 37/39: \n",
      "1. Number of seconds since it started running: 9.5367431640625e-07\n",
      "2. Campaigns shape before removing irrelevant phrases: (54336, 15)\n",
      "3. Removing empty messages\n"
     ]
    },
    {
     "name": "stdout",
     "output_type": "stream",
     "text": [
      "4. Number of words before removing irrelevant phrases:  14073220\n",
      "5. Starting the process of removing irrelevant phrases from messages\n",
      "6. File appended\n",
      "7. Applying the remove_template method over the dataframe\n",
      "8. Number of words after having removed irrelevant phrases:  14069929\n",
      "9. Number of words removed:  3291\n",
      "10. Campaigns shape after having removed empty messages: (54336, 15)\n",
      "11. Number of words after having removed empty messages:  14069929\n",
      "12. Number of seconds since it started running: 362.31920194625854\n",
      "File 38/39: \n",
      "1. Number of seconds since it started running: 2.1457672119140625e-06\n",
      "2. Campaigns shape before removing irrelevant phrases: (54336, 15)\n",
      "3. Removing empty messages\n",
      "4. Number of words before removing irrelevant phrases:  14069929\n",
      "5. Starting the process of removing irrelevant phrases from messages\n",
      "6. File appended\n",
      "7. Applying the remove_template method over the dataframe\n",
      "8. Number of words after having removed irrelevant phrases:  14064029\n",
      "9. Number of words removed:  5900\n",
      "10. Campaigns shape after having removed empty messages: (54336, 15)\n",
      "11. Number of words after having removed empty messages:  14064029\n",
      "12. Number of seconds since it started running: 336.23552227020264\n",
      "File 39/39: \n",
      "1. Number of seconds since it started running: 1.9073486328125e-06\n",
      "2. Campaigns shape before removing irrelevant phrases: (54336, 15)\n",
      "3. Removing empty messages\n",
      "4. Number of words before removing irrelevant phrases:  14064029\n",
      "5. Starting the process of removing irrelevant phrases from messages\n",
      "6. File appended\n",
      "7. Applying the remove_template method over the dataframe\n",
      "8. Number of words after having removed irrelevant phrases:  14055503\n",
      "9. Number of words removed:  8526\n",
      "10. Campaigns shape after having removed empty messages: (54336, 15)\n",
      "11. Number of words after having removed empty messages:  14055503\n",
      "12. Number of seconds since it started running: 158.7543671131134\n"
     ]
    }
   ],
   "source": [
    "! python 02_remove_irrelevant_phrases.py --input_root ../../../datasets/output/sample_02/ --input_file output_01.csv --output_root ../../../datasets/output/sample_02/ --output_file output_02.csv"
   ]
  },
  {
   "cell_type": "markdown",
   "id": "laughing-anatomy",
   "metadata": {},
   "source": [
    "#### Script 03 - Creating one df per language\n",
    "\n",
    "- Filtering campaigns df by language"
   ]
  },
  {
   "cell_type": "code",
   "execution_count": 5,
   "id": "efficient-audio",
   "metadata": {},
   "outputs": [
    {
     "name": "stdout",
     "output_type": "stream",
     "text": [
      "output_02.csv\n",
      "1 Number of seconds since it started running: 0.035861968994140625\n",
      "2 Number of seconds since it started running: 781.8422179222107\n",
      "3 Number of seconds since it started running: 781.8448619842529\n",
      "['es' 'ca' 'en' 'fr' 'pt' 'it' 'sl' 'pl' 'id' 'de' 'no' 'et' 'nl' 'da'\n",
      " 'sw' 'ro' 'hr' 'sk' 'af' 'cs' 'tr' 'fi' 'hu' 'vi' 'sv' 'tl' 'cy' 'lt']\n",
      "Number of campaigns in Spanish: \n",
      "43593\n"
     ]
    }
   ],
   "source": [
    "! python 03_filtering_by_language.py --input_root ../../../datasets/output/sample_02/ --input_file output_02.csv --output_root ../../../datasets/output/sample_02/output_03/"
   ]
  },
  {
   "cell_type": "markdown",
   "id": "continuous-folks",
   "metadata": {},
   "source": [
    "#### Script 04 - Removing stopwords from language df\n",
    "\n",
    "- Removing stopwords from the language file"
   ]
  },
  {
   "cell_type": "code",
   "execution_count": 6,
   "id": "corresponding-rocket",
   "metadata": {},
   "outputs": [
    {
     "name": "stdout",
     "output_type": "stream",
     "text": [
      "Language:  (43593, 15)\r\n"
     ]
    }
   ],
   "source": [
    "!python 04_remove_stopwords.py --input_root ../../../datasets/output/sample_02/output_03 --input_file es.csv --output_root ../../../datasets/output/sample_02/output_04/ --output_file es.csv --sw_remover spanish"
   ]
  },
  {
   "cell_type": "markdown",
   "id": "flush-belle",
   "metadata": {},
   "source": [
    "#### Script 05 - Stemming & selecting the best vectorization method to predict verticals\n",
    "\n",
    "- Preprocessing texts: stemming\n",
    "- Filtering the df dropping NaN values in `sector`\n",
    "- Encoding Verticals\n",
    "- SMOTE oversampling\n",
    "- Transforming texts into features using CountVectorizer or TFIDF vectorizer methods\n",
    "- Predicting verticals with multinomial nb classifier \n",
    "- Evaluating predictions"
   ]
  },
  {
   "cell_type": "code",
   "execution_count": 7,
   "id": "impossible-calendar",
   "metadata": {},
   "outputs": [
    {
     "name": "stdout",
     "output_type": "stream",
     "text": [
      "spanish\n",
      "Labeled Messages: 5420\n",
      "CountVectorizer()\n",
      "The dimension of our feature vector is 41877.\n",
      "Misclassified: 7.195571955719557\n"
     ]
    }
   ],
   "source": [
    "!python 05_verticalmodel_model_selection.py --input_root ../../../datasets/output/sample_02/output_04/ --input_file es.csv --vectorizer CountVectorizer --stemmer spanish"
   ]
  },
  {
   "cell_type": "code",
   "execution_count": 8,
   "id": "colonial-magazine",
   "metadata": {},
   "outputs": [
    {
     "name": "stdout",
     "output_type": "stream",
     "text": [
      "spanish\n",
      "Labeled Messages: 5420\n",
      "TfidfVectorizer()\n",
      "The dimension of our feature vector is 42852.\n",
      "Misclassified: 7.380073800738007\n"
     ]
    }
   ],
   "source": [
    "!python 05_verticalmodel_model_selection.py --input_root ../../../datasets/output/sample_02/output_04/ --input_file es.csv --vectorizer TfidfVectorizer --stemmer spanish"
   ]
  },
  {
   "cell_type": "markdown",
   "id": "recovered-buddy",
   "metadata": {},
   "source": [
    "#### Script 06 - Preprocessing texts \n",
    "\n",
    "- Preprocessing texts from the whole dataset: stemming\n"
   ]
  },
  {
   "cell_type": "code",
   "execution_count": 9,
   "id": "great-korea",
   "metadata": {},
   "outputs": [
    {
     "name": "stdout",
     "output_type": "stream",
     "text": [
      "Language df shape before cleaning texts: (43593, 15)\n",
      "Language df shape after cleaning texts: (43593, 15)\n"
     ]
    }
   ],
   "source": [
    "!python 06_verticalmodel_language_preprocessing_texts.py --input_root ../../../datasets/output/sample_02/output_04/ --input_file es.csv --output_root ../../../datasets/output/sample_02/output_05/ --output_file es.csv --stemmer spanish"
   ]
  },
  {
   "cell_type": "markdown",
   "id": "agreed-utilization",
   "metadata": {},
   "source": [
    "#### Script 07 -  Predicting verticals in the whole dataframe\n",
    "\n",
    "- Encoding Vertical\n",
    "- Splitting between labeled and unlabeled data\n",
    "- Vectorizing texts\n",
    "- SMOTE oversampling `target_train`\n",
    "- Training a multinomial nb classifier\n",
    "- Saving the trained classifier\n",
    "- Predicting Verticals\n",
    "- Merging predictions with the original messages"
   ]
  },
  {
   "cell_type": "code",
   "execution_count": 10,
   "id": "infinite-indonesian",
   "metadata": {},
   "outputs": [
    {
     "name": "stdout",
     "output_type": "stream",
     "text": [
      "TfidfVectorizer(max_features=10000)\n",
      "Features train shape:  (5420, 10000)\n",
      "Labeled Messages: (14924, 10000)\n",
      "Unabeled Messages: (38173, 10000)\n",
      "The dimension of our feature vector is 10000.\n",
      "MultinomialNB()\n",
      "[[   0  935]\n",
      " [   1  314]\n",
      " [   2  476]\n",
      " [   3 3634]\n",
      " [   4 4180]\n",
      " [   5 2300]\n",
      " [   6 5556]\n",
      " [   7 2246]\n",
      " [   8 4914]\n",
      " [   9 2010]\n",
      " [  10 3966]\n",
      " [  11 2630]\n",
      " [  12  796]\n",
      " [  13 4216]]\n"
     ]
    }
   ],
   "source": [
    "!python 07_verticalmodel_language_vectorization_and_ml.py --input_root ../../../datasets/output/sample_02/output_05/ --input_file es.csv --output_root ../../../datasets/output/sample_02/output_06/ --output_file es.csv --save_trained_vectorizer vertical_model_tfidf_vectorizer_spanish --save_trained_classifier vertical_model_multinomial_nb_classifier_spanish "
   ]
  },
  {
   "cell_type": "markdown",
   "id": "pursuant-agent",
   "metadata": {},
   "source": [
    "#### Script 08 - Preparing Main Models Features and Target\n",
    "\n",
    "- Creating new variables:`open_rate_benchmark`, `ctr_benchmark`, `ctor_benchmark`, `open_rate_result`, `ctr_result`, `ctor_result\n",
    "\n",
    "- Preprocessing texts: stemming\n"
   ]
  },
  {
   "cell_type": "code",
   "execution_count": 11,
   "id": "celtic-kitty",
   "metadata": {},
   "outputs": [
    {
     "name": "stdout",
     "output_type": "stream",
     "text": [
      "Campaigns df columns:  Index(['sender', 'subject', 'date_sent', 'total_sent', 'customer_cat', 'opens',\r\n",
      "       'clicks', 'message', 'campaign_id', 'open_rate', 'ctr', 'ctor',\r\n",
      "       'clean_subject', 'clean_message', 'vertical', 'open_rate_benchmark',\r\n",
      "       'ctr_benchmark', 'ctor_benchmark', 'open_rate_result', 'ctr_result',\r\n",
      "       'ctor_result'],\r\n",
      "      dtype='object')\r\n"
     ]
    }
   ],
   "source": [
    "!python 08_mainmodel_spanish_preparing_features_and_target.py --input_root ../../../datasets/output/sample_02/output_06/ --input_file es.csv --output_root ../../../datasets/output/sample_02/output_07/ --output_file es.csv"
   ]
  },
  {
   "cell_type": "markdown",
   "id": "civil-aviation",
   "metadata": {},
   "source": [
    "#### Script 09 - Predicting Main Models Targets\n",
    "\n",
    "- Creating a Scikit-learn Pipeline\n",
    "- Predicting targets\n",
    "- Evaluating performance"
   ]
  },
  {
   "cell_type": "code",
   "execution_count": 12,
   "id": "fitting-police",
   "metadata": {},
   "outputs": [
    {
     "name": "stdout",
     "output_type": "stream",
     "text": [
      "Predictions mean:  0.3934388621243404\n",
      "Target Test:  0.44023858683184214\n",
      "Predictions mean is not greater than target test mean\n",
      "accuracy 71.36958017894013\n",
      "\n",
      "Confusion Matrix\n",
      "======================================================\n",
      "\n",
      " [[1918  522]\n",
      " [ 726 1193]]\n",
      "True Negatives:  1918\n",
      "True Positives:  1193\n",
      "False Negatives  726\n",
      "False Positives:  522\n",
      "Recall Score:  62.16779572694111\n",
      "Precision Score:  69.56268221574345\n"
     ]
    }
   ],
   "source": [
    "!python 09_second_model_pipeline.py --input_root ../../../datasets/output/sample_02/output_07/ --input_file es.csv --features clean_subject vertical --target open_rate_result --text_column clean_subject --pickle_file ../../../datasets/pipelines/main_model_sample_02_target_01_pipeline "
   ]
  },
  {
   "cell_type": "code",
   "execution_count": 13,
   "id": "serious-blackberry",
   "metadata": {},
   "outputs": [
    {
     "name": "stdout",
     "output_type": "stream",
     "text": [
      "Predictions mean:  0.4278504244092682\n",
      "Target Test:  0.4475797201192934\n",
      "Predictions mean is not greater than target test mean\n",
      "accuracy 76.55425556320256\n",
      "\n",
      "Confusion Matrix\n",
      "======================================================\n",
      "\n",
      " [[1940  468]\n",
      " [ 554 1397]]\n",
      "True Negatives:  1940\n",
      "True Positives:  1397\n",
      "False Negatives  554\n",
      "False Positives:  468\n",
      "Recall Score:  71.60430548436699\n",
      "Precision Score:  74.90616621983915\n"
     ]
    }
   ],
   "source": [
    "!python 09_second_model_pipeline.py --input_root ../../../datasets/output/sample_02/output_07/ --input_file es.csv --features clean_message vertical --target ctr_result --text_column clean_message --pickle_file ../../../datasets/pipelines/main_model_sample_02_target_02_pipeline "
   ]
  },
  {
   "cell_type": "code",
   "execution_count": 14,
   "id": "antique-request",
   "metadata": {},
   "outputs": [
    {
     "name": "stdout",
     "output_type": "stream",
     "text": [
      "Predictions mean:  0.3718742830924524\n",
      "Target Test:  0.40192704748795594\n",
      "Predictions mean is not greater than target test mean\n",
      "accuracy 78.0454232622161\n",
      "\n",
      "Confusion Matrix\n",
      "======================================================\n",
      "\n",
      " [[2194  413]\n",
      " [ 544 1208]]\n",
      "True Negatives:  2194\n",
      "True Positives:  1208\n",
      "False Negatives  544\n",
      "False Positives:  413\n",
      "Recall Score:  68.94977168949772\n",
      "Precision Score:  74.52190006169032\n"
     ]
    }
   ],
   "source": [
    "!python 09_second_model_pipeline.py --input_root ../../../datasets/output/sample_02/output_07/ --input_file es.csv --features clean_message vertical --target ctor_result --text_column clean_message --pickle_file ../../../datasets/pipelines/main_model_sample_02_target_03_pipeline "
   ]
  }
 ],
 "metadata": {
  "kernelspec": {
   "display_name": "Python 3",
   "language": "python",
   "name": "python3"
  },
  "language_info": {
   "codemirror_mode": {
    "name": "ipython",
    "version": 3
   },
   "file_extension": ".py",
   "mimetype": "text/x-python",
   "name": "python",
   "nbconvert_exporter": "python",
   "pygments_lexer": "ipython3",
   "version": "3.8.8"
  }
 },
 "nbformat": 4,
 "nbformat_minor": 5
}
