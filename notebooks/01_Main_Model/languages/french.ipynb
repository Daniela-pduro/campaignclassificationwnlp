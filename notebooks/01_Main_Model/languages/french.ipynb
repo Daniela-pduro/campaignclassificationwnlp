{
 "cells": [
  {
   "cell_type": "code",
   "execution_count": 1,
   "id": "revolutionary-baker",
   "metadata": {},
   "outputs": [
    {
     "name": "stdout",
     "output_type": "stream",
     "text": [
      "/Users/danielaperezduro/Desktop/TFM/emailmarketingwnlp/notebooks/03_Scripts\n"
     ]
    }
   ],
   "source": [
    "cd ../../03_Scripts"
   ]
  },
  {
   "cell_type": "markdown",
   "id": "distinguished-stick",
   "metadata": {},
   "source": [
    "#### Removing stopwords"
   ]
  },
  {
   "cell_type": "code",
   "execution_count": 2,
   "id": "other-dress",
   "metadata": {},
   "outputs": [
    {
     "name": "stderr",
     "output_type": "stream",
     "text": [
      "[nltk_data] Downloading package stopwords to\n",
      "[nltk_data]     /Users/danielaperezduro/nltk_data...\n",
      "[nltk_data]   Package stopwords is already up-to-date!\n"
     ]
    },
    {
     "data": {
      "text/plain": [
       "True"
      ]
     },
     "execution_count": 2,
     "metadata": {},
     "output_type": "execute_result"
    }
   ],
   "source": [
    "import nltk\n",
    "nltk.download('stopwords')"
   ]
  },
  {
   "cell_type": "code",
   "execution_count": 3,
   "id": "eight-singles",
   "metadata": {},
   "outputs": [
    {
     "name": "stdout",
     "output_type": "stream",
     "text": [
      "Language:  (1571, 15)\r\n"
     ]
    }
   ],
   "source": [
    "!python 04_remove_stopwords.py --input_root ../../../datasets/output/sample_01/output_05 --input_file fr.csv --output_root ../../../datasets/output/sample_01/output_06/ --output_file fr.csv --sw_remover French"
   ]
  },
  {
   "cell_type": "markdown",
   "id": "revolutionary-dynamics",
   "metadata": {},
   "source": [
    "#### Evaluating the vertical classifier model using CountVectorizer"
   ]
  },
  {
   "cell_type": "code",
   "execution_count": 4,
   "id": "inclusive-works",
   "metadata": {},
   "outputs": [
    {
     "name": "stdout",
     "output_type": "stream",
     "text": [
      "french\n",
      "Labeled Messages: 354\n",
      "CountVectorizer()\n",
      "The dimension of our feature vector is 4506.\n",
      "Misclassified: 0.0\n"
     ]
    }
   ],
   "source": [
    "!python 05_verticalmodel_model_selection.py --input_root ../../../datasets/output/sample_01/output_06/ --input_file fr.csv --vectorizer CountVectorizer --stemmer french"
   ]
  },
  {
   "cell_type": "markdown",
   "id": "subjective-paintball",
   "metadata": {},
   "source": [
    "#### Evaluating the vertical classifier model using TfidfVectorizer"
   ]
  },
  {
   "cell_type": "code",
   "execution_count": 5,
   "id": "electronic-journey",
   "metadata": {},
   "outputs": [
    {
     "name": "stdout",
     "output_type": "stream",
     "text": [
      "french\n",
      "Labeled Messages: 354\n",
      "TfidfVectorizer()\n",
      "The dimension of our feature vector is 4648.\n",
      "Misclassified: 2.7777777777777777\n"
     ]
    }
   ],
   "source": [
    "!python 05_verticalmodel_model_selection.py --input_root ../../../datasets/output/sample_01/output_06/ --input_file fr.csv --vectorizer TfidfVectorizer --stemmer french"
   ]
  },
  {
   "cell_type": "markdown",
   "id": "sexual-level",
   "metadata": {},
   "source": [
    "#### Detecting Verticals"
   ]
  },
  {
   "cell_type": "code",
   "execution_count": 6,
   "id": "alike-christian",
   "metadata": {},
   "outputs": [
    {
     "name": "stdout",
     "output_type": "stream",
     "text": [
      "Language df shape before cleaning texts: (1571, 15)\n",
      "Language df shape after cleaning texts: (1571, 15)\n"
     ]
    }
   ],
   "source": [
    "# Preprocessing texts\n",
    "\n",
    "!python 06_verticalmodel_language_preprocessing_texts.py --input_root ../../../datasets/output/sample_01/output_06/ --input_file fr.csv --output_root ../../../datasets/output/sample_01/output_07/ --output_file fr.csv --stemmer french"
   ]
  },
  {
   "cell_type": "code",
   "execution_count": 7,
   "id": "measured-alfred",
   "metadata": {},
   "outputs": [
    {
     "name": "stdout",
     "output_type": "stream",
     "text": [
      "TfidfVectorizer(max_features=10000)\n",
      "Features train shape:  (351, 4727)\n",
      "Labeled Messages: (1015, 4727)\n",
      "Unabeled Messages: (1217, 4727)\n",
      "The dimension of our feature vector is 4727.\n",
      "MultinomialNB()\n",
      "[[  0 295]\n",
      " [  1  37]\n",
      " [  2  76]\n",
      " [  3 795]\n",
      " [  4  14]]\n"
     ]
    }
   ],
   "source": [
    "# Encoding, splitting, vectorizing, training and predicting\n",
    "\n",
    "!python 07_verticalmodel_language_vectorization_and_ml.py --input_root ../../../datasets/output/sample_01/output_07/ --input_file fr.csv --output_root ../../../datasets/output/sample_01/output_08/ --output_file fr.csv --save_trained_vectorizer vertical_model_tfidf_vectorizer_french --save_trained_classifier vertical_model_multinomial_nb_classifier_french "
   ]
  }
 ],
 "metadata": {
  "kernelspec": {
   "display_name": "Python 3",
   "language": "python",
   "name": "python3"
  },
  "language_info": {
   "codemirror_mode": {
    "name": "ipython",
    "version": 3
   },
   "file_extension": ".py",
   "mimetype": "text/x-python",
   "name": "python",
   "nbconvert_exporter": "python",
   "pygments_lexer": "ipython3",
   "version": "3.8.8"
  }
 },
 "nbformat": 4,
 "nbformat_minor": 5
}
