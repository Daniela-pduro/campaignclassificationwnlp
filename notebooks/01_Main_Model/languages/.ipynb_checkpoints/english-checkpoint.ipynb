{
 "cells": [
  {
   "cell_type": "code",
   "execution_count": 1,
   "id": "revolutionary-baker",
   "metadata": {},
   "outputs": [
    {
     "name": "stdout",
     "output_type": "stream",
     "text": [
      "/Users/danielaperezduro/Desktop/TFM/emailmarketingwnlp/notebooks/03_Scripts\n"
     ]
    }
   ],
   "source": [
    "cd ../../03_Scripts"
   ]
  },
  {
   "cell_type": "markdown",
   "id": "pretty-wells",
   "metadata": {},
   "source": [
    "#### Removing stopwords"
   ]
  },
  {
   "cell_type": "code",
   "execution_count": 1,
   "id": "hydraulic-vehicle",
   "metadata": {},
   "outputs": [
    {
     "name": "stderr",
     "output_type": "stream",
     "text": [
      "[nltk_data] Downloading package stopwords to\n",
      "[nltk_data]     /Users/danielaperezduro/nltk_data...\n",
      "[nltk_data]   Package stopwords is already up-to-date!\n"
     ]
    },
    {
     "data": {
      "text/plain": [
       "True"
      ]
     },
     "execution_count": 1,
     "metadata": {},
     "output_type": "execute_result"
    }
   ],
   "source": [
    "import nltk\n",
    "nltk.download('stopwords')"
   ]
  },
  {
   "cell_type": "code",
   "execution_count": 2,
   "id": "understanding-mining",
   "metadata": {},
   "outputs": [
    {
     "name": "stdout",
     "output_type": "stream",
     "text": [
      "Language:  (5511, 15)\r\n"
     ]
    }
   ],
   "source": [
    "!python 04_remove_stopwords.py --input_root ../../../datasets/output/sample_01/output_05 --input_file en.csv --output_root ../../../datasets/output/sample_01/output_06/ --output_file en.csv --sw_remover English"
   ]
  },
  {
   "cell_type": "markdown",
   "id": "revolutionary-dynamics",
   "metadata": {},
   "source": [
    "#### Evaluating the vertical classifier model using CountVectorizer"
   ]
  },
  {
   "cell_type": "code",
   "execution_count": 3,
   "id": "processed-surprise",
   "metadata": {},
   "outputs": [
    {
     "name": "stdout",
     "output_type": "stream",
     "text": [
      "english\n",
      "Labeled Messages: 692\n",
      "CountVectorizer()\n",
      "The dimension of our feature vector is 7027.\n",
      "Misclassified: 8.823529411764707\n"
     ]
    }
   ],
   "source": [
    "!python 05_verticalmodel_model_selection.py --input_root ../../../datasets/output/sample_01/output_06/ --input_file en.csv --vectorizer CountVectorizer --stemmer english"
   ]
  },
  {
   "cell_type": "markdown",
   "id": "subjective-paintball",
   "metadata": {},
   "source": [
    "#### Evaluating the vertical classifier model using TfidfVectorizer"
   ]
  },
  {
   "cell_type": "code",
   "execution_count": 4,
   "id": "electronic-journey",
   "metadata": {},
   "outputs": [
    {
     "name": "stdout",
     "output_type": "stream",
     "text": [
      "english\n",
      "Labeled Messages: 692\n",
      "TfidfVectorizer()\n",
      "The dimension of our feature vector is 7040.\n",
      "Misclassified: 4.411764705882353\n"
     ]
    }
   ],
   "source": [
    "!python 05_verticalmodel_model_selection.py --input_root ../../../datasets/output/sample_01/output_06/ --input_file en.csv --vectorizer TfidfVectorizer --stemmer english"
   ]
  },
  {
   "cell_type": "markdown",
   "id": "christian-circumstances",
   "metadata": {},
   "source": [
    "#### Detecting Verticals"
   ]
  },
  {
   "cell_type": "code",
   "execution_count": 5,
   "id": "realistic-moderator",
   "metadata": {},
   "outputs": [
    {
     "name": "stdout",
     "output_type": "stream",
     "text": [
      "Language df shape before cleaning texts: (5511, 15)\n",
      "Language df shape after cleaning texts: (5511, 15)\n"
     ]
    }
   ],
   "source": [
    "# Preprocessing texts\n",
    "\n",
    "!python 06_verticalmodel_language_preprocessing_texts.py --input_root ../../../datasets/output/sample_01/output_06/ --input_file en.csv --output_root ../../../datasets/output/sample_01/output_07/ --output_file en.csv --stemmer english"
   ]
  },
  {
   "cell_type": "code",
   "execution_count": 6,
   "id": "developing-demographic",
   "metadata": {},
   "outputs": [
    {
     "name": "stdout",
     "output_type": "stream",
     "text": [
      "TfidfVectorizer(max_features=10000)\n",
      "Features train shape:  (674, 7295)\n",
      "Labeled Messages: (2328, 7295)\n",
      "Unabeled Messages: (4819, 7295)\n",
      "The dimension of our feature vector is 7295.\n",
      "MultinomialNB()\n",
      "[[   0  218]\n",
      " [   1  146]\n",
      " [   2    1]\n",
      " [   3  503]\n",
      " [   4  537]\n",
      " [   5 2348]\n",
      " [   6  643]\n",
      " [   7  423]]\n"
     ]
    }
   ],
   "source": [
    "# Encoding, splitting, vectorizing, training and predicting\n",
    "\n",
    "!python 07_verticalmodel_language_vectorization_and_ml.py --input_root ../../../datasets/output/sample_01/output_07/ --input_file en.csv --output_root ../../../datasets/output/sample_01/output_08/ --output_file en.csv --save_trained_vectorizer vertical_model_tfidf_vectorizer_english --save_trained_classifier vertical_model_multinomial_nb_classifier_english "
   ]
  }
 ],
 "metadata": {
  "kernelspec": {
   "display_name": "Python 3",
   "language": "python",
   "name": "python3"
  },
  "language_info": {
   "codemirror_mode": {
    "name": "ipython",
    "version": 3
   },
   "file_extension": ".py",
   "mimetype": "text/x-python",
   "name": "python",
   "nbconvert_exporter": "python",
   "pygments_lexer": "ipython3",
   "version": "3.8.8"
  }
 },
 "nbformat": 4,
 "nbformat_minor": 5
}
