{
 "cells": [
  {
   "cell_type": "code",
   "execution_count": 1,
   "id": "revolutionary-baker",
   "metadata": {},
   "outputs": [
    {
     "name": "stdout",
     "output_type": "stream",
     "text": [
      "/Users/danielaperezduro/Desktop/TFM/emailmarketingwnlp/notebooks/03_Scripts\n"
     ]
    }
   ],
   "source": [
    "cd ../../03_Scripts"
   ]
  },
  {
   "cell_type": "markdown",
   "id": "headed-witness",
   "metadata": {},
   "source": [
    "#### Removing stopwords"
   ]
  },
  {
   "cell_type": "code",
   "execution_count": 2,
   "id": "current-verse",
   "metadata": {},
   "outputs": [
    {
     "name": "stderr",
     "output_type": "stream",
     "text": [
      "[nltk_data] Downloading package stopwords to\n",
      "[nltk_data]     /Users/danielaperezduro/nltk_data...\n",
      "[nltk_data]   Package stopwords is already up-to-date!\n"
     ]
    },
    {
     "data": {
      "text/plain": [
       "True"
      ]
     },
     "execution_count": 2,
     "metadata": {},
     "output_type": "execute_result"
    }
   ],
   "source": [
    "import nltk\n",
    "nltk.download('stopwords')"
   ]
  },
  {
   "cell_type": "code",
   "execution_count": 3,
   "id": "expired-thunder",
   "metadata": {},
   "outputs": [
    {
     "name": "stdout",
     "output_type": "stream",
     "text": [
      "Language:  (79675, 15)\r\n"
     ]
    }
   ],
   "source": [
    "!python 04_remove_stopwords.py --input_root ../../../datasets/output/sample_01/output_05 --input_file es.csv --output_root ../../../datasets/output/sample_01/output_06/ --output_file es.csv --sw_remover Spanish"
   ]
  },
  {
   "cell_type": "markdown",
   "id": "revolutionary-dynamics",
   "metadata": {},
   "source": [
    "#### Evaluating the vertical classifier model using CountVectorizer"
   ]
  },
  {
   "cell_type": "code",
   "execution_count": 4,
   "id": "inclusive-works",
   "metadata": {},
   "outputs": [
    {
     "name": "stdout",
     "output_type": "stream",
     "text": [
      "spanish\n",
      "Labeled Messages: 9970\n",
      "CountVectorizer()\n",
      "The dimension of our feature vector is 61604.\n",
      "Misclassified: 11.434302908726178\n"
     ]
    }
   ],
   "source": [
    "!python 05_verticalmodel_model_selection.py --input_root ../../../datasets/output/sample_01/output_06/ --input_file es.csv --vectorizer CountVectorizer --stemmer spanish"
   ]
  },
  {
   "cell_type": "markdown",
   "id": "subjective-paintball",
   "metadata": {},
   "source": [
    "#### Evaluating the vertical classifier model using TfidfVectorizer"
   ]
  },
  {
   "cell_type": "code",
   "execution_count": 5,
   "id": "electronic-journey",
   "metadata": {},
   "outputs": [
    {
     "name": "stdout",
     "output_type": "stream",
     "text": [
      "spanish\n",
      "Labeled Messages: 9970\n",
      "TfidfVectorizer()\n",
      "The dimension of our feature vector is 61897.\n",
      "Misclassified: 7.422266800401204\n"
     ]
    }
   ],
   "source": [
    "!python 05_verticalmodel_model_selection.py --input_root ../../../datasets/output/sample_01/output_06/ --input_file es.csv --vectorizer TfidfVectorizer --stemmer spanish"
   ]
  },
  {
   "cell_type": "markdown",
   "id": "sudden-article",
   "metadata": {},
   "source": [
    "#### Detecting Verticals"
   ]
  },
  {
   "cell_type": "code",
   "execution_count": 6,
   "id": "caroline-malawi",
   "metadata": {},
   "outputs": [
    {
     "name": "stdout",
     "output_type": "stream",
     "text": [
      "Language df shape before cleaning texts: (79675, 15)\n",
      "Language df shape after cleaning texts: (79675, 15)\n"
     ]
    }
   ],
   "source": [
    "# Preprocessing texts\n",
    "\n",
    "!python 06_verticalmodel_language_preprocessing_texts.py --input_root ../../../datasets/output/sample_01/output_06/ --input_file es.csv --output_root ../../../datasets/output/sample_01/output_07/ --output_file es.csv --stemmer spanish"
   ]
  },
  {
   "cell_type": "code",
   "execution_count": 7,
   "id": "unable-particle",
   "metadata": {},
   "outputs": [
    {
     "name": "stdout",
     "output_type": "stream",
     "text": [
      "TfidfVectorizer(max_features=10000)\n",
      "Features train shape:  (9970, 10000)\n",
      "Labeled Messages: (24682, 10000)\n",
      "Unabeled Messages: (69705, 10000)\n",
      "The dimension of our feature vector is 10000.\n",
      "MultinomialNB()\n",
      "[[   0 2775]\n",
      " [   1  515]\n",
      " [   2 1087]\n",
      " [   3 6584]\n",
      " [   4 9571]\n",
      " [   5 3161]\n",
      " [   6 6789]\n",
      " [   7 3316]\n",
      " [   8 9118]\n",
      " [   9 2731]\n",
      " [  10 9369]\n",
      " [  11 3794]\n",
      " [  12 3252]\n",
      " [  13 7643]]\n"
     ]
    }
   ],
   "source": [
    "# Encoding, splitting, vectorizing, training and predicting\n",
    "\n",
    "!python 07_verticalmodel_language_vectorization_and_ml.py --input_root ../../../datasets/output/sample_01/output_07/ --input_file es.csv --output_root ../../../datasets/output/sample_01/output_08/ --output_file es.csv --save_trained_vectorizer vertical_model_tfidf_vectorizer_spanish --save_trained_classifier vertical_model_multinomial_nb_classifier_spanish "
   ]
  }
 ],
 "metadata": {
  "kernelspec": {
   "display_name": "Python 3",
   "language": "python",
   "name": "python3"
  },
  "language_info": {
   "codemirror_mode": {
    "name": "ipython",
    "version": 3
   },
   "file_extension": ".py",
   "mimetype": "text/x-python",
   "name": "python",
   "nbconvert_exporter": "python",
   "pygments_lexer": "ipython3",
   "version": "3.8.8"
  }
 },
 "nbformat": 4,
 "nbformat_minor": 5
}
