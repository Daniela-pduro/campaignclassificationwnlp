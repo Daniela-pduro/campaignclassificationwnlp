{
 "cells": [
  {
   "cell_type": "markdown",
   "id": "signal-sessions",
   "metadata": {},
   "source": [
    "# Email Marketing Campaigns Optimization Model with NLP\n",
    "\n",
    "\n",
    "### Jupyter Notebook 9/10"
   ]
  },
  {
   "cell_type": "markdown",
   "id": "suspected-aberdeen",
   "metadata": {},
   "source": [
    "#### Importing Classes from the module `campaigns`"
   ]
  },
  {
   "cell_type": "code",
   "execution_count": 1,
   "id": "incredible-orbit",
   "metadata": {},
   "outputs": [],
   "source": [
    "import sys\n",
    "sys.path.append('..')\n",
    "\n",
    "\n",
    "import warnings\n",
    "warnings.filterwarnings('ignore')\n",
    "\n",
    "# Get files\n",
    "from campaigns.getinputdata import ClassifiedCampaignsFileGetInfo, CleanClassifiedCampaignsFileGetInfo\n",
    "\n",
    "# Preprocessing\n",
    "from campaigns.modeling.preprocessing import ClassifiedCampaignsGetPipeline\n",
    "\n",
    "# Texts Preprocessing\n",
    "from campaigns.modeling.nlp import MainModelTextsPreprocessor, MainModelFeatureExtractor\n",
    "\n",
    "# Feature Engineering\n",
    "from campaigns.modeling.preprocessing import BenchmarkCreator, Benchmarker\n",
    "\n",
    "from sklearn.feature_extraction.text import CountVectorizer\n",
    "\n",
    "# Texts Classification\n",
    "from campaigns.modeling.classifiers import LogisticRegressionClassifier\n",
    "\n",
    "# Evaluation\n",
    "from campaigns.modeling.evaluation import MainModelEvaluator"
   ]
  },
  {
   "cell_type": "markdown",
   "id": "streaming-murder",
   "metadata": {},
   "source": [
    "### 4.3. Creating new variables: `open_rate_benchmark`, `ctr_benchmark`, `ctor_benchmark`, `open_rate_result`, `ctr_result`, `ctor_result`.\n",
    "\n"
   ]
  },
  {
   "cell_type": "markdown",
   "id": "built-graham",
   "metadata": {},
   "source": [
    "#### Getting Input"
   ]
  },
  {
   "cell_type": "code",
   "execution_count": 2,
   "id": "plain-trouble",
   "metadata": {},
   "outputs": [],
   "source": [
    "# Creating an instance\n",
    "\n",
    "campaigns = ClassifiedCampaignsFileGetInfo('../../../datasets/output/sample_01/output_08/','es.csv')"
   ]
  },
  {
   "cell_type": "markdown",
   "id": "through-turkey",
   "metadata": {},
   "source": [
    "#### Creating new variables"
   ]
  },
  {
   "cell_type": "code",
   "execution_count": 3,
   "id": "purple-necklace",
   "metadata": {},
   "outputs": [],
   "source": [
    "# Creating an instance\n",
    "\n",
    "campaigns = BenchmarkCreator(campaigns.campaigns_w_vertical_df)"
   ]
  },
  {
   "cell_type": "code",
   "execution_count": 4,
   "id": "annoying-minnesota",
   "metadata": {},
   "outputs": [
    {
     "data": {
      "text/html": [
       "<div>\n",
       "<style scoped>\n",
       "    .dataframe tbody tr th:only-of-type {\n",
       "        vertical-align: middle;\n",
       "    }\n",
       "\n",
       "    .dataframe tbody tr th {\n",
       "        vertical-align: top;\n",
       "    }\n",
       "\n",
       "    .dataframe thead th {\n",
       "        text-align: right;\n",
       "    }\n",
       "</style>\n",
       "<table border=\"1\" class=\"dataframe\">\n",
       "  <thead>\n",
       "    <tr style=\"text-align: right;\">\n",
       "      <th></th>\n",
       "      <th>vertical</th>\n",
       "      <th>customer_cat</th>\n",
       "      <th>open_rate</th>\n",
       "      <th>ctr</th>\n",
       "      <th>ctor</th>\n",
       "    </tr>\n",
       "  </thead>\n",
       "  <tbody>\n",
       "    <tr>\n",
       "      <th>0</th>\n",
       "      <td>0</td>\n",
       "      <td>1</td>\n",
       "      <td>0.52</td>\n",
       "      <td>0.24</td>\n",
       "      <td>0.45</td>\n",
       "    </tr>\n",
       "    <tr>\n",
       "      <th>1</th>\n",
       "      <td>0</td>\n",
       "      <td>2</td>\n",
       "      <td>0.62</td>\n",
       "      <td>0.31</td>\n",
       "      <td>0.50</td>\n",
       "    </tr>\n",
       "    <tr>\n",
       "      <th>2</th>\n",
       "      <td>0</td>\n",
       "      <td>3</td>\n",
       "      <td>0.67</td>\n",
       "      <td>0.30</td>\n",
       "      <td>0.43</td>\n",
       "    </tr>\n",
       "    <tr>\n",
       "      <th>3</th>\n",
       "      <td>0</td>\n",
       "      <td>4</td>\n",
       "      <td>0.74</td>\n",
       "      <td>0.35</td>\n",
       "      <td>0.46</td>\n",
       "    </tr>\n",
       "    <tr>\n",
       "      <th>4</th>\n",
       "      <td>0</td>\n",
       "      <td>5</td>\n",
       "      <td>0.82</td>\n",
       "      <td>0.44</td>\n",
       "      <td>0.53</td>\n",
       "    </tr>\n",
       "    <tr>\n",
       "      <th>5</th>\n",
       "      <td>1</td>\n",
       "      <td>1</td>\n",
       "      <td>0.45</td>\n",
       "      <td>0.12</td>\n",
       "      <td>0.31</td>\n",
       "    </tr>\n",
       "    <tr>\n",
       "      <th>6</th>\n",
       "      <td>1</td>\n",
       "      <td>2</td>\n",
       "      <td>0.61</td>\n",
       "      <td>0.26</td>\n",
       "      <td>0.41</td>\n",
       "    </tr>\n",
       "    <tr>\n",
       "      <th>7</th>\n",
       "      <td>1</td>\n",
       "      <td>3</td>\n",
       "      <td>0.73</td>\n",
       "      <td>0.34</td>\n",
       "      <td>0.48</td>\n",
       "    </tr>\n",
       "    <tr>\n",
       "      <th>8</th>\n",
       "      <td>1</td>\n",
       "      <td>4</td>\n",
       "      <td>0.81</td>\n",
       "      <td>0.39</td>\n",
       "      <td>0.48</td>\n",
       "    </tr>\n",
       "    <tr>\n",
       "      <th>9</th>\n",
       "      <td>1</td>\n",
       "      <td>5</td>\n",
       "      <td>0.84</td>\n",
       "      <td>0.47</td>\n",
       "      <td>0.55</td>\n",
       "    </tr>\n",
       "    <tr>\n",
       "      <th>10</th>\n",
       "      <td>2</td>\n",
       "      <td>1</td>\n",
       "      <td>0.60</td>\n",
       "      <td>0.24</td>\n",
       "      <td>0.41</td>\n",
       "    </tr>\n",
       "    <tr>\n",
       "      <th>11</th>\n",
       "      <td>2</td>\n",
       "      <td>2</td>\n",
       "      <td>0.54</td>\n",
       "      <td>0.18</td>\n",
       "      <td>0.33</td>\n",
       "    </tr>\n",
       "    <tr>\n",
       "      <th>12</th>\n",
       "      <td>2</td>\n",
       "      <td>3</td>\n",
       "      <td>0.70</td>\n",
       "      <td>0.40</td>\n",
       "      <td>0.55</td>\n",
       "    </tr>\n",
       "    <tr>\n",
       "      <th>13</th>\n",
       "      <td>2</td>\n",
       "      <td>4</td>\n",
       "      <td>0.76</td>\n",
       "      <td>0.35</td>\n",
       "      <td>0.46</td>\n",
       "    </tr>\n",
       "    <tr>\n",
       "      <th>14</th>\n",
       "      <td>2</td>\n",
       "      <td>5</td>\n",
       "      <td>0.78</td>\n",
       "      <td>0.41</td>\n",
       "      <td>0.52</td>\n",
       "    </tr>\n",
       "    <tr>\n",
       "      <th>15</th>\n",
       "      <td>3</td>\n",
       "      <td>1</td>\n",
       "      <td>0.55</td>\n",
       "      <td>0.26</td>\n",
       "      <td>0.46</td>\n",
       "    </tr>\n",
       "    <tr>\n",
       "      <th>16</th>\n",
       "      <td>3</td>\n",
       "      <td>2</td>\n",
       "      <td>0.63</td>\n",
       "      <td>0.35</td>\n",
       "      <td>0.54</td>\n",
       "    </tr>\n",
       "    <tr>\n",
       "      <th>17</th>\n",
       "      <td>3</td>\n",
       "      <td>3</td>\n",
       "      <td>0.71</td>\n",
       "      <td>0.40</td>\n",
       "      <td>0.55</td>\n",
       "    </tr>\n",
       "    <tr>\n",
       "      <th>18</th>\n",
       "      <td>3</td>\n",
       "      <td>4</td>\n",
       "      <td>0.74</td>\n",
       "      <td>0.38</td>\n",
       "      <td>0.50</td>\n",
       "    </tr>\n",
       "    <tr>\n",
       "      <th>19</th>\n",
       "      <td>3</td>\n",
       "      <td>5</td>\n",
       "      <td>0.79</td>\n",
       "      <td>0.46</td>\n",
       "      <td>0.57</td>\n",
       "    </tr>\n",
       "    <tr>\n",
       "      <th>20</th>\n",
       "      <td>4</td>\n",
       "      <td>1</td>\n",
       "      <td>0.55</td>\n",
       "      <td>0.25</td>\n",
       "      <td>0.44</td>\n",
       "    </tr>\n",
       "    <tr>\n",
       "      <th>21</th>\n",
       "      <td>4</td>\n",
       "      <td>2</td>\n",
       "      <td>0.60</td>\n",
       "      <td>0.29</td>\n",
       "      <td>0.47</td>\n",
       "    </tr>\n",
       "    <tr>\n",
       "      <th>22</th>\n",
       "      <td>4</td>\n",
       "      <td>3</td>\n",
       "      <td>0.71</td>\n",
       "      <td>0.40</td>\n",
       "      <td>0.55</td>\n",
       "    </tr>\n",
       "    <tr>\n",
       "      <th>23</th>\n",
       "      <td>4</td>\n",
       "      <td>4</td>\n",
       "      <td>0.76</td>\n",
       "      <td>0.40</td>\n",
       "      <td>0.52</td>\n",
       "    </tr>\n",
       "    <tr>\n",
       "      <th>24</th>\n",
       "      <td>4</td>\n",
       "      <td>5</td>\n",
       "      <td>0.81</td>\n",
       "      <td>0.47</td>\n",
       "      <td>0.57</td>\n",
       "    </tr>\n",
       "    <tr>\n",
       "      <th>25</th>\n",
       "      <td>5</td>\n",
       "      <td>1</td>\n",
       "      <td>0.55</td>\n",
       "      <td>0.27</td>\n",
       "      <td>0.50</td>\n",
       "    </tr>\n",
       "    <tr>\n",
       "      <th>26</th>\n",
       "      <td>5</td>\n",
       "      <td>2</td>\n",
       "      <td>0.60</td>\n",
       "      <td>0.29</td>\n",
       "      <td>0.47</td>\n",
       "    </tr>\n",
       "    <tr>\n",
       "      <th>27</th>\n",
       "      <td>5</td>\n",
       "      <td>3</td>\n",
       "      <td>0.72</td>\n",
       "      <td>0.42</td>\n",
       "      <td>0.57</td>\n",
       "    </tr>\n",
       "    <tr>\n",
       "      <th>28</th>\n",
       "      <td>5</td>\n",
       "      <td>4</td>\n",
       "      <td>0.76</td>\n",
       "      <td>0.40</td>\n",
       "      <td>0.52</td>\n",
       "    </tr>\n",
       "    <tr>\n",
       "      <th>29</th>\n",
       "      <td>5</td>\n",
       "      <td>5</td>\n",
       "      <td>0.81</td>\n",
       "      <td>0.44</td>\n",
       "      <td>0.53</td>\n",
       "    </tr>\n",
       "    <tr>\n",
       "      <th>30</th>\n",
       "      <td>6</td>\n",
       "      <td>1</td>\n",
       "      <td>0.56</td>\n",
       "      <td>0.25</td>\n",
       "      <td>0.44</td>\n",
       "    </tr>\n",
       "    <tr>\n",
       "      <th>31</th>\n",
       "      <td>6</td>\n",
       "      <td>2</td>\n",
       "      <td>0.58</td>\n",
       "      <td>0.25</td>\n",
       "      <td>0.41</td>\n",
       "    </tr>\n",
       "    <tr>\n",
       "      <th>32</th>\n",
       "      <td>6</td>\n",
       "      <td>3</td>\n",
       "      <td>0.70</td>\n",
       "      <td>0.38</td>\n",
       "      <td>0.54</td>\n",
       "    </tr>\n",
       "    <tr>\n",
       "      <th>33</th>\n",
       "      <td>6</td>\n",
       "      <td>4</td>\n",
       "      <td>0.75</td>\n",
       "      <td>0.38</td>\n",
       "      <td>0.50</td>\n",
       "    </tr>\n",
       "    <tr>\n",
       "      <th>34</th>\n",
       "      <td>6</td>\n",
       "      <td>5</td>\n",
       "      <td>0.82</td>\n",
       "      <td>0.43</td>\n",
       "      <td>0.52</td>\n",
       "    </tr>\n",
       "    <tr>\n",
       "      <th>35</th>\n",
       "      <td>7</td>\n",
       "      <td>1</td>\n",
       "      <td>0.60</td>\n",
       "      <td>0.29</td>\n",
       "      <td>0.44</td>\n",
       "    </tr>\n",
       "    <tr>\n",
       "      <th>36</th>\n",
       "      <td>7</td>\n",
       "      <td>2</td>\n",
       "      <td>0.64</td>\n",
       "      <td>0.29</td>\n",
       "      <td>0.43</td>\n",
       "    </tr>\n",
       "    <tr>\n",
       "      <th>37</th>\n",
       "      <td>7</td>\n",
       "      <td>3</td>\n",
       "      <td>0.67</td>\n",
       "      <td>0.39</td>\n",
       "      <td>0.58</td>\n",
       "    </tr>\n",
       "    <tr>\n",
       "      <th>38</th>\n",
       "      <td>7</td>\n",
       "      <td>4</td>\n",
       "      <td>0.83</td>\n",
       "      <td>0.46</td>\n",
       "      <td>0.55</td>\n",
       "    </tr>\n",
       "    <tr>\n",
       "      <th>39</th>\n",
       "      <td>7</td>\n",
       "      <td>5</td>\n",
       "      <td>0.84</td>\n",
       "      <td>0.42</td>\n",
       "      <td>0.49</td>\n",
       "    </tr>\n",
       "    <tr>\n",
       "      <th>40</th>\n",
       "      <td>8</td>\n",
       "      <td>1</td>\n",
       "      <td>0.55</td>\n",
       "      <td>0.23</td>\n",
       "      <td>0.41</td>\n",
       "    </tr>\n",
       "    <tr>\n",
       "      <th>41</th>\n",
       "      <td>8</td>\n",
       "      <td>2</td>\n",
       "      <td>0.56</td>\n",
       "      <td>0.19</td>\n",
       "      <td>0.31</td>\n",
       "    </tr>\n",
       "    <tr>\n",
       "      <th>42</th>\n",
       "      <td>8</td>\n",
       "      <td>3</td>\n",
       "      <td>0.71</td>\n",
       "      <td>0.31</td>\n",
       "      <td>0.43</td>\n",
       "    </tr>\n",
       "    <tr>\n",
       "      <th>43</th>\n",
       "      <td>8</td>\n",
       "      <td>4</td>\n",
       "      <td>0.70</td>\n",
       "      <td>0.27</td>\n",
       "      <td>0.37</td>\n",
       "    </tr>\n",
       "    <tr>\n",
       "      <th>44</th>\n",
       "      <td>8</td>\n",
       "      <td>5</td>\n",
       "      <td>0.81</td>\n",
       "      <td>0.39</td>\n",
       "      <td>0.47</td>\n",
       "    </tr>\n",
       "    <tr>\n",
       "      <th>45</th>\n",
       "      <td>9</td>\n",
       "      <td>1</td>\n",
       "      <td>0.52</td>\n",
       "      <td>0.26</td>\n",
       "      <td>0.50</td>\n",
       "    </tr>\n",
       "    <tr>\n",
       "      <th>46</th>\n",
       "      <td>9</td>\n",
       "      <td>2</td>\n",
       "      <td>0.58</td>\n",
       "      <td>0.23</td>\n",
       "      <td>0.36</td>\n",
       "    </tr>\n",
       "    <tr>\n",
       "      <th>47</th>\n",
       "      <td>9</td>\n",
       "      <td>3</td>\n",
       "      <td>0.72</td>\n",
       "      <td>0.44</td>\n",
       "      <td>0.61</td>\n",
       "    </tr>\n",
       "    <tr>\n",
       "      <th>48</th>\n",
       "      <td>9</td>\n",
       "      <td>4</td>\n",
       "      <td>0.77</td>\n",
       "      <td>0.44</td>\n",
       "      <td>0.56</td>\n",
       "    </tr>\n",
       "    <tr>\n",
       "      <th>49</th>\n",
       "      <td>9</td>\n",
       "      <td>5</td>\n",
       "      <td>0.81</td>\n",
       "      <td>0.43</td>\n",
       "      <td>0.52</td>\n",
       "    </tr>\n",
       "    <tr>\n",
       "      <th>50</th>\n",
       "      <td>10</td>\n",
       "      <td>1</td>\n",
       "      <td>0.59</td>\n",
       "      <td>0.26</td>\n",
       "      <td>0.42</td>\n",
       "    </tr>\n",
       "    <tr>\n",
       "      <th>51</th>\n",
       "      <td>10</td>\n",
       "      <td>2</td>\n",
       "      <td>0.59</td>\n",
       "      <td>0.27</td>\n",
       "      <td>0.44</td>\n",
       "    </tr>\n",
       "    <tr>\n",
       "      <th>52</th>\n",
       "      <td>10</td>\n",
       "      <td>3</td>\n",
       "      <td>0.74</td>\n",
       "      <td>0.38</td>\n",
       "      <td>0.49</td>\n",
       "    </tr>\n",
       "    <tr>\n",
       "      <th>53</th>\n",
       "      <td>10</td>\n",
       "      <td>4</td>\n",
       "      <td>0.74</td>\n",
       "      <td>0.35</td>\n",
       "      <td>0.46</td>\n",
       "    </tr>\n",
       "    <tr>\n",
       "      <th>54</th>\n",
       "      <td>10</td>\n",
       "      <td>5</td>\n",
       "      <td>0.81</td>\n",
       "      <td>0.46</td>\n",
       "      <td>0.56</td>\n",
       "    </tr>\n",
       "    <tr>\n",
       "      <th>55</th>\n",
       "      <td>11</td>\n",
       "      <td>1</td>\n",
       "      <td>0.54</td>\n",
       "      <td>0.27</td>\n",
       "      <td>0.49</td>\n",
       "    </tr>\n",
       "    <tr>\n",
       "      <th>56</th>\n",
       "      <td>11</td>\n",
       "      <td>2</td>\n",
       "      <td>0.59</td>\n",
       "      <td>0.36</td>\n",
       "      <td>0.58</td>\n",
       "    </tr>\n",
       "    <tr>\n",
       "      <th>57</th>\n",
       "      <td>11</td>\n",
       "      <td>3</td>\n",
       "      <td>0.77</td>\n",
       "      <td>0.45</td>\n",
       "      <td>0.58</td>\n",
       "    </tr>\n",
       "    <tr>\n",
       "      <th>58</th>\n",
       "      <td>11</td>\n",
       "      <td>4</td>\n",
       "      <td>0.74</td>\n",
       "      <td>0.39</td>\n",
       "      <td>0.50</td>\n",
       "    </tr>\n",
       "    <tr>\n",
       "      <th>59</th>\n",
       "      <td>11</td>\n",
       "      <td>5</td>\n",
       "      <td>0.83</td>\n",
       "      <td>0.48</td>\n",
       "      <td>0.57</td>\n",
       "    </tr>\n",
       "    <tr>\n",
       "      <th>60</th>\n",
       "      <td>12</td>\n",
       "      <td>1</td>\n",
       "      <td>0.59</td>\n",
       "      <td>0.27</td>\n",
       "      <td>0.44</td>\n",
       "    </tr>\n",
       "    <tr>\n",
       "      <th>61</th>\n",
       "      <td>12</td>\n",
       "      <td>2</td>\n",
       "      <td>0.61</td>\n",
       "      <td>0.27</td>\n",
       "      <td>0.41</td>\n",
       "    </tr>\n",
       "    <tr>\n",
       "      <th>62</th>\n",
       "      <td>12</td>\n",
       "      <td>3</td>\n",
       "      <td>0.67</td>\n",
       "      <td>0.25</td>\n",
       "      <td>0.34</td>\n",
       "    </tr>\n",
       "    <tr>\n",
       "      <th>63</th>\n",
       "      <td>12</td>\n",
       "      <td>4</td>\n",
       "      <td>0.72</td>\n",
       "      <td>0.33</td>\n",
       "      <td>0.44</td>\n",
       "    </tr>\n",
       "    <tr>\n",
       "      <th>64</th>\n",
       "      <td>12</td>\n",
       "      <td>5</td>\n",
       "      <td>0.79</td>\n",
       "      <td>0.34</td>\n",
       "      <td>0.41</td>\n",
       "    </tr>\n",
       "    <tr>\n",
       "      <th>65</th>\n",
       "      <td>13</td>\n",
       "      <td>1</td>\n",
       "      <td>0.54</td>\n",
       "      <td>0.23</td>\n",
       "      <td>0.42</td>\n",
       "    </tr>\n",
       "    <tr>\n",
       "      <th>66</th>\n",
       "      <td>13</td>\n",
       "      <td>2</td>\n",
       "      <td>0.56</td>\n",
       "      <td>0.22</td>\n",
       "      <td>0.37</td>\n",
       "    </tr>\n",
       "    <tr>\n",
       "      <th>67</th>\n",
       "      <td>13</td>\n",
       "      <td>3</td>\n",
       "      <td>0.73</td>\n",
       "      <td>0.40</td>\n",
       "      <td>0.54</td>\n",
       "    </tr>\n",
       "    <tr>\n",
       "      <th>68</th>\n",
       "      <td>13</td>\n",
       "      <td>4</td>\n",
       "      <td>0.76</td>\n",
       "      <td>0.36</td>\n",
       "      <td>0.46</td>\n",
       "    </tr>\n",
       "    <tr>\n",
       "      <th>69</th>\n",
       "      <td>13</td>\n",
       "      <td>5</td>\n",
       "      <td>0.82</td>\n",
       "      <td>0.44</td>\n",
       "      <td>0.53</td>\n",
       "    </tr>\n",
       "  </tbody>\n",
       "</table>\n",
       "</div>"
      ],
      "text/plain": [
       "    vertical  customer_cat  open_rate  ctr  ctor\n",
       "0          0             1       0.52 0.24  0.45\n",
       "1          0             2       0.62 0.31  0.50\n",
       "2          0             3       0.67 0.30  0.43\n",
       "3          0             4       0.74 0.35  0.46\n",
       "4          0             5       0.82 0.44  0.53\n",
       "5          1             1       0.45 0.12  0.31\n",
       "6          1             2       0.61 0.26  0.41\n",
       "7          1             3       0.73 0.34  0.48\n",
       "8          1             4       0.81 0.39  0.48\n",
       "9          1             5       0.84 0.47  0.55\n",
       "10         2             1       0.60 0.24  0.41\n",
       "11         2             2       0.54 0.18  0.33\n",
       "12         2             3       0.70 0.40  0.55\n",
       "13         2             4       0.76 0.35  0.46\n",
       "14         2             5       0.78 0.41  0.52\n",
       "15         3             1       0.55 0.26  0.46\n",
       "16         3             2       0.63 0.35  0.54\n",
       "17         3             3       0.71 0.40  0.55\n",
       "18         3             4       0.74 0.38  0.50\n",
       "19         3             5       0.79 0.46  0.57\n",
       "20         4             1       0.55 0.25  0.44\n",
       "21         4             2       0.60 0.29  0.47\n",
       "22         4             3       0.71 0.40  0.55\n",
       "23         4             4       0.76 0.40  0.52\n",
       "24         4             5       0.81 0.47  0.57\n",
       "25         5             1       0.55 0.27  0.50\n",
       "26         5             2       0.60 0.29  0.47\n",
       "27         5             3       0.72 0.42  0.57\n",
       "28         5             4       0.76 0.40  0.52\n",
       "29         5             5       0.81 0.44  0.53\n",
       "30         6             1       0.56 0.25  0.44\n",
       "31         6             2       0.58 0.25  0.41\n",
       "32         6             3       0.70 0.38  0.54\n",
       "33         6             4       0.75 0.38  0.50\n",
       "34         6             5       0.82 0.43  0.52\n",
       "35         7             1       0.60 0.29  0.44\n",
       "36         7             2       0.64 0.29  0.43\n",
       "37         7             3       0.67 0.39  0.58\n",
       "38         7             4       0.83 0.46  0.55\n",
       "39         7             5       0.84 0.42  0.49\n",
       "40         8             1       0.55 0.23  0.41\n",
       "41         8             2       0.56 0.19  0.31\n",
       "42         8             3       0.71 0.31  0.43\n",
       "43         8             4       0.70 0.27  0.37\n",
       "44         8             5       0.81 0.39  0.47\n",
       "45         9             1       0.52 0.26  0.50\n",
       "46         9             2       0.58 0.23  0.36\n",
       "47         9             3       0.72 0.44  0.61\n",
       "48         9             4       0.77 0.44  0.56\n",
       "49         9             5       0.81 0.43  0.52\n",
       "50        10             1       0.59 0.26  0.42\n",
       "51        10             2       0.59 0.27  0.44\n",
       "52        10             3       0.74 0.38  0.49\n",
       "53        10             4       0.74 0.35  0.46\n",
       "54        10             5       0.81 0.46  0.56\n",
       "55        11             1       0.54 0.27  0.49\n",
       "56        11             2       0.59 0.36  0.58\n",
       "57        11             3       0.77 0.45  0.58\n",
       "58        11             4       0.74 0.39  0.50\n",
       "59        11             5       0.83 0.48  0.57\n",
       "60        12             1       0.59 0.27  0.44\n",
       "61        12             2       0.61 0.27  0.41\n",
       "62        12             3       0.67 0.25  0.34\n",
       "63        12             4       0.72 0.33  0.44\n",
       "64        12             5       0.79 0.34  0.41\n",
       "65        13             1       0.54 0.23  0.42\n",
       "66        13             2       0.56 0.22  0.37\n",
       "67        13             3       0.73 0.40  0.54\n",
       "68        13             4       0.76 0.36  0.46\n",
       "69        13             5       0.82 0.44  0.53"
      ]
     },
     "execution_count": 4,
     "metadata": {},
     "output_type": "execute_result"
    }
   ],
   "source": [
    "# Creating aux dataframe\n",
    "\n",
    "aux = campaigns.benchmarks_aux_creator()\n",
    "aux"
   ]
  },
  {
   "cell_type": "markdown",
   "id": "equivalent-trial",
   "metadata": {},
   "source": [
    "#### Assiging its corresponding benchmark to each campaign"
   ]
  },
  {
   "cell_type": "code",
   "execution_count": 5,
   "id": "composed-springer",
   "metadata": {},
   "outputs": [],
   "source": [
    "# Creating new variables: open_rate_benchmark, ctr_benchmark, ctor_benchmark\n",
    "\n",
    "campaigns.benchmark_variable_creator(aux)"
   ]
  },
  {
   "cell_type": "code",
   "execution_count": 6,
   "id": "periodic-manner",
   "metadata": {},
   "outputs": [
    {
     "data": {
      "text/html": [
       "<div>\n",
       "<style scoped>\n",
       "    .dataframe tbody tr th:only-of-type {\n",
       "        vertical-align: middle;\n",
       "    }\n",
       "\n",
       "    .dataframe tbody tr th {\n",
       "        vertical-align: top;\n",
       "    }\n",
       "\n",
       "    .dataframe thead th {\n",
       "        text-align: right;\n",
       "    }\n",
       "</style>\n",
       "<table border=\"1\" class=\"dataframe\">\n",
       "  <thead>\n",
       "    <tr style=\"text-align: right;\">\n",
       "      <th></th>\n",
       "      <th>sender</th>\n",
       "      <th>open_rate</th>\n",
       "      <th>ctr</th>\n",
       "      <th>ctor</th>\n",
       "      <th>open_rate_benchmark</th>\n",
       "      <th>ctr_benchmark</th>\n",
       "      <th>ctor_benchmark</th>\n",
       "    </tr>\n",
       "  </thead>\n",
       "  <tbody>\n",
       "    <tr>\n",
       "      <th>8</th>\n",
       "      <td>22216</td>\n",
       "      <td>0.44</td>\n",
       "      <td>0.12</td>\n",
       "      <td>0.28</td>\n",
       "      <td>0.76</td>\n",
       "      <td>0.40</td>\n",
       "      <td>0.52</td>\n",
       "    </tr>\n",
       "    <tr>\n",
       "      <th>13</th>\n",
       "      <td>862</td>\n",
       "      <td>0.41</td>\n",
       "      <td>0.14</td>\n",
       "      <td>0.38</td>\n",
       "      <td>0.70</td>\n",
       "      <td>0.38</td>\n",
       "      <td>0.54</td>\n",
       "    </tr>\n",
       "    <tr>\n",
       "      <th>18</th>\n",
       "      <td>83446</td>\n",
       "      <td>0.44</td>\n",
       "      <td>0.00</td>\n",
       "      <td>0.00</td>\n",
       "      <td>0.84</td>\n",
       "      <td>0.42</td>\n",
       "      <td>0.49</td>\n",
       "    </tr>\n",
       "    <tr>\n",
       "      <th>19</th>\n",
       "      <td>22216</td>\n",
       "      <td>0.56</td>\n",
       "      <td>0.12</td>\n",
       "      <td>0.22</td>\n",
       "      <td>0.76</td>\n",
       "      <td>0.40</td>\n",
       "      <td>0.52</td>\n",
       "    </tr>\n",
       "    <tr>\n",
       "      <th>23</th>\n",
       "      <td>66313</td>\n",
       "      <td>0.69</td>\n",
       "      <td>0.64</td>\n",
       "      <td>0.94</td>\n",
       "      <td>0.83</td>\n",
       "      <td>0.48</td>\n",
       "      <td>0.57</td>\n",
       "    </tr>\n",
       "    <tr>\n",
       "      <th>...</th>\n",
       "      <td>...</td>\n",
       "      <td>...</td>\n",
       "      <td>...</td>\n",
       "      <td>...</td>\n",
       "      <td>...</td>\n",
       "      <td>...</td>\n",
       "      <td>...</td>\n",
       "    </tr>\n",
       "    <tr>\n",
       "      <th>69700</th>\n",
       "      <td>61373</td>\n",
       "      <td>0.74</td>\n",
       "      <td>0.51</td>\n",
       "      <td>0.68</td>\n",
       "      <td>0.74</td>\n",
       "      <td>0.39</td>\n",
       "      <td>0.50</td>\n",
       "    </tr>\n",
       "    <tr>\n",
       "      <th>69701</th>\n",
       "      <td>60561</td>\n",
       "      <td>0.78</td>\n",
       "      <td>0.43</td>\n",
       "      <td>0.55</td>\n",
       "      <td>0.71</td>\n",
       "      <td>0.40</td>\n",
       "      <td>0.55</td>\n",
       "    </tr>\n",
       "    <tr>\n",
       "      <th>69702</th>\n",
       "      <td>20656</td>\n",
       "      <td>0.79</td>\n",
       "      <td>0.34</td>\n",
       "      <td>0.43</td>\n",
       "      <td>0.81</td>\n",
       "      <td>0.39</td>\n",
       "      <td>0.47</td>\n",
       "    </tr>\n",
       "    <tr>\n",
       "      <th>69703</th>\n",
       "      <td>46196</td>\n",
       "      <td>0.63</td>\n",
       "      <td>0.18</td>\n",
       "      <td>0.28</td>\n",
       "      <td>0.71</td>\n",
       "      <td>0.40</td>\n",
       "      <td>0.55</td>\n",
       "    </tr>\n",
       "    <tr>\n",
       "      <th>69704</th>\n",
       "      <td>81704</td>\n",
       "      <td>0.70</td>\n",
       "      <td>0.43</td>\n",
       "      <td>0.60</td>\n",
       "      <td>0.63</td>\n",
       "      <td>0.35</td>\n",
       "      <td>0.54</td>\n",
       "    </tr>\n",
       "  </tbody>\n",
       "</table>\n",
       "<p>79675 rows × 7 columns</p>\n",
       "</div>"
      ],
      "text/plain": [
       "       sender  open_rate  ctr  ctor  open_rate_benchmark  ctr_benchmark  \\\n",
       "8       22216       0.44 0.12  0.28                 0.76           0.40   \n",
       "13        862       0.41 0.14  0.38                 0.70           0.38   \n",
       "18      83446       0.44 0.00  0.00                 0.84           0.42   \n",
       "19      22216       0.56 0.12  0.22                 0.76           0.40   \n",
       "23      66313       0.69 0.64  0.94                 0.83           0.48   \n",
       "...       ...        ...  ...   ...                  ...            ...   \n",
       "69700   61373       0.74 0.51  0.68                 0.74           0.39   \n",
       "69701   60561       0.78 0.43  0.55                 0.71           0.40   \n",
       "69702   20656       0.79 0.34  0.43                 0.81           0.39   \n",
       "69703   46196       0.63 0.18  0.28                 0.71           0.40   \n",
       "69704   81704       0.70 0.43  0.60                 0.63           0.35   \n",
       "\n",
       "       ctor_benchmark  \n",
       "8                0.52  \n",
       "13               0.54  \n",
       "18               0.49  \n",
       "19               0.52  \n",
       "23               0.57  \n",
       "...               ...  \n",
       "69700            0.50  \n",
       "69701            0.55  \n",
       "69702            0.47  \n",
       "69703            0.55  \n",
       "69704            0.54  \n",
       "\n",
       "[79675 rows x 7 columns]"
      ]
     },
     "execution_count": 6,
     "metadata": {},
     "output_type": "execute_result"
    }
   ],
   "source": [
    "campaigns.campaigns_w_vertical_df[['sender', 'open_rate', 'ctr', 'ctor', 'open_rate_benchmark', 'ctr_benchmark', 'ctor_benchmark']]"
   ]
  },
  {
   "cell_type": "markdown",
   "id": "hindu-trigger",
   "metadata": {},
   "source": [
    "#### Detecting campaigns with low performance"
   ]
  },
  {
   "cell_type": "markdown",
   "id": "diagnostic-formation",
   "metadata": {},
   "source": [
    "- The campaign performs badly according to its benchmark `True`\n",
    "- The campaign does not perform badly (obtains good results) `False`"
   ]
  },
  {
   "cell_type": "code",
   "execution_count": 7,
   "id": "dominican-treatment",
   "metadata": {},
   "outputs": [],
   "source": [
    "# Creating an instance\n",
    "\n",
    "campaigns = Benchmarker(campaigns.campaigns_w_vertical_df)"
   ]
  },
  {
   "cell_type": "code",
   "execution_count": 8,
   "id": "known-issue",
   "metadata": {},
   "outputs": [],
   "source": [
    "# Creating new variables: 'open_rate_result', 'ctr_result', 'ctor_result'\n",
    "\n",
    "campaigns.campaign_benchmarker('open_rate', 'open_rate_benchmark')\n",
    "campaigns.campaign_benchmarker('ctr','ctr_benchmark')\n",
    "campaigns.campaign_benchmarker('ctor','ctor_benchmark')"
   ]
  },
  {
   "cell_type": "code",
   "execution_count": 9,
   "id": "unable-extension",
   "metadata": {},
   "outputs": [
    {
     "data": {
      "text/html": [
       "<div>\n",
       "<style scoped>\n",
       "    .dataframe tbody tr th:only-of-type {\n",
       "        vertical-align: middle;\n",
       "    }\n",
       "\n",
       "    .dataframe tbody tr th {\n",
       "        vertical-align: top;\n",
       "    }\n",
       "\n",
       "    .dataframe thead th {\n",
       "        text-align: right;\n",
       "    }\n",
       "</style>\n",
       "<table border=\"1\" class=\"dataframe\">\n",
       "  <thead>\n",
       "    <tr style=\"text-align: right;\">\n",
       "      <th></th>\n",
       "      <th>sender</th>\n",
       "      <th>vertical</th>\n",
       "      <th>open_rate</th>\n",
       "      <th>ctr</th>\n",
       "      <th>ctor</th>\n",
       "      <th>open_rate_benchmark</th>\n",
       "      <th>ctr_benchmark</th>\n",
       "      <th>ctor_benchmark</th>\n",
       "      <th>open_rate_result</th>\n",
       "      <th>ctr_result</th>\n",
       "      <th>ctor_result</th>\n",
       "    </tr>\n",
       "  </thead>\n",
       "  <tbody>\n",
       "    <tr>\n",
       "      <th>8</th>\n",
       "      <td>22216</td>\n",
       "      <td>5</td>\n",
       "      <td>0.44</td>\n",
       "      <td>0.12</td>\n",
       "      <td>0.28</td>\n",
       "      <td>0.76</td>\n",
       "      <td>0.40</td>\n",
       "      <td>0.52</td>\n",
       "      <td>True</td>\n",
       "      <td>True</td>\n",
       "      <td>True</td>\n",
       "    </tr>\n",
       "    <tr>\n",
       "      <th>13</th>\n",
       "      <td>862</td>\n",
       "      <td>6</td>\n",
       "      <td>0.41</td>\n",
       "      <td>0.14</td>\n",
       "      <td>0.38</td>\n",
       "      <td>0.70</td>\n",
       "      <td>0.38</td>\n",
       "      <td>0.54</td>\n",
       "      <td>True</td>\n",
       "      <td>True</td>\n",
       "      <td>True</td>\n",
       "    </tr>\n",
       "    <tr>\n",
       "      <th>18</th>\n",
       "      <td>83446</td>\n",
       "      <td>7</td>\n",
       "      <td>0.44</td>\n",
       "      <td>0.00</td>\n",
       "      <td>0.00</td>\n",
       "      <td>0.84</td>\n",
       "      <td>0.42</td>\n",
       "      <td>0.49</td>\n",
       "      <td>True</td>\n",
       "      <td>True</td>\n",
       "      <td>True</td>\n",
       "    </tr>\n",
       "    <tr>\n",
       "      <th>19</th>\n",
       "      <td>22216</td>\n",
       "      <td>5</td>\n",
       "      <td>0.56</td>\n",
       "      <td>0.12</td>\n",
       "      <td>0.22</td>\n",
       "      <td>0.76</td>\n",
       "      <td>0.40</td>\n",
       "      <td>0.52</td>\n",
       "      <td>True</td>\n",
       "      <td>True</td>\n",
       "      <td>True</td>\n",
       "    </tr>\n",
       "    <tr>\n",
       "      <th>23</th>\n",
       "      <td>66313</td>\n",
       "      <td>11</td>\n",
       "      <td>0.69</td>\n",
       "      <td>0.64</td>\n",
       "      <td>0.94</td>\n",
       "      <td>0.83</td>\n",
       "      <td>0.48</td>\n",
       "      <td>0.57</td>\n",
       "      <td>True</td>\n",
       "      <td>False</td>\n",
       "      <td>False</td>\n",
       "    </tr>\n",
       "    <tr>\n",
       "      <th>...</th>\n",
       "      <td>...</td>\n",
       "      <td>...</td>\n",
       "      <td>...</td>\n",
       "      <td>...</td>\n",
       "      <td>...</td>\n",
       "      <td>...</td>\n",
       "      <td>...</td>\n",
       "      <td>...</td>\n",
       "      <td>...</td>\n",
       "      <td>...</td>\n",
       "      <td>...</td>\n",
       "    </tr>\n",
       "    <tr>\n",
       "      <th>69700</th>\n",
       "      <td>61373</td>\n",
       "      <td>11</td>\n",
       "      <td>0.74</td>\n",
       "      <td>0.51</td>\n",
       "      <td>0.68</td>\n",
       "      <td>0.74</td>\n",
       "      <td>0.39</td>\n",
       "      <td>0.50</td>\n",
       "      <td>False</td>\n",
       "      <td>False</td>\n",
       "      <td>False</td>\n",
       "    </tr>\n",
       "    <tr>\n",
       "      <th>69701</th>\n",
       "      <td>60561</td>\n",
       "      <td>3</td>\n",
       "      <td>0.78</td>\n",
       "      <td>0.43</td>\n",
       "      <td>0.55</td>\n",
       "      <td>0.71</td>\n",
       "      <td>0.40</td>\n",
       "      <td>0.55</td>\n",
       "      <td>False</td>\n",
       "      <td>False</td>\n",
       "      <td>False</td>\n",
       "    </tr>\n",
       "    <tr>\n",
       "      <th>69702</th>\n",
       "      <td>20656</td>\n",
       "      <td>8</td>\n",
       "      <td>0.79</td>\n",
       "      <td>0.34</td>\n",
       "      <td>0.43</td>\n",
       "      <td>0.81</td>\n",
       "      <td>0.39</td>\n",
       "      <td>0.47</td>\n",
       "      <td>True</td>\n",
       "      <td>True</td>\n",
       "      <td>True</td>\n",
       "    </tr>\n",
       "    <tr>\n",
       "      <th>69703</th>\n",
       "      <td>46196</td>\n",
       "      <td>4</td>\n",
       "      <td>0.63</td>\n",
       "      <td>0.18</td>\n",
       "      <td>0.28</td>\n",
       "      <td>0.71</td>\n",
       "      <td>0.40</td>\n",
       "      <td>0.55</td>\n",
       "      <td>True</td>\n",
       "      <td>True</td>\n",
       "      <td>True</td>\n",
       "    </tr>\n",
       "    <tr>\n",
       "      <th>69704</th>\n",
       "      <td>81704</td>\n",
       "      <td>3</td>\n",
       "      <td>0.70</td>\n",
       "      <td>0.43</td>\n",
       "      <td>0.60</td>\n",
       "      <td>0.63</td>\n",
       "      <td>0.35</td>\n",
       "      <td>0.54</td>\n",
       "      <td>False</td>\n",
       "      <td>False</td>\n",
       "      <td>False</td>\n",
       "    </tr>\n",
       "  </tbody>\n",
       "</table>\n",
       "<p>79675 rows × 11 columns</p>\n",
       "</div>"
      ],
      "text/plain": [
       "       sender  vertical  open_rate  ctr  ctor  open_rate_benchmark  \\\n",
       "8       22216         5       0.44 0.12  0.28                 0.76   \n",
       "13        862         6       0.41 0.14  0.38                 0.70   \n",
       "18      83446         7       0.44 0.00  0.00                 0.84   \n",
       "19      22216         5       0.56 0.12  0.22                 0.76   \n",
       "23      66313        11       0.69 0.64  0.94                 0.83   \n",
       "...       ...       ...        ...  ...   ...                  ...   \n",
       "69700   61373        11       0.74 0.51  0.68                 0.74   \n",
       "69701   60561         3       0.78 0.43  0.55                 0.71   \n",
       "69702   20656         8       0.79 0.34  0.43                 0.81   \n",
       "69703   46196         4       0.63 0.18  0.28                 0.71   \n",
       "69704   81704         3       0.70 0.43  0.60                 0.63   \n",
       "\n",
       "       ctr_benchmark  ctor_benchmark  open_rate_result  ctr_result  \\\n",
       "8               0.40            0.52              True        True   \n",
       "13              0.38            0.54              True        True   \n",
       "18              0.42            0.49              True        True   \n",
       "19              0.40            0.52              True        True   \n",
       "23              0.48            0.57              True       False   \n",
       "...              ...             ...               ...         ...   \n",
       "69700           0.39            0.50             False       False   \n",
       "69701           0.40            0.55             False       False   \n",
       "69702           0.39            0.47              True        True   \n",
       "69703           0.40            0.55              True        True   \n",
       "69704           0.35            0.54             False       False   \n",
       "\n",
       "       ctor_result  \n",
       "8             True  \n",
       "13            True  \n",
       "18            True  \n",
       "19            True  \n",
       "23           False  \n",
       "...            ...  \n",
       "69700        False  \n",
       "69701        False  \n",
       "69702         True  \n",
       "69703         True  \n",
       "69704        False  \n",
       "\n",
       "[79675 rows x 11 columns]"
      ]
     },
     "execution_count": 9,
     "metadata": {},
     "output_type": "execute_result"
    }
   ],
   "source": [
    "campaigns.campaigns_w_vertical_df[['sender', 'vertical', 'open_rate','ctr', 'ctor','open_rate_benchmark','ctr_benchmark',\n",
    "                                   'ctor_benchmark', 'open_rate_result','ctr_result','ctor_result']]"
   ]
  },
  {
   "cell_type": "markdown",
   "id": "steady-wrestling",
   "metadata": {},
   "source": [
    "#### Obtaining information from campaigns with higher scores"
   ]
  },
  {
   "cell_type": "code",
   "execution_count": 10,
   "id": "lovely-crisis",
   "metadata": {},
   "outputs": [],
   "source": [
    "# groupby vertical, filter rate, sort, get top n, add names\n",
    "\n",
    "ntop = 50\n",
    "\n",
    "open_rate_top = campaigns.get_top_messages('open_rate', ntop)\n",
    "ctr_top = campaigns.get_top_messages('ctr', ntop)\n",
    "ctor_top = campaigns.get_top_messages('ctor', ntop)"
   ]
  },
  {
   "cell_type": "code",
   "execution_count": 11,
   "id": "above-skating",
   "metadata": {},
   "outputs": [],
   "source": [
    "# ctor_top_keywords = campaigns.keywords_list_creator(ctor_top, ntop, 'wellness', 'message')"
   ]
  },
  {
   "cell_type": "code",
   "execution_count": 12,
   "id": "powerful-solution",
   "metadata": {},
   "outputs": [],
   "source": [
    "# ctor_top_keywords"
   ]
  },
  {
   "cell_type": "code",
   "execution_count": 13,
   "id": "appreciated-carolina",
   "metadata": {},
   "outputs": [],
   "source": [
    "top_keywords_list = ['Navidad', 'Año Nuevo', 'Magos']"
   ]
  },
  {
   "cell_type": "code",
   "execution_count": 14,
   "id": "checked-violation",
   "metadata": {},
   "outputs": [
    {
     "data": {
      "text/plain": [
       "3"
      ]
     },
     "execution_count": 14,
     "metadata": {},
     "output_type": "execute_result"
    }
   ],
   "source": [
    "len(top_keywords_list)"
   ]
  },
  {
   "cell_type": "code",
   "execution_count": 15,
   "id": "promotional-gazette",
   "metadata": {},
   "outputs": [],
   "source": [
    "campaigns.add_keywords_to_file('../../../keywords/Wellness, health and personal care sectors/Ctor Result/keywords.txt', top_keywords_list)"
   ]
  },
  {
   "cell_type": "markdown",
   "id": "banner-basin",
   "metadata": {},
   "source": [
    "### 4.4. Feature Selection with `ColumnTransformer`.\n",
    "\n",
    "**Multiobjective problem** with three targets to predict: `open_rate_result`, `ctr_result` & `ctor_result`.\n",
    "\n",
    "Steps:\n",
    "\n",
    "- Dropping empty rows and normalizing texts from `subject` and `message` variables: dropping null values & stemming.\n",
    "\n",
    "\n",
    "- Combining several feature extraction mechanisms and transformations into a single transformer in a scikit-learn pipeline using `ColumnTransformer` to predict target 01: `open_rate_result`.\n",
    "\n",
    "\n",
    "- Packing everything in a script to predict target 02 & target 03: `ctr_result` and `ctor_result`."
   ]
  },
  {
   "cell_type": "markdown",
   "id": "complex-county",
   "metadata": {},
   "source": [
    "#### Dropping empty rows and normalizing texts (stemming)"
   ]
  },
  {
   "cell_type": "code",
   "execution_count": 16,
   "id": "delayed-denver",
   "metadata": {},
   "outputs": [],
   "source": [
    "campaigns = MainModelTextsPreprocessor(campaigns.campaigns_w_vertical_df, 'spanish', remove_unlabeled=False)"
   ]
  },
  {
   "cell_type": "code",
   "execution_count": 17,
   "id": "honest-content",
   "metadata": {},
   "outputs": [],
   "source": [
    "campaigns.preprocess_message(flag_stemming=True)"
   ]
  },
  {
   "cell_type": "code",
   "execution_count": 18,
   "id": "finnish-idaho",
   "metadata": {},
   "outputs": [
    {
     "data": {
      "text/plain": [
       "Index(['sender', 'subject', 'date_sent', 'total_sent', 'customer_cat', 'opens',\n",
       "       'clicks', 'message', 'campaign_id', 'open_rate', 'ctr', 'ctor',\n",
       "       'clean_subject', 'clean_message', 'vertical', 'open_rate_benchmark',\n",
       "       'ctr_benchmark', 'ctor_benchmark', 'open_rate_result', 'ctr_result',\n",
       "       'ctor_result'],\n",
       "      dtype='object')"
      ]
     },
     "execution_count": 18,
     "metadata": {},
     "output_type": "execute_result"
    }
   ],
   "source": [
    "campaigns.campaigns_w_vertical_df.columns"
   ]
  },
  {
   "cell_type": "code",
   "execution_count": 19,
   "id": "mineral-continuity",
   "metadata": {},
   "outputs": [],
   "source": [
    "# Saving file\n",
    "\n",
    "campaigns.save_final_df('../../../datasets/output/sample_01/output_09/', 'es.csv')"
   ]
  },
  {
   "cell_type": "code",
   "execution_count": 20,
   "id": "dress-egyptian",
   "metadata": {},
   "outputs": [],
   "source": [
    "# Getting input\n",
    "# Creating an instance\n",
    "\n",
    "campaigns = CleanClassifiedCampaignsFileGetInfo('../../../datasets/output/sample_01/output_09/','es.csv')"
   ]
  },
  {
   "cell_type": "markdown",
   "id": "convinced-catch",
   "metadata": {},
   "source": [
    "#### Creating a Scikit-learn Pipeline"
   ]
  },
  {
   "cell_type": "code",
   "execution_count": 21,
   "id": "framed-necklace",
   "metadata": {},
   "outputs": [
    {
     "name": "stdout",
     "output_type": "stream",
     "text": [
      "Feature dimensions:  2\n",
      "Number of messages:  (79629, 2)\n",
      "Target 01 dimensions:  1\n",
      "Number of messages:  (79629,)\n"
     ]
    }
   ],
   "source": [
    "# Creating an instance\n",
    "\n",
    "campaigns = ClassifiedCampaignsGetPipeline(campaigns.campaigns_w_vertical_df,\n",
    "                                          features=campaigns.campaigns_w_vertical_df[['clean_subject', 'vertical']],\n",
    "                                          target = campaigns.campaigns_w_vertical_df['open_rate_result'])\n",
    "\n",
    "print('Feature dimensions: ', campaigns.features.ndim)\n",
    "print('Number of messages: ', campaigns.features.shape)\n",
    "\n",
    "print('Target 01 dimensions: ', campaigns.target.ndim)\n",
    "print('Number of messages: ', campaigns.target.shape)"
   ]
  },
  {
   "cell_type": "markdown",
   "id": "operational-slave",
   "metadata": {},
   "source": [
    "#### Feature Selection\n",
    "\n",
    "- Performing one-hot encoding for `vertical`.\n",
    "\n",
    "- Using countvectorizer to extract features from the text column.\n",
    "\n",
    "Steps:\n",
    "\n",
    "- Get categorical and text transfomers.\n",
    "- Splitting in train and text datasets.\n",
    "- Applying the transformers to features using `ColumnTransformer`."
   ]
  },
  {
   "cell_type": "markdown",
   "id": "looking-tackle",
   "metadata": {},
   "source": [
    "#### Getting transformers"
   ]
  },
  {
   "cell_type": "code",
   "execution_count": 22,
   "id": "colored-spelling",
   "metadata": {},
   "outputs": [
    {
     "data": {
      "text/plain": [
       "Pipeline(steps=[('cat_imputer', SimpleImputer(strategy='constant')),\n",
       "                ('cat_ohe', OneHotEncoder(handle_unknown='ignore'))])"
      ]
     },
     "execution_count": 22,
     "metadata": {},
     "output_type": "execute_result"
    }
   ],
   "source": [
    "# Getting the transformer for the categorical variables\n",
    "\n",
    "cat_transformer = campaigns.get_cat_transformer()\n",
    "cat_transformer"
   ]
  },
  {
   "cell_type": "code",
   "execution_count": 23,
   "id": "spectacular-pendant",
   "metadata": {},
   "outputs": [
    {
     "data": {
      "text/plain": [
       "Pipeline(steps=[('text_bow', CountVectorizer())])"
      ]
     },
     "execution_count": 23,
     "metadata": {},
     "output_type": "execute_result"
    }
   ],
   "source": [
    "# Getting the transformer for the text variables\n",
    "\n",
    "text_transformer = campaigns.get_text_transformer()\n",
    "text_transformer"
   ]
  },
  {
   "cell_type": "markdown",
   "id": "recorded-enzyme",
   "metadata": {},
   "source": [
    "#### Applying the transformers to features using `ColumnTransformer`"
   ]
  },
  {
   "cell_type": "code",
   "execution_count": 24,
   "id": "opponent-heaven",
   "metadata": {},
   "outputs": [
    {
     "data": {
      "text/plain": [
       "ColumnTransformer(transformers=[('cat',\n",
       "                                 Pipeline(steps=[('cat_imputer',\n",
       "                                                  SimpleImputer(strategy='constant')),\n",
       "                                                 ('cat_ohe',\n",
       "                                                  OneHotEncoder(handle_unknown='ignore'))]),\n",
       "                                 ['vertical']),\n",
       "                                ('text',\n",
       "                                 Pipeline(steps=[('text_bow',\n",
       "                                                  CountVectorizer())]),\n",
       "                                 'clean_subject')])"
      ]
     },
     "execution_count": 24,
     "metadata": {},
     "output_type": "execute_result"
    }
   ],
   "source": [
    "# Getting the column_transformer \n",
    "\n",
    "ct = campaigns.get_column_transformer(cat_transformer, text_transformer, 'clean_subject')\n",
    "ct"
   ]
  },
  {
   "cell_type": "markdown",
   "id": "forbidden-division",
   "metadata": {},
   "source": [
    "#### Splitting the dataset and fitting ColumnTransformer to the Pipeline"
   ]
  },
  {
   "cell_type": "code",
   "execution_count": 25,
   "id": "strong-turkey",
   "metadata": {},
   "outputs": [
    {
     "name": "stdout",
     "output_type": "stream",
     "text": [
      "<class 'pandas.core.frame.DataFrame'>\n",
      "<class 'pandas.core.frame.DataFrame'>\n",
      "<class 'pandas.core.series.Series'>\n",
      "<class 'pandas.core.series.Series'>\n",
      "(71666, 2) (71666,)\n",
      "(7963, 2) (7963,)\n"
     ]
    }
   ],
   "source": [
    "features_train, features_test, target_train, target_test = campaigns.train_test_splitter()\n",
    "\n",
    "print(type(features_train))\n",
    "print(type(features_test))\n",
    "print(type(target_train))\n",
    "print(type(target_test))\n",
    "\n",
    "print(features_train.shape, target_train.shape)\n",
    "print(features_test.shape, target_test.shape)"
   ]
  },
  {
   "cell_type": "code",
   "execution_count": 26,
   "id": "loaded-ocean",
   "metadata": {},
   "outputs": [
    {
     "data": {
      "text/plain": [
       "Pipeline(steps=[('feature_engineer',\n",
       "                 ColumnTransformer(transformers=[('cat',\n",
       "                                                  Pipeline(steps=[('cat_imputer',\n",
       "                                                                   SimpleImputer(strategy='constant')),\n",
       "                                                                  ('cat_ohe',\n",
       "                                                                   OneHotEncoder(handle_unknown='ignore'))]),\n",
       "                                                  ['vertical']),\n",
       "                                                 ('text',\n",
       "                                                  Pipeline(steps=[('text_bow',\n",
       "                                                                   CountVectorizer())]),\n",
       "                                                  'clean_subject')])),\n",
       "                ('LR', LogisticRegression())])"
      ]
     },
     "execution_count": 26,
     "metadata": {},
     "output_type": "execute_result"
    }
   ],
   "source": [
    "pipeline = campaigns.get_pipeline(ct)\n",
    "pipeline"
   ]
  },
  {
   "cell_type": "markdown",
   "id": "intense-collins",
   "metadata": {},
   "source": [
    "### 5. Predicting Targets\n",
    "\n",
    "#### Fit and Predict"
   ]
  },
  {
   "cell_type": "code",
   "execution_count": 27,
   "id": "younger-depression",
   "metadata": {},
   "outputs": [],
   "source": [
    "model = pipeline.fit(features_train, target_train)"
   ]
  },
  {
   "cell_type": "code",
   "execution_count": 28,
   "id": "disabled-yorkshire",
   "metadata": {},
   "outputs": [
    {
     "data": {
      "text/plain": [
       "Pipeline(steps=[('feature_engineer',\n",
       "                 ColumnTransformer(transformers=[('cat',\n",
       "                                                  Pipeline(steps=[('cat_imputer',\n",
       "                                                                   SimpleImputer(strategy='constant')),\n",
       "                                                                  ('cat_ohe',\n",
       "                                                                   OneHotEncoder(handle_unknown='ignore'))]),\n",
       "                                                  ['vertical']),\n",
       "                                                 ('text',\n",
       "                                                  Pipeline(steps=[('text_bow',\n",
       "                                                                   CountVectorizer())]),\n",
       "                                                  'clean_subject')])),\n",
       "                ('LR', LogisticRegression())])"
      ]
     },
     "execution_count": 28,
     "metadata": {},
     "output_type": "execute_result"
    }
   ],
   "source": [
    "model"
   ]
  },
  {
   "cell_type": "code",
   "execution_count": 29,
   "id": "affecting-translation",
   "metadata": {},
   "outputs": [],
   "source": [
    "predictions = pipeline.predict(features_test)"
   ]
  },
  {
   "cell_type": "code",
   "execution_count": 30,
   "id": "impaired-society",
   "metadata": {},
   "outputs": [
    {
     "data": {
      "text/plain": [
       "array([ True, False, False, ..., False, False, False])"
      ]
     },
     "execution_count": 30,
     "metadata": {},
     "output_type": "execute_result"
    }
   ],
   "source": [
    "predictions"
   ]
  },
  {
   "cell_type": "markdown",
   "id": "round-profit",
   "metadata": {},
   "source": [
    "### 6. Evaluating Performance\n",
    "\n",
    "- We want to avoid treating true 0s as 1s.\n",
    "- We want a classifier which predicts more 0s.\n",
    "\n",
    "- Eval. criteria:\n",
    "\n",
    "    - Predictions.mean shoudn't be greater than target_test.mean\n",
    "    - Improve **precision** score.\n",
    "    "
   ]
  },
  {
   "cell_type": "code",
   "execution_count": 31,
   "id": "labeled-hunter",
   "metadata": {},
   "outputs": [],
   "source": [
    "evaluation = MainModelEvaluator(target_test, predictions)"
   ]
  },
  {
   "cell_type": "code",
   "execution_count": 32,
   "id": "bottom-detective",
   "metadata": {},
   "outputs": [
    {
     "data": {
      "text/plain": [
       "False"
      ]
     },
     "execution_count": 32,
     "metadata": {},
     "output_type": "execute_result"
    }
   ],
   "source": [
    "evaluation.predictions_mean > evaluation.target_test_mean"
   ]
  },
  {
   "cell_type": "code",
   "execution_count": 33,
   "id": "mighty-hearts",
   "metadata": {},
   "outputs": [
    {
     "data": {
      "text/plain": [
       "0.40261208087404243"
      ]
     },
     "execution_count": 33,
     "metadata": {},
     "output_type": "execute_result"
    }
   ],
   "source": [
    "evaluation.predictions_mean"
   ]
  },
  {
   "cell_type": "code",
   "execution_count": 34,
   "id": "excessive-makeup",
   "metadata": {},
   "outputs": [
    {
     "data": {
      "text/plain": [
       "0.4450583950772322"
      ]
     },
     "execution_count": 34,
     "metadata": {},
     "output_type": "execute_result"
    }
   ],
   "source": [
    "evaluation.target_test_mean"
   ]
  },
  {
   "cell_type": "markdown",
   "id": "japanese-tractor",
   "metadata": {},
   "source": [
    "- **Accuracy**:\n",
    "\n",
    "A first approximation could be the % of examples that we got right."
   ]
  },
  {
   "cell_type": "code",
   "execution_count": 35,
   "id": "right-anderson",
   "metadata": {},
   "outputs": [
    {
     "name": "stdout",
     "output_type": "stream",
     "text": [
      "accuracy 71.34245887228433\n"
     ]
    }
   ],
   "source": [
    "print('accuracy %s' % evaluation.get_accuracy_score(evaluation.target_test))"
   ]
  },
  {
   "cell_type": "markdown",
   "id": "improved-emphasis",
   "metadata": {},
   "source": [
    "- **Confusion Matrix**:"
   ]
  },
  {
   "cell_type": "code",
   "execution_count": 36,
   "id": "generous-brunei",
   "metadata": {},
   "outputs": [
    {
     "name": "stdout",
     "output_type": "stream",
     "text": [
      "\n",
      "Confusion Matrix\n",
      "======================================================\n",
      "\n",
      " [[3447  972]\n",
      " [1310 2234]]\n"
     ]
    }
   ],
   "source": [
    "tn, fp, fn, tp = evaluation.get_confusion_matrix(evaluation.target_test)"
   ]
  },
  {
   "cell_type": "code",
   "execution_count": 37,
   "id": "chemical-founder",
   "metadata": {},
   "outputs": [
    {
     "data": {
      "text/plain": [
       "3447"
      ]
     },
     "execution_count": 37,
     "metadata": {},
     "output_type": "execute_result"
    }
   ],
   "source": [
    "tn"
   ]
  },
  {
   "cell_type": "code",
   "execution_count": 38,
   "id": "mechanical-internet",
   "metadata": {},
   "outputs": [
    {
     "data": {
      "text/plain": [
       "2234"
      ]
     },
     "execution_count": 38,
     "metadata": {},
     "output_type": "execute_result"
    }
   ],
   "source": [
    "tp"
   ]
  },
  {
   "cell_type": "code",
   "execution_count": 39,
   "id": "judicial-animation",
   "metadata": {},
   "outputs": [
    {
     "data": {
      "text/plain": [
       "1310"
      ]
     },
     "execution_count": 39,
     "metadata": {},
     "output_type": "execute_result"
    }
   ],
   "source": [
    "fn"
   ]
  },
  {
   "cell_type": "code",
   "execution_count": 40,
   "id": "optimum-richards",
   "metadata": {},
   "outputs": [
    {
     "data": {
      "text/plain": [
       "972"
      ]
     },
     "execution_count": 40,
     "metadata": {},
     "output_type": "execute_result"
    }
   ],
   "source": [
    "fp"
   ]
  },
  {
   "cell_type": "markdown",
   "id": "experimental-advance",
   "metadata": {},
   "source": [
    "- Overall, we want to improve **precision score**:"
   ]
  },
  {
   "cell_type": "code",
   "execution_count": 41,
   "id": "desirable-wiring",
   "metadata": {},
   "outputs": [
    {
     "data": {
      "text/plain": [
       "63.036117381489845"
      ]
     },
     "execution_count": 41,
     "metadata": {},
     "output_type": "execute_result"
    }
   ],
   "source": [
    "evaluation.get_recall_score(evaluation.target_test)"
   ]
  },
  {
   "cell_type": "code",
   "execution_count": 42,
   "id": "young-helena",
   "metadata": {},
   "outputs": [
    {
     "data": {
      "text/plain": [
       "69.68184653774173"
      ]
     },
     "execution_count": 42,
     "metadata": {},
     "output_type": "execute_result"
    }
   ],
   "source": [
    "evaluation.get_precision_score(evaluation.target_test)"
   ]
  },
  {
   "cell_type": "markdown",
   "id": "quantitative-marketing",
   "metadata": {},
   "source": [
    "#### Saving the model"
   ]
  },
  {
   "cell_type": "code",
   "execution_count": 43,
   "id": "recorded-invitation",
   "metadata": {},
   "outputs": [],
   "source": [
    "import pickle\n",
    "\n",
    "with open('../../../datasets/pipelines/main_model_target_01_pipeline', 'wb') as f:\n",
    "            pickle.dump(model, f)"
   ]
  },
  {
   "cell_type": "code",
   "execution_count": 44,
   "id": "accurate-accounting",
   "metadata": {},
   "outputs": [],
   "source": [
    "#model = None\n",
    "\n",
    "# with open('../../../datasets/main_model_target_01_pipeline', 'rb') as f:\n",
    "            \n",
    "#            model = pickle.load(f)"
   ]
  },
  {
   "cell_type": "markdown",
   "id": "applied-snake",
   "metadata": {},
   "source": [
    "#### Predicting and evaluating performance of  target 02 and target 03: `ctr_result` and `ctor_result`"
   ]
  },
  {
   "cell_type": "code",
   "execution_count": 45,
   "id": "controversial-script",
   "metadata": {},
   "outputs": [
    {
     "name": "stdout",
     "output_type": "stream",
     "text": [
      "/Users/danielaperezduro/Desktop/TFM/emailmarketingwnlp/notebooks/03_Scripts\n"
     ]
    }
   ],
   "source": [
    "cd ../03_Scripts/"
   ]
  },
  {
   "cell_type": "markdown",
   "id": "written-means",
   "metadata": {},
   "source": [
    "#### Target 2: `ctr_result`"
   ]
  },
  {
   "cell_type": "code",
   "execution_count": 46,
   "id": "fluid-steal",
   "metadata": {},
   "outputs": [
    {
     "name": "stdout",
     "output_type": "stream",
     "text": [
      "Predictions mean:  0.4047469546653271\r\n",
      "Target Test:  0.4361421574783373\r\n",
      "Predictions mean is not greater than target test mean\r\n",
      "accuracy 77.42057013688309\r\n",
      "\r\n",
      "Confusion Matrix\r\n",
      "======================================================\r\n",
      "\r\n",
      " [[3716  774]\r\n",
      " [1024 2449]]\r\n",
      "True Negatives:  3716\r\n",
      "True Positives:  2449\r\n",
      "False Negatives  1024\r\n",
      "False Positives:  774\r\n",
      "Recall Score:  70.51540454938093\r\n",
      "Precision Score:  75.98510704312751\r\n"
     ]
    }
   ],
   "source": [
    "!python 09_second_model_pipeline.py --input_root ../../../datasets/output/sample_01/output_09/ --input_file es.csv --features clean_message vertical --target ctr_result --text_column clean_message --pickle_file ../../../datasets/pipelines/main_model_target_02_pipeline "
   ]
  },
  {
   "cell_type": "markdown",
   "id": "strong-instruction",
   "metadata": {},
   "source": [
    "#### Target 3: `ctor_result`"
   ]
  },
  {
   "cell_type": "code",
   "execution_count": 47,
   "id": "loved-secretary",
   "metadata": {},
   "outputs": [
    {
     "name": "stdout",
     "output_type": "stream",
     "text": [
      "Predictions mean:  0.36192389802838126\r\n",
      "Target Test:  0.410398091171669\r\n",
      "Predictions mean is not greater than target test mean\r\n",
      "accuracy 77.04382770312696\r\n",
      "\r\n",
      "Confusion Matrix\r\n",
      "======================================================\r\n",
      "\r\n",
      " [[3974  721]\r\n",
      " [1107 2161]]\r\n",
      "True Negatives:  3974\r\n",
      "True Positives:  2161\r\n",
      "False Negatives  1107\r\n",
      "False Positives:  721\r\n",
      "Recall Score:  66.12607099143207\r\n",
      "Precision Score:  74.98265093684941\r\n"
     ]
    }
   ],
   "source": [
    "!python 09_second_model_pipeline.py --input_root ../../../datasets/output/sample_01/output_09/ --input_file es.csv --features clean_message vertical --target ctor_result --text_column clean_message --pickle_file ../../../datasets/pipelines/main_model_target_03_pipeline "
   ]
  }
 ],
 "metadata": {
  "kernelspec": {
   "display_name": "Python 3",
   "language": "python",
   "name": "python3"
  },
  "language_info": {
   "codemirror_mode": {
    "name": "ipython",
    "version": 3
   },
   "file_extension": ".py",
   "mimetype": "text/x-python",
   "name": "python",
   "nbconvert_exporter": "python",
   "pygments_lexer": "ipython3",
   "version": "3.8.8"
  }
 },
 "nbformat": 4,
 "nbformat_minor": 5
}
