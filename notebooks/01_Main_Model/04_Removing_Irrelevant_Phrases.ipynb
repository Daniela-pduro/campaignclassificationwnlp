{
 "cells": [
  {
   "cell_type": "markdown",
   "metadata": {},
   "source": [
    "# Email Marketing Campaigns Optimization Model with NLP\n",
    "\n",
    "### Jupyter Notebook 4/10"
   ]
  },
  {
   "cell_type": "markdown",
   "metadata": {},
   "source": [
    "#### Importing classes from the module `campaigns`"
   ]
  },
  {
   "cell_type": "code",
   "execution_count": 1,
   "metadata": {},
   "outputs": [],
   "source": [
    "import sys\n",
    "sys.path.append('..')\n",
    "\n",
    "\n",
    "import warnings\n",
    "warnings.filterwarnings('ignore')\n",
    "\n",
    "# Get files\n",
    "from campaigns.getinputdata import CampaignsAfterEDAFileGetInfo\n",
    "\n",
    "# Feature Engineering\n",
    "from campaigns.modeling.preprocessing import IrrelevantPhrasesRemover"
   ]
  },
  {
   "cell_type": "markdown",
   "metadata": {},
   "source": [
    "#### Getting input"
   ]
  },
  {
   "cell_type": "code",
   "execution_count": 2,
   "metadata": {},
   "outputs": [],
   "source": [
    "# Creating an instance\n",
    "\n",
    "vertical_model = CampaignsAfterEDAFileGetInfo(dataroot='../../../datasets/output/sample_01/', datafile='output_03.csv')"
   ]
  },
  {
   "cell_type": "markdown",
   "metadata": {},
   "source": [
    "#### 4.2.3. Removing noisy data\n",
    "\n",
    "- Detecting irrelevant n-grams and deleting them."
   ]
  },
  {
   "cell_type": "code",
   "execution_count": 3,
   "metadata": {},
   "outputs": [
    {
     "name": "stdout",
     "output_type": "stream",
     "text": [
      "1. Number of seconds since it started running: 2.1457672119140625e-06\n",
      "2. Campaigns shape before removing irrelevant phrases: (98613, 15)\n",
      "3. Removing empty messages\n",
      "4. Number of words before removing irrelevant phrases:  28552461\n",
      "5. Starting the process of removing irrelevant phrases from messages\n",
      "6. File appended\n",
      "7. Applying the remove_template method over the dataframe\n",
      "8. Number of words after having removed irrelevant phrases:  27176319\n",
      "9. Number of words removed:  1376142\n",
      "10. Campaigns shape after having removed empty messages: (97342, 15)\n",
      "11. Number of words after having removed empty messages:  27175050\n",
      "12. Number of seconds since it started running: 1537.2263629436493\n"
     ]
    }
   ],
   "source": [
    "# Creating an instance\n",
    "\n",
    "vertical_model = IrrelevantPhrasesRemover(vertical_model.campaigns_df, '../../../corpora/irrelevant.txt')"
   ]
  },
  {
   "cell_type": "code",
   "execution_count": 4,
   "metadata": {},
   "outputs": [
    {
     "name": "stdout",
     "output_type": "stream",
     "text": [
      "1. Number of seconds since it started running: 9.5367431640625e-07\n",
      "2. Campaigns shape before removing irrelevant phrases: (97342, 15)\n",
      "3. Removing empty messages\n",
      "4. Number of words before removing irrelevant phrases:  27175050\n",
      "5. Starting the process of removing irrelevant phrases from messages\n",
      "6. File appended\n",
      "7. Applying the remove_template method over the dataframe\n",
      "8. Number of words after having removed irrelevant phrases:  26842889\n",
      "9. Number of words removed:  332161\n",
      "10. Campaigns shape after having removed empty messages: (97263, 15)\n",
      "11. Number of words after having removed empty messages:  26842810\n",
      "12. Number of seconds since it started running: 812.3907127380371\n"
     ]
    }
   ],
   "source": [
    "vertical_model = IrrelevantPhrasesRemover(vertical_model.campaigns_df, '../../../corpora/irrelevant_02.txt')"
   ]
  },
  {
   "cell_type": "code",
   "execution_count": 5,
   "metadata": {},
   "outputs": [
    {
     "name": "stdout",
     "output_type": "stream",
     "text": [
      "1. Number of seconds since it started running: 1.9073486328125e-06\n",
      "2. Campaigns shape before removing irrelevant phrases: (97263, 15)\n",
      "3. Removing empty messages\n",
      "4. Number of words before removing irrelevant phrases:  26842810\n",
      "5. Starting the process of removing irrelevant phrases from messages\n",
      "6. File appended\n",
      "7. Applying the remove_template method over the dataframe\n",
      "8. Number of words after having removed irrelevant phrases:  26755147\n",
      "9. Number of words removed:  87663\n",
      "10. Campaigns shape after having removed empty messages: (97263, 15)\n",
      "11. Number of words after having removed empty messages:  26755147\n",
      "12. Number of seconds since it started running: 761.8390960693359\n"
     ]
    }
   ],
   "source": [
    "vertical_model = IrrelevantPhrasesRemover(vertical_model.campaigns_df, '../../../corpora/irrelevant_03.txt')"
   ]
  },
  {
   "cell_type": "code",
   "execution_count": 6,
   "metadata": {},
   "outputs": [
    {
     "name": "stdout",
     "output_type": "stream",
     "text": [
      "1. Number of seconds since it started running: 9.5367431640625e-07\n",
      "2. Campaigns shape before removing irrelevant phrases: (97263, 15)\n",
      "3. Removing empty messages\n",
      "4. Number of words before removing irrelevant phrases:  26755147\n",
      "5. Starting the process of removing irrelevant phrases from messages\n",
      "6. File appended\n",
      "7. Applying the remove_template method over the dataframe\n",
      "8. Number of words after having removed irrelevant phrases:  26682737\n",
      "9. Number of words removed:  72410\n",
      "10. Campaigns shape after having removed empty messages: (97263, 15)\n",
      "11. Number of words after having removed empty messages:  26682737\n",
      "12. Number of seconds since it started running: 894.8203430175781\n"
     ]
    }
   ],
   "source": [
    "vertical_model = IrrelevantPhrasesRemover(vertical_model.campaigns_df, '../../../corpora/irrelevant_04.txt')"
   ]
  },
  {
   "cell_type": "code",
   "execution_count": 7,
   "metadata": {},
   "outputs": [
    {
     "name": "stdout",
     "output_type": "stream",
     "text": [
      "1. Number of seconds since it started running: 1.5020370483398438e-05\n",
      "2. Campaigns shape before removing irrelevant phrases: (97263, 15)\n",
      "3. Removing empty messages\n",
      "4. Number of words before removing irrelevant phrases:  26682737\n",
      "5. Starting the process of removing irrelevant phrases from messages\n",
      "6. File appended\n",
      "7. Applying the remove_template method over the dataframe\n",
      "8. Number of words after having removed irrelevant phrases:  26497792\n",
      "9. Number of words removed:  184945\n",
      "10. Campaigns shape after having removed empty messages: (97261, 15)\n",
      "11. Number of words after having removed empty messages:  26497790\n",
      "12. Number of seconds since it started running: 870.5802659988403\n"
     ]
    }
   ],
   "source": [
    "vertical_model = IrrelevantPhrasesRemover(vertical_model.campaigns_df, '../../../corpora/irrelevant_05.txt')"
   ]
  },
  {
   "cell_type": "code",
   "execution_count": 8,
   "metadata": {},
   "outputs": [
    {
     "name": "stdout",
     "output_type": "stream",
     "text": [
      "1. Number of seconds since it started running: 1.1920928955078125e-06\n",
      "2. Campaigns shape before removing irrelevant phrases: (97261, 15)\n",
      "3. Removing empty messages\n",
      "4. Number of words before removing irrelevant phrases:  26497790\n",
      "5. Starting the process of removing irrelevant phrases from messages\n",
      "6. File appended\n",
      "7. Applying the remove_template method over the dataframe\n",
      "8. Number of words after having removed irrelevant phrases:  26424727\n",
      "9. Number of words removed:  73063\n",
      "10. Campaigns shape after having removed empty messages: (97261, 15)\n",
      "11. Number of words after having removed empty messages:  26424727\n",
      "12. Number of seconds since it started running: 818.9745149612427\n"
     ]
    }
   ],
   "source": [
    "vertical_model = IrrelevantPhrasesRemover(vertical_model.campaigns_df, '../../../corpora/irrelevant_06.txt')"
   ]
  },
  {
   "cell_type": "code",
   "execution_count": 9,
   "metadata": {},
   "outputs": [
    {
     "name": "stdout",
     "output_type": "stream",
     "text": [
      "1. Number of seconds since it started running: 1.0967254638671875e-05\n",
      "2. Campaigns shape before removing irrelevant phrases: (97261, 15)\n",
      "3. Removing empty messages\n",
      "4. Number of words before removing irrelevant phrases:  26424727\n",
      "5. Starting the process of removing irrelevant phrases from messages\n",
      "6. File appended\n",
      "7. Applying the remove_template method over the dataframe\n",
      "8. Number of words after having removed irrelevant phrases:  26400039\n",
      "9. Number of words removed:  24688\n",
      "10. Campaigns shape after having removed empty messages: (97261, 15)\n",
      "11. Number of words after having removed empty messages:  26400039\n",
      "12. Number of seconds since it started running: 839.2674136161804\n"
     ]
    }
   ],
   "source": [
    "vertical_model = IrrelevantPhrasesRemover(vertical_model.campaigns_df, '../../../corpora/irrelevant_07.txt')"
   ]
  },
  {
   "cell_type": "code",
   "execution_count": 10,
   "metadata": {},
   "outputs": [
    {
     "name": "stdout",
     "output_type": "stream",
     "text": [
      "1. Number of seconds since it started running: 3.0994415283203125e-06\n",
      "2. Campaigns shape before removing irrelevant phrases: (97261, 15)\n",
      "3. Removing empty messages\n",
      "4. Number of words before removing irrelevant phrases:  26400039\n",
      "5. Starting the process of removing irrelevant phrases from messages\n",
      "6. File appended\n",
      "7. Applying the remove_template method over the dataframe\n",
      "8. Number of words after having removed irrelevant phrases:  26373797\n",
      "9. Number of words removed:  26242\n",
      "10. Campaigns shape after having removed empty messages: (97256, 15)\n",
      "11. Number of words after having removed empty messages:  26373792\n",
      "12. Number of seconds since it started running: 835.2083871364594\n"
     ]
    }
   ],
   "source": [
    "vertical_model = IrrelevantPhrasesRemover(vertical_model.campaigns_df, '../../../corpora/irrelevant_08.txt')"
   ]
  },
  {
   "cell_type": "code",
   "execution_count": 11,
   "metadata": {},
   "outputs": [
    {
     "name": "stdout",
     "output_type": "stream",
     "text": [
      "1. Number of seconds since it started running: 1.6689300537109375e-06\n",
      "2. Campaigns shape before removing irrelevant phrases: (97256, 15)\n",
      "3. Removing empty messages\n",
      "4. Number of words before removing irrelevant phrases:  26373792\n",
      "5. Starting the process of removing irrelevant phrases from messages\n",
      "6. File appended\n",
      "7. Applying the remove_template method over the dataframe\n",
      "8. Number of words after having removed irrelevant phrases:  26254094\n",
      "9. Number of words removed:  119698\n",
      "10. Campaigns shape after having removed empty messages: (97256, 15)\n",
      "11. Number of words after having removed empty messages:  26254094\n",
      "12. Number of seconds since it started running: 872.2448687553406\n"
     ]
    }
   ],
   "source": [
    "vertical_model = IrrelevantPhrasesRemover(vertical_model.campaigns_df, '../../../corpora/irrelevant_09.txt')"
   ]
  },
  {
   "cell_type": "code",
   "execution_count": 12,
   "metadata": {},
   "outputs": [
    {
     "name": "stdout",
     "output_type": "stream",
     "text": [
      "1. Number of seconds since it started running: 1.6689300537109375e-06\n",
      "2. Campaigns shape before removing irrelevant phrases: (97256, 15)\n",
      "3. Removing empty messages\n",
      "4. Number of words before removing irrelevant phrases:  26254094\n",
      "5. Starting the process of removing irrelevant phrases from messages\n",
      "6. File appended\n",
      "7. Applying the remove_template method over the dataframe\n",
      "8. Number of words after having removed irrelevant phrases:  26060089\n",
      "9. Number of words removed:  194005\n",
      "10. Campaigns shape after having removed empty messages: (97246, 15)\n",
      "11. Number of words after having removed empty messages:  26060079\n",
      "12. Number of seconds since it started running: 794.6415579319\n"
     ]
    }
   ],
   "source": [
    "vertical_model = IrrelevantPhrasesRemover(vertical_model.campaigns_df, '../../../corpora/irrelevant_10.txt')"
   ]
  },
  {
   "cell_type": "code",
   "execution_count": 13,
   "metadata": {},
   "outputs": [
    {
     "name": "stdout",
     "output_type": "stream",
     "text": [
      "1. Number of seconds since it started running: 1.6689300537109375e-06\n",
      "2. Campaigns shape before removing irrelevant phrases: (97246, 15)\n",
      "3. Removing empty messages\n",
      "4. Number of words before removing irrelevant phrases:  26060079\n",
      "5. Starting the process of removing irrelevant phrases from messages\n",
      "6. File appended\n",
      "7. Applying the remove_template method over the dataframe\n",
      "8. Number of words after having removed irrelevant phrases:  25879202\n",
      "9. Number of words removed:  180877\n",
      "10. Campaigns shape after having removed empty messages: (97246, 15)\n",
      "11. Number of words after having removed empty messages:  25879202\n",
      "12. Number of seconds since it started running: 486.1416299343109\n"
     ]
    }
   ],
   "source": [
    "vertical_model = IrrelevantPhrasesRemover(vertical_model.campaigns_df, '../../../corpora/irrelevant_11.txt')"
   ]
  },
  {
   "cell_type": "code",
   "execution_count": 14,
   "metadata": {},
   "outputs": [
    {
     "name": "stdout",
     "output_type": "stream",
     "text": [
      "1. Number of seconds since it started running: 1.9073486328125e-06\n",
      "2. Campaigns shape before removing irrelevant phrases: (97246, 15)\n",
      "3. Removing empty messages\n",
      "4. Number of words before removing irrelevant phrases:  25879202\n",
      "5. Starting the process of removing irrelevant phrases from messages\n",
      "6. File appended\n",
      "7. Applying the remove_template method over the dataframe\n",
      "8. Number of words after having removed irrelevant phrases:  25751308\n",
      "9. Number of words removed:  127894\n",
      "10. Campaigns shape after having removed empty messages: (97246, 15)\n",
      "11. Number of words after having removed empty messages:  25751308\n",
      "12. Number of seconds since it started running: 558.3403358459473\n"
     ]
    }
   ],
   "source": [
    "vertical_model = IrrelevantPhrasesRemover(vertical_model.campaigns_df, '../../../corpora/irrelevant_12.txt')"
   ]
  },
  {
   "cell_type": "code",
   "execution_count": 15,
   "metadata": {},
   "outputs": [
    {
     "name": "stdout",
     "output_type": "stream",
     "text": [
      "1. Number of seconds since it started running: 9.5367431640625e-07\n",
      "2. Campaigns shape before removing irrelevant phrases: (97246, 15)\n",
      "3. Removing empty messages\n",
      "4. Number of words before removing irrelevant phrases:  25751308\n",
      "5. Starting the process of removing irrelevant phrases from messages\n",
      "6. File appended\n",
      "7. Applying the remove_template method over the dataframe\n",
      "8. Number of words after having removed irrelevant phrases:  25724718\n",
      "9. Number of words removed:  26590\n",
      "10. Campaigns shape after having removed empty messages: (97246, 15)\n",
      "11. Number of words after having removed empty messages:  25724718\n",
      "12. Number of seconds since it started running: 574.9970722198486\n"
     ]
    }
   ],
   "source": [
    "vertical_model = IrrelevantPhrasesRemover(vertical_model.campaigns_df, '../../../corpora/irrelevant_13.txt')"
   ]
  },
  {
   "cell_type": "code",
   "execution_count": 16,
   "metadata": {},
   "outputs": [
    {
     "name": "stdout",
     "output_type": "stream",
     "text": [
      "1. Number of seconds since it started running: 2.86102294921875e-06\n",
      "2. Campaigns shape before removing irrelevant phrases: (97246, 15)\n",
      "3. Removing empty messages\n",
      "4. Number of words before removing irrelevant phrases:  25724718\n",
      "5. Starting the process of removing irrelevant phrases from messages\n",
      "6. File appended\n",
      "7. Applying the remove_template method over the dataframe\n",
      "8. Number of words after having removed irrelevant phrases:  25693869\n",
      "9. Number of words removed:  30849\n",
      "10. Campaigns shape after having removed empty messages: (97246, 15)\n",
      "11. Number of words after having removed empty messages:  25693869\n",
      "12. Number of seconds since it started running: 587.3487958908081\n"
     ]
    }
   ],
   "source": [
    "vertical_model = IrrelevantPhrasesRemover(vertical_model.campaigns_df, '../../../corpora/irrelevant_14.txt')"
   ]
  },
  {
   "cell_type": "code",
   "execution_count": 17,
   "metadata": {},
   "outputs": [
    {
     "name": "stdout",
     "output_type": "stream",
     "text": [
      "1. Number of seconds since it started running: 1.9073486328125e-06\n",
      "2. Campaigns shape before removing irrelevant phrases: (97246, 15)\n",
      "3. Removing empty messages\n",
      "4. Number of words before removing irrelevant phrases:  25693869\n",
      "5. Starting the process of removing irrelevant phrases from messages\n",
      "6. File appended\n",
      "7. Applying the remove_template method over the dataframe\n",
      "8. Number of words after having removed irrelevant phrases:  25579657\n",
      "9. Number of words removed:  114212\n",
      "10. Campaigns shape after having removed empty messages: (97194, 15)\n",
      "11. Number of words after having removed empty messages:  25579605\n",
      "12. Number of seconds since it started running: 803.1153111457825\n"
     ]
    }
   ],
   "source": [
    "vertical_model = IrrelevantPhrasesRemover(vertical_model.campaigns_df, '../../../corpora/irrelevant_15.txt')"
   ]
  },
  {
   "cell_type": "code",
   "execution_count": 18,
   "metadata": {},
   "outputs": [
    {
     "name": "stdout",
     "output_type": "stream",
     "text": [
      "1. Number of seconds since it started running: 9.5367431640625e-07\n",
      "2. Campaigns shape before removing irrelevant phrases: (97194, 15)\n",
      "3. Removing empty messages\n",
      "4. Number of words before removing irrelevant phrases:  25579605\n",
      "5. Starting the process of removing irrelevant phrases from messages\n",
      "6. File appended\n",
      "7. Applying the remove_template method over the dataframe\n",
      "8. Number of words after having removed irrelevant phrases:  25550356\n",
      "9. Number of words removed:  29249\n",
      "10. Campaigns shape after having removed empty messages: (97194, 15)\n",
      "11. Number of words after having removed empty messages:  25550356\n",
      "12. Number of seconds since it started running: 605.232263803482\n"
     ]
    }
   ],
   "source": [
    "vertical_model = IrrelevantPhrasesRemover(vertical_model.campaigns_df, '../../../corpora/irrelevant_16.txt')"
   ]
  },
  {
   "cell_type": "code",
   "execution_count": 19,
   "metadata": {},
   "outputs": [
    {
     "name": "stdout",
     "output_type": "stream",
     "text": [
      "1. Number of seconds since it started running: 1.9073486328125e-06\n",
      "2. Campaigns shape before removing irrelevant phrases: (97194, 15)\n",
      "3. Removing empty messages\n",
      "4. Number of words before removing irrelevant phrases:  25550356\n",
      "5. Starting the process of removing irrelevant phrases from messages\n",
      "6. File appended\n",
      "7. Applying the remove_template method over the dataframe\n",
      "8. Number of words after having removed irrelevant phrases:  25346687\n",
      "9. Number of words removed:  203669\n",
      "10. Campaigns shape after having removed empty messages: (97194, 15)\n",
      "11. Number of words after having removed empty messages:  25346687\n",
      "12. Number of seconds since it started running: 601.8189060688019\n"
     ]
    }
   ],
   "source": [
    "vertical_model = IrrelevantPhrasesRemover(vertical_model.campaigns_df, '../../../corpora/irrelevant_17.txt')"
   ]
  },
  {
   "cell_type": "code",
   "execution_count": 20,
   "metadata": {},
   "outputs": [
    {
     "name": "stdout",
     "output_type": "stream",
     "text": [
      "1. Number of seconds since it started running: 1.1920928955078125e-06\n",
      "2. Campaigns shape before removing irrelevant phrases: (97194, 15)\n",
      "3. Removing empty messages\n",
      "4. Number of words before removing irrelevant phrases:  25346687\n",
      "5. Starting the process of removing irrelevant phrases from messages\n",
      "6. File appended\n",
      "7. Applying the remove_template method over the dataframe\n",
      "8. Number of words after having removed irrelevant phrases:  25297777\n",
      "9. Number of words removed:  48910\n",
      "10. Campaigns shape after having removed empty messages: (97194, 15)\n",
      "11. Number of words after having removed empty messages:  25297777\n",
      "12. Number of seconds since it started running: 571.0870342254639\n"
     ]
    }
   ],
   "source": [
    "vertical_model = IrrelevantPhrasesRemover(vertical_model.campaigns_df, '../../../corpora/irrelevant_18.txt')"
   ]
  },
  {
   "cell_type": "code",
   "execution_count": 21,
   "metadata": {},
   "outputs": [
    {
     "name": "stdout",
     "output_type": "stream",
     "text": [
      "1. Number of seconds since it started running: 1.1920928955078125e-06\n",
      "2. Campaigns shape before removing irrelevant phrases: (97194, 15)\n",
      "3. Removing empty messages\n",
      "4. Number of words before removing irrelevant phrases:  25297777\n",
      "5. Starting the process of removing irrelevant phrases from messages\n",
      "6. File appended\n",
      "7. Applying the remove_template method over the dataframe\n",
      "8. Number of words after having removed irrelevant phrases:  25243292\n",
      "9. Number of words removed:  54485\n",
      "10. Campaigns shape after having removed empty messages: (97160, 15)\n",
      "11. Number of words after having removed empty messages:  25243258\n",
      "12. Number of seconds since it started running: 573.8246359825134\n"
     ]
    }
   ],
   "source": [
    "vertical_model = IrrelevantPhrasesRemover(vertical_model.campaigns_df, '../../../corpora/irrelevant_19.txt')"
   ]
  },
  {
   "cell_type": "code",
   "execution_count": 22,
   "metadata": {},
   "outputs": [
    {
     "name": "stdout",
     "output_type": "stream",
     "text": [
      "1. Number of seconds since it started running: 2.6226043701171875e-06\n",
      "2. Campaigns shape before removing irrelevant phrases: (97160, 15)\n",
      "3. Removing empty messages\n",
      "4. Number of words before removing irrelevant phrases:  25243258\n",
      "5. Starting the process of removing irrelevant phrases from messages\n",
      "6. File appended\n",
      "7. Applying the remove_template method over the dataframe\n",
      "8. Number of words after having removed irrelevant phrases:  25212772\n",
      "9. Number of words removed:  30486\n",
      "10. Campaigns shape after having removed empty messages: (97160, 15)\n",
      "11. Number of words after having removed empty messages:  25212772\n",
      "12. Number of seconds since it started running: 583.1894237995148\n"
     ]
    }
   ],
   "source": [
    "vertical_model = IrrelevantPhrasesRemover(vertical_model.campaigns_df, '../../../corpora/irrelevant_20.txt')"
   ]
  },
  {
   "cell_type": "code",
   "execution_count": 23,
   "metadata": {},
   "outputs": [
    {
     "name": "stdout",
     "output_type": "stream",
     "text": [
      "1. Number of seconds since it started running: 1.9073486328125e-06\n",
      "2. Campaigns shape before removing irrelevant phrases: (97160, 15)\n",
      "3. Removing empty messages\n",
      "4. Number of words before removing irrelevant phrases:  25212772\n",
      "5. Starting the process of removing irrelevant phrases from messages\n",
      "6. File appended\n",
      "7. Applying the remove_template method over the dataframe\n",
      "8. Number of words after having removed irrelevant phrases:  25168049\n",
      "9. Number of words removed:  44723\n",
      "10. Campaigns shape after having removed empty messages: (97160, 15)\n",
      "11. Number of words after having removed empty messages:  25168049\n",
      "12. Number of seconds since it started running: 601.835932970047\n"
     ]
    }
   ],
   "source": [
    "vertical_model = IrrelevantPhrasesRemover(vertical_model.campaigns_df, '../../../corpora/irrelevant_21.txt')"
   ]
  },
  {
   "cell_type": "code",
   "execution_count": 24,
   "metadata": {},
   "outputs": [
    {
     "name": "stdout",
     "output_type": "stream",
     "text": [
      "1. Number of seconds since it started running: 2.86102294921875e-06\n",
      "2. Campaigns shape before removing irrelevant phrases: (97160, 15)\n",
      "3. Removing empty messages\n",
      "4. Number of words before removing irrelevant phrases:  25168049\n",
      "5. Starting the process of removing irrelevant phrases from messages\n",
      "6. File appended\n",
      "7. Applying the remove_template method over the dataframe\n",
      "8. Number of words after having removed irrelevant phrases:  25152749\n",
      "9. Number of words removed:  15300\n",
      "10. Campaigns shape after having removed empty messages: (97160, 15)\n",
      "11. Number of words after having removed empty messages:  25152749\n",
      "12. Number of seconds since it started running: 538.8695237636566\n"
     ]
    }
   ],
   "source": [
    "vertical_model = IrrelevantPhrasesRemover(vertical_model.campaigns_df, '../../../corpora/irrelevant_22.txt')"
   ]
  },
  {
   "cell_type": "code",
   "execution_count": 25,
   "metadata": {},
   "outputs": [
    {
     "name": "stdout",
     "output_type": "stream",
     "text": [
      "1. Number of seconds since it started running: 2.1457672119140625e-06\n",
      "2. Campaigns shape before removing irrelevant phrases: (97160, 15)\n",
      "3. Removing empty messages\n",
      "4. Number of words before removing irrelevant phrases:  25152749\n",
      "5. Starting the process of removing irrelevant phrases from messages\n",
      "6. File appended\n",
      "7. Applying the remove_template method over the dataframe\n",
      "8. Number of words after having removed irrelevant phrases:  25113329\n",
      "9. Number of words removed:  39420\n",
      "10. Campaigns shape after having removed empty messages: (97160, 15)\n",
      "11. Number of words after having removed empty messages:  25113329\n",
      "12. Number of seconds since it started running: 556.6021189689636\n"
     ]
    }
   ],
   "source": [
    "vertical_model = IrrelevantPhrasesRemover(vertical_model.campaigns_df, '../../../corpora/irrelevant_23.txt')"
   ]
  },
  {
   "cell_type": "code",
   "execution_count": 26,
   "metadata": {},
   "outputs": [
    {
     "name": "stdout",
     "output_type": "stream",
     "text": [
      "1. Number of seconds since it started running: 3.0994415283203125e-06\n",
      "2. Campaigns shape before removing irrelevant phrases: (97160, 15)\n",
      "3. Removing empty messages\n",
      "4. Number of words before removing irrelevant phrases:  25113329\n",
      "5. Starting the process of removing irrelevant phrases from messages\n",
      "6. File appended\n",
      "7. Applying the remove_template method over the dataframe\n",
      "8. Number of words after having removed irrelevant phrases:  25048054\n",
      "9. Number of words removed:  65275\n",
      "10. Campaigns shape after having removed empty messages: (97151, 15)\n",
      "11. Number of words after having removed empty messages:  25048045\n",
      "12. Number of seconds since it started running: 813.2101490497589\n"
     ]
    }
   ],
   "source": [
    "vertical_model = IrrelevantPhrasesRemover(vertical_model.campaigns_df, '../../../corpora/irrelevant_24.txt')"
   ]
  },
  {
   "cell_type": "code",
   "execution_count": 27,
   "metadata": {},
   "outputs": [
    {
     "name": "stdout",
     "output_type": "stream",
     "text": [
      "1. Number of seconds since it started running: 2.1457672119140625e-06\n",
      "2. Campaigns shape before removing irrelevant phrases: (97151, 15)\n",
      "3. Removing empty messages\n",
      "4. Number of words before removing irrelevant phrases:  25048045\n",
      "5. Starting the process of removing irrelevant phrases from messages\n",
      "6. File appended\n",
      "7. Applying the remove_template method over the dataframe\n",
      "8. Number of words after having removed irrelevant phrases:  24972034\n",
      "9. Number of words removed:  76011\n",
      "10. Campaigns shape after having removed empty messages: (97149, 15)\n",
      "11. Number of words after having removed empty messages:  24972032\n",
      "12. Number of seconds since it started running: 567.4467370510101\n"
     ]
    }
   ],
   "source": [
    "vertical_model = IrrelevantPhrasesRemover(vertical_model.campaigns_df, '../../../corpora/irrelevant_25.txt')"
   ]
  },
  {
   "cell_type": "code",
   "execution_count": 28,
   "metadata": {},
   "outputs": [
    {
     "name": "stdout",
     "output_type": "stream",
     "text": [
      "1. Number of seconds since it started running: 2.1457672119140625e-06\n",
      "2. Campaigns shape before removing irrelevant phrases: (97149, 15)\n",
      "3. Removing empty messages\n",
      "4. Number of words before removing irrelevant phrases:  24972032\n",
      "5. Starting the process of removing irrelevant phrases from messages\n",
      "6. File appended\n",
      "7. Applying the remove_template method over the dataframe\n",
      "8. Number of words after having removed irrelevant phrases:  24884087\n",
      "9. Number of words removed:  87945\n",
      "10. Campaigns shape after having removed empty messages: (97060, 15)\n",
      "11. Number of words after having removed empty messages:  24883998\n",
      "12. Number of seconds since it started running: 581.5438210964203\n"
     ]
    }
   ],
   "source": [
    "vertical_model = IrrelevantPhrasesRemover(vertical_model.campaigns_df, '../../../corpora/irrelevant_26.txt')"
   ]
  },
  {
   "cell_type": "code",
   "execution_count": 29,
   "metadata": {},
   "outputs": [
    {
     "name": "stdout",
     "output_type": "stream",
     "text": [
      "1. Number of seconds since it started running: 3.0994415283203125e-06\n",
      "2. Campaigns shape before removing irrelevant phrases: (97060, 15)\n",
      "3. Removing empty messages\n",
      "4. Number of words before removing irrelevant phrases:  24883998\n",
      "5. Starting the process of removing irrelevant phrases from messages\n",
      "6. File appended\n",
      "7. Applying the remove_template method over the dataframe\n",
      "8. Number of words after having removed irrelevant phrases:  24821439\n",
      "9. Number of words removed:  62559\n",
      "10. Campaigns shape after having removed empty messages: (97056, 15)\n",
      "11. Number of words after having removed empty messages:  24821435\n",
      "12. Number of seconds since it started running: 625.4663531780243\n"
     ]
    }
   ],
   "source": [
    "vertical_model = IrrelevantPhrasesRemover(vertical_model.campaigns_df, '../../../corpora/irrelevant_27.txt')"
   ]
  },
  {
   "cell_type": "code",
   "execution_count": 30,
   "metadata": {},
   "outputs": [
    {
     "name": "stdout",
     "output_type": "stream",
     "text": [
      "1. Number of seconds since it started running: 1.9073486328125e-06\n",
      "2. Campaigns shape before removing irrelevant phrases: (97056, 15)\n",
      "3. Removing empty messages\n",
      "4. Number of words before removing irrelevant phrases:  24821435\n",
      "5. Starting the process of removing irrelevant phrases from messages\n",
      "6. File appended\n",
      "7. Applying the remove_template method over the dataframe\n",
      "8. Number of words after having removed irrelevant phrases:  24773204\n",
      "9. Number of words removed:  48231\n",
      "10. Campaigns shape after having removed empty messages: (97056, 15)\n",
      "11. Number of words after having removed empty messages:  24773204\n",
      "12. Number of seconds since it started running: 601.8088519573212\n"
     ]
    }
   ],
   "source": [
    "vertical_model = IrrelevantPhrasesRemover(vertical_model.campaigns_df, '../../../corpora/irrelevant_28.txt')"
   ]
  },
  {
   "cell_type": "code",
   "execution_count": 31,
   "metadata": {},
   "outputs": [
    {
     "name": "stdout",
     "output_type": "stream",
     "text": [
      "1. Number of seconds since it started running: 2.1457672119140625e-06\n",
      "2. Campaigns shape before removing irrelevant phrases: (97056, 15)\n",
      "3. Removing empty messages\n",
      "4. Number of words before removing irrelevant phrases:  24773204\n",
      "5. Starting the process of removing irrelevant phrases from messages\n",
      "6. File appended\n",
      "7. Applying the remove_template method over the dataframe\n",
      "8. Number of words after having removed irrelevant phrases:  24739937\n",
      "9. Number of words removed:  33267\n",
      "10. Campaigns shape after having removed empty messages: (97055, 15)\n",
      "11. Number of words after having removed empty messages:  24739936\n",
      "12. Number of seconds since it started running: 635.0289740562439\n"
     ]
    }
   ],
   "source": [
    "vertical_model = IrrelevantPhrasesRemover(vertical_model.campaigns_df, '../../../corpora/irrelevant_29.txt')"
   ]
  },
  {
   "cell_type": "code",
   "execution_count": 32,
   "metadata": {},
   "outputs": [
    {
     "name": "stdout",
     "output_type": "stream",
     "text": [
      "1. Number of seconds since it started running: 1.1920928955078125e-06\n",
      "2. Campaigns shape before removing irrelevant phrases: (97055, 15)\n",
      "3. Removing empty messages\n",
      "4. Number of words before removing irrelevant phrases:  24739936\n",
      "5. Starting the process of removing irrelevant phrases from messages\n",
      "6. File appended\n",
      "7. Applying the remove_template method over the dataframe\n",
      "8. Number of words after having removed irrelevant phrases:  24675502\n",
      "9. Number of words removed:  64434\n",
      "10. Campaigns shape after having removed empty messages: (97048, 15)\n",
      "11. Number of words after having removed empty messages:  24675495\n",
      "12. Number of seconds since it started running: 601.1662631034851\n"
     ]
    }
   ],
   "source": [
    "vertical_model = IrrelevantPhrasesRemover(vertical_model.campaigns_df, '../../../corpora/irrelevant_30.txt')"
   ]
  },
  {
   "cell_type": "code",
   "execution_count": 33,
   "metadata": {},
   "outputs": [
    {
     "name": "stdout",
     "output_type": "stream",
     "text": [
      "1. Number of seconds since it started running: 3.0994415283203125e-06\n",
      "2. Campaigns shape before removing irrelevant phrases: (97048, 15)\n",
      "3. Removing empty messages\n",
      "4. Number of words before removing irrelevant phrases:  24675495\n",
      "5. Starting the process of removing irrelevant phrases from messages\n",
      "6. File appended\n",
      "7. Applying the remove_template method over the dataframe\n",
      "8. Number of words after having removed irrelevant phrases:  24629016\n",
      "9. Number of words removed:  46479\n",
      "10. Campaigns shape after having removed empty messages: (97048, 15)\n",
      "11. Number of words after having removed empty messages:  24629016\n",
      "12. Number of seconds since it started running: 491.843896150589\n"
     ]
    }
   ],
   "source": [
    "vertical_model = IrrelevantPhrasesRemover(vertical_model.campaigns_df, '../../../corpora/irrelevant_31.txt')"
   ]
  },
  {
   "cell_type": "code",
   "execution_count": 34,
   "metadata": {},
   "outputs": [
    {
     "name": "stdout",
     "output_type": "stream",
     "text": [
      "1. Number of seconds since it started running: 2.1457672119140625e-06\n",
      "2. Campaigns shape before removing irrelevant phrases: (97048, 15)\n",
      "3. Removing empty messages\n",
      "4. Number of words before removing irrelevant phrases:  24629016\n",
      "5. Starting the process of removing irrelevant phrases from messages\n",
      "6. File appended\n",
      "7. Applying the remove_template method over the dataframe\n",
      "8. Number of words after having removed irrelevant phrases:  24597220\n",
      "9. Number of words removed:  31796\n",
      "10. Campaigns shape after having removed empty messages: (97048, 15)\n",
      "11. Number of words after having removed empty messages:  24597220\n",
      "12. Number of seconds since it started running: 592.279669046402\n"
     ]
    }
   ],
   "source": [
    "vertical_model = IrrelevantPhrasesRemover(vertical_model.campaigns_df, '../../../corpora/irrelevant_32.txt')"
   ]
  },
  {
   "cell_type": "code",
   "execution_count": 35,
   "metadata": {},
   "outputs": [
    {
     "name": "stdout",
     "output_type": "stream",
     "text": [
      "1. Number of seconds since it started running: 5.030632019042969e-05\n",
      "2. Campaigns shape before removing irrelevant phrases: (97048, 15)\n",
      "3. Removing empty messages\n",
      "4. Number of words before removing irrelevant phrases:  24597220\n",
      "5. Starting the process of removing irrelevant phrases from messages\n",
      "6. File appended\n",
      "7. Applying the remove_template method over the dataframe\n",
      "8. Number of words after having removed irrelevant phrases:  24571448\n",
      "9. Number of words removed:  25772\n",
      "10. Campaigns shape after having removed empty messages: (97048, 15)\n",
      "11. Number of words after having removed empty messages:  24571448\n",
      "12. Number of seconds since it started running: 620.6573660373688\n"
     ]
    }
   ],
   "source": [
    "vertical_model = IrrelevantPhrasesRemover(vertical_model.campaigns_df, '../../../corpora/irrelevant_33.txt')"
   ]
  },
  {
   "cell_type": "code",
   "execution_count": 36,
   "metadata": {},
   "outputs": [
    {
     "name": "stdout",
     "output_type": "stream",
     "text": [
      "1. Number of seconds since it started running: 1.9073486328125e-06\n",
      "2. Campaigns shape before removing irrelevant phrases: (97048, 15)\n",
      "3. Removing empty messages\n",
      "4. Number of words before removing irrelevant phrases:  24571448\n",
      "5. Starting the process of removing irrelevant phrases from messages\n",
      "6. File appended\n",
      "7. Applying the remove_template method over the dataframe\n",
      "8. Number of words after having removed irrelevant phrases:  24501029\n",
      "9. Number of words removed:  70419\n",
      "10. Campaigns shape after having removed empty messages: (97048, 15)\n",
      "11. Number of words after having removed empty messages:  24501029\n",
      "12. Number of seconds since it started running: 538.9334988594055\n"
     ]
    }
   ],
   "source": [
    "vertical_model = IrrelevantPhrasesRemover(vertical_model.campaigns_df, '../../../corpora/irrelevant_34.txt')"
   ]
  },
  {
   "cell_type": "code",
   "execution_count": 37,
   "metadata": {},
   "outputs": [
    {
     "name": "stdout",
     "output_type": "stream",
     "text": [
      "1. Number of seconds since it started running: 9.5367431640625e-07\n",
      "2. Campaigns shape before removing irrelevant phrases: (97048, 15)\n",
      "3. Removing empty messages\n",
      "4. Number of words before removing irrelevant phrases:  24501029\n",
      "5. Starting the process of removing irrelevant phrases from messages\n",
      "6. File appended\n",
      "7. Applying the remove_template method over the dataframe\n",
      "8. Number of words after having removed irrelevant phrases:  24481281\n",
      "9. Number of words removed:  19748\n",
      "10. Campaigns shape after having removed empty messages: (97048, 15)\n",
      "11. Number of words after having removed empty messages:  24481281\n",
      "12. Number of seconds since it started running: 535.0672290325165\n"
     ]
    }
   ],
   "source": [
    "vertical_model = IrrelevantPhrasesRemover(vertical_model.campaigns_df, '../../../corpora/irrelevant_35.txt')"
   ]
  },
  {
   "cell_type": "code",
   "execution_count": 38,
   "metadata": {},
   "outputs": [
    {
     "name": "stdout",
     "output_type": "stream",
     "text": [
      "1. Number of seconds since it started running: 1.9073486328125e-06\n",
      "2. Campaigns shape before removing irrelevant phrases: (97048, 15)\n",
      "3. Removing empty messages\n",
      "4. Number of words before removing irrelevant phrases:  24481281\n",
      "5. Starting the process of removing irrelevant phrases from messages\n",
      "6. File appended\n",
      "7. Applying the remove_template method over the dataframe\n",
      "8. Number of words after having removed irrelevant phrases:  24450134\n",
      "9. Number of words removed:  31147\n",
      "10. Campaigns shape after having removed empty messages: (97048, 15)\n",
      "11. Number of words after having removed empty messages:  24450134\n",
      "12. Number of seconds since it started running: 548.3478569984436\n"
     ]
    }
   ],
   "source": [
    "vertical_model = IrrelevantPhrasesRemover(vertical_model.campaigns_df, '../../../corpora/irrelevant_36.txt')"
   ]
  },
  {
   "cell_type": "code",
   "execution_count": 39,
   "metadata": {},
   "outputs": [
    {
     "name": "stdout",
     "output_type": "stream",
     "text": [
      "1. Number of seconds since it started running: 9.5367431640625e-07\n",
      "2. Campaigns shape before removing irrelevant phrases: (97048, 15)\n",
      "3. Removing empty messages\n",
      "4. Number of words before removing irrelevant phrases:  24450134\n",
      "5. Starting the process of removing irrelevant phrases from messages\n",
      "6. File appended\n",
      "7. Applying the remove_template method over the dataframe\n",
      "8. Number of words after having removed irrelevant phrases:  24443706\n",
      "9. Number of words removed:  6428\n",
      "10. Campaigns shape after having removed empty messages: (97048, 15)\n",
      "11. Number of words after having removed empty messages:  24443706\n",
      "12. Number of seconds since it started running: 641.4671769142151\n"
     ]
    }
   ],
   "source": [
    "vertical_model = IrrelevantPhrasesRemover(vertical_model.campaigns_df, '../../../corpora/irrelevant_37.txt')"
   ]
  },
  {
   "cell_type": "code",
   "execution_count": 40,
   "metadata": {},
   "outputs": [
    {
     "name": "stdout",
     "output_type": "stream",
     "text": [
      "1. Number of seconds since it started running: 2.1457672119140625e-06\n",
      "2. Campaigns shape before removing irrelevant phrases: (97048, 15)\n",
      "3. Removing empty messages\n",
      "4. Number of words before removing irrelevant phrases:  24443706\n",
      "5. Starting the process of removing irrelevant phrases from messages\n",
      "6. File appended\n",
      "7. Applying the remove_template method over the dataframe\n",
      "8. Number of words after having removed irrelevant phrases:  24431537\n",
      "9. Number of words removed:  12169\n",
      "10. Campaigns shape after having removed empty messages: (97048, 15)\n",
      "11. Number of words after having removed empty messages:  24431537\n",
      "12. Number of seconds since it started running: 568.3478560447693\n"
     ]
    }
   ],
   "source": [
    "vertical_model = IrrelevantPhrasesRemover(vertical_model.campaigns_df, '../../../corpora/irrelevant_38.txt')"
   ]
  },
  {
   "cell_type": "code",
   "execution_count": 41,
   "metadata": {},
   "outputs": [
    {
     "name": "stdout",
     "output_type": "stream",
     "text": [
      "1. Number of seconds since it started running: 3.0994415283203125e-06\n",
      "2. Campaigns shape before removing irrelevant phrases: (97048, 15)\n",
      "3. Removing empty messages\n",
      "4. Number of words before removing irrelevant phrases:  24431537\n",
      "5. Starting the process of removing irrelevant phrases from messages\n",
      "6. File appended\n",
      "7. Applying the remove_template method over the dataframe\n",
      "8. Number of words after having removed irrelevant phrases:  24415799\n",
      "9. Number of words removed:  15738\n",
      "10. Campaigns shape after having removed empty messages: (97048, 15)\n",
      "11. Number of words after having removed empty messages:  24415799\n",
      "12. Number of seconds since it started running: 270.66234588623047\n"
     ]
    }
   ],
   "source": [
    "vertical_model = IrrelevantPhrasesRemover(vertical_model.campaigns_df, '../../../corpora/irrelevant_39.txt')"
   ]
  },
  {
   "cell_type": "code",
   "execution_count": 42,
   "metadata": {},
   "outputs": [],
   "source": [
    "# Saving file\n",
    "\n",
    "vertical_model.save_final_df('../../../datasets/output/sample_01/', 'output_04.csv')"
   ]
  }
 ],
 "metadata": {
  "kernelspec": {
   "display_name": "Python 3",
   "language": "python",
   "name": "python3"
  },
  "language_info": {
   "codemirror_mode": {
    "name": "ipython",
    "version": 3
   },
   "file_extension": ".py",
   "mimetype": "text/x-python",
   "name": "python",
   "nbconvert_exporter": "python",
   "pygments_lexer": "ipython3",
   "version": "3.8.3"
  }
 },
 "nbformat": 4,
 "nbformat_minor": 5
}
